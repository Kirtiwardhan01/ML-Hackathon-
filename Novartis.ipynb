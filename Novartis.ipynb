{
  "nbformat": 4,
  "nbformat_minor": 0,
  "metadata": {
    "colab": {
      "name": "Novartis ",
      "provenance": [],
      "collapsed_sections": [],
      "include_colab_link": true
    },
    "kernelspec": {
      "display_name": "Python 3",
      "name": "python3"
    },
    "accelerator": "GPU"
  },
  "cells": [
    {
      "cell_type": "markdown",
      "metadata": {
        "id": "view-in-github",
        "colab_type": "text"
      },
      "source": [
        "<a href=\"https://colab.research.google.com/github/Kirtiwardhan01/ML-Hackathon-/blob/master/Novartis.ipynb\" target=\"_parent\"><img src=\"https://colab.research.google.com/assets/colab-badge.svg\" alt=\"Open In Colab\"/></a>"
      ]
    },
    {
      "cell_type": "code",
      "metadata": {
        "id": "KWrza3vJ_ryG",
        "colab_type": "code",
        "colab": {
          "base_uri": "https://localhost:8080/",
          "height": 34
        },
        "outputId": "e8aee9fd-9bde-4c39-fcf1-b7032d221c4c"
      },
      "source": [
        "from google.colab import drive\n",
        "drive.mount('/content/drive')"
      ],
      "execution_count": null,
      "outputs": [
        {
          "output_type": "stream",
          "text": [
            "Drive already mounted at /content/drive; to attempt to forcibly remount, call drive.mount(\"/content/drive\", force_remount=True).\n"
          ],
          "name": "stdout"
        }
      ]
    },
    {
      "cell_type": "code",
      "metadata": {
        "id": "Ph_WLAoU_sfl",
        "colab_type": "code",
        "colab": {
          "base_uri": "https://localhost:8080/",
          "height": 71
        },
        "outputId": "1c687ab9-039a-4071-883c-1674bcfbec77"
      },
      "source": [
        "#Importing the packages and dataset\n",
        "\n",
        "import numpy as np\n",
        "import pandas as pd\n",
        "import matplotlib.pyplot as plt\n",
        "import seaborn as sns\n",
        "\n",
        "%matplotlib inline"
      ],
      "execution_count": null,
      "outputs": [
        {
          "output_type": "stream",
          "text": [
            "/usr/local/lib/python3.6/dist-packages/statsmodels/tools/_testing.py:19: FutureWarning: pandas.util.testing is deprecated. Use the functions in the public API at pandas.testing instead.\n",
            "  import pandas.util.testing as tm\n"
          ],
          "name": "stderr"
        }
      ]
    },
    {
      "cell_type": "code",
      "metadata": {
        "id": "KZy-AQNrAUav",
        "colab_type": "code",
        "colab": {
          "base_uri": "https://localhost:8080/",
          "height": 221
        },
        "outputId": "3522e10f-d50d-44c8-a48f-95b5ce9cddb6"
      },
      "source": [
        "#Exploring the dataset\n",
        "\n",
        "train_df = pd.read_csv('/content/drive/My Drive/Novartis/Dataset/Train.csv')   #(23856, 18) \n",
        "target = train_df['MULTIPLE_OFFENSE']\n",
        "train_df.drop(['MULTIPLE_OFFENSE'],1,inplace=True)\n",
        "\n",
        "test_df = pd.read_csv('/content/drive/My Drive/Novartis/Dataset/Test.csv')     #(15903, 17)\n",
        "\n",
        "dataset = pd.concat([train_df, test_df], axis=0, sort=False)\n",
        "\n",
        "\n",
        "print(dataset.shape)\n",
        "\n",
        "dataset.head()"
      ],
      "execution_count": null,
      "outputs": [
        {
          "output_type": "stream",
          "text": [
            "(39759, 17)\n"
          ],
          "name": "stdout"
        },
        {
          "output_type": "execute_result",
          "data": {
            "text/html": [
              "<div>\n",
              "<style scoped>\n",
              "    .dataframe tbody tr th:only-of-type {\n",
              "        vertical-align: middle;\n",
              "    }\n",
              "\n",
              "    .dataframe tbody tr th {\n",
              "        vertical-align: top;\n",
              "    }\n",
              "\n",
              "    .dataframe thead th {\n",
              "        text-align: right;\n",
              "    }\n",
              "</style>\n",
              "<table border=\"1\" class=\"dataframe\">\n",
              "  <thead>\n",
              "    <tr style=\"text-align: right;\">\n",
              "      <th></th>\n",
              "      <th>INCIDENT_ID</th>\n",
              "      <th>DATE</th>\n",
              "      <th>X_1</th>\n",
              "      <th>X_2</th>\n",
              "      <th>X_3</th>\n",
              "      <th>X_4</th>\n",
              "      <th>X_5</th>\n",
              "      <th>X_6</th>\n",
              "      <th>X_7</th>\n",
              "      <th>X_8</th>\n",
              "      <th>X_9</th>\n",
              "      <th>X_10</th>\n",
              "      <th>X_11</th>\n",
              "      <th>X_12</th>\n",
              "      <th>X_13</th>\n",
              "      <th>X_14</th>\n",
              "      <th>X_15</th>\n",
              "    </tr>\n",
              "  </thead>\n",
              "  <tbody>\n",
              "    <tr>\n",
              "      <th>0</th>\n",
              "      <td>CR_102659</td>\n",
              "      <td>04-JUL-04</td>\n",
              "      <td>0</td>\n",
              "      <td>36</td>\n",
              "      <td>34</td>\n",
              "      <td>2</td>\n",
              "      <td>1</td>\n",
              "      <td>5</td>\n",
              "      <td>6</td>\n",
              "      <td>1</td>\n",
              "      <td>6</td>\n",
              "      <td>1</td>\n",
              "      <td>174</td>\n",
              "      <td>1.0</td>\n",
              "      <td>92</td>\n",
              "      <td>29</td>\n",
              "      <td>36</td>\n",
              "    </tr>\n",
              "    <tr>\n",
              "      <th>1</th>\n",
              "      <td>CR_189752</td>\n",
              "      <td>18-JUL-17</td>\n",
              "      <td>1</td>\n",
              "      <td>37</td>\n",
              "      <td>37</td>\n",
              "      <td>0</td>\n",
              "      <td>0</td>\n",
              "      <td>11</td>\n",
              "      <td>17</td>\n",
              "      <td>1</td>\n",
              "      <td>6</td>\n",
              "      <td>1</td>\n",
              "      <td>236</td>\n",
              "      <td>1.0</td>\n",
              "      <td>103</td>\n",
              "      <td>142</td>\n",
              "      <td>34</td>\n",
              "    </tr>\n",
              "    <tr>\n",
              "      <th>2</th>\n",
              "      <td>CR_184637</td>\n",
              "      <td>15-MAR-17</td>\n",
              "      <td>0</td>\n",
              "      <td>3</td>\n",
              "      <td>2</td>\n",
              "      <td>3</td>\n",
              "      <td>5</td>\n",
              "      <td>1</td>\n",
              "      <td>0</td>\n",
              "      <td>2</td>\n",
              "      <td>3</td>\n",
              "      <td>1</td>\n",
              "      <td>174</td>\n",
              "      <td>1.0</td>\n",
              "      <td>110</td>\n",
              "      <td>93</td>\n",
              "      <td>34</td>\n",
              "    </tr>\n",
              "    <tr>\n",
              "      <th>3</th>\n",
              "      <td>CR_139071</td>\n",
              "      <td>13-FEB-09</td>\n",
              "      <td>0</td>\n",
              "      <td>33</td>\n",
              "      <td>32</td>\n",
              "      <td>2</td>\n",
              "      <td>1</td>\n",
              "      <td>7</td>\n",
              "      <td>1</td>\n",
              "      <td>1</td>\n",
              "      <td>6</td>\n",
              "      <td>1</td>\n",
              "      <td>249</td>\n",
              "      <td>1.0</td>\n",
              "      <td>72</td>\n",
              "      <td>29</td>\n",
              "      <td>34</td>\n",
              "    </tr>\n",
              "    <tr>\n",
              "      <th>4</th>\n",
              "      <td>CR_109335</td>\n",
              "      <td>13-APR-05</td>\n",
              "      <td>0</td>\n",
              "      <td>33</td>\n",
              "      <td>32</td>\n",
              "      <td>2</td>\n",
              "      <td>1</td>\n",
              "      <td>8</td>\n",
              "      <td>3</td>\n",
              "      <td>0</td>\n",
              "      <td>5</td>\n",
              "      <td>1</td>\n",
              "      <td>174</td>\n",
              "      <td>0.0</td>\n",
              "      <td>112</td>\n",
              "      <td>29</td>\n",
              "      <td>43</td>\n",
              "    </tr>\n",
              "  </tbody>\n",
              "</table>\n",
              "</div>"
            ],
            "text/plain": [
              "  INCIDENT_ID       DATE  X_1  X_2  X_3  ...  X_11  X_12  X_13  X_14  X_15\n",
              "0   CR_102659  04-JUL-04    0   36   34  ...   174   1.0    92    29    36\n",
              "1   CR_189752  18-JUL-17    1   37   37  ...   236   1.0   103   142    34\n",
              "2   CR_184637  15-MAR-17    0    3    2  ...   174   1.0   110    93    34\n",
              "3   CR_139071  13-FEB-09    0   33   32  ...   249   1.0    72    29    34\n",
              "4   CR_109335  13-APR-05    0   33   32  ...   174   0.0   112    29    43\n",
              "\n",
              "[5 rows x 17 columns]"
            ]
          },
          "metadata": {
            "tags": []
          },
          "execution_count": 3
        }
      ]
    },
    {
      "cell_type": "code",
      "metadata": {
        "id": "82gDZPiXA0lb",
        "colab_type": "code",
        "colab": {
          "base_uri": "https://localhost:8080/",
          "height": 442
        },
        "outputId": "37a3d623-bfdc-4a23-f6fa-574ccb82384c"
      },
      "source": [
        "#Let's see the details of the datasets\n",
        "print(dataset.info())\n"
      ],
      "execution_count": null,
      "outputs": [
        {
          "output_type": "stream",
          "text": [
            "<class 'pandas.core.frame.DataFrame'>\n",
            "Int64Index: 39759 entries, 0 to 15902\n",
            "Data columns (total 17 columns):\n",
            " #   Column       Non-Null Count  Dtype  \n",
            "---  ------       --------------  -----  \n",
            " 0   INCIDENT_ID  39759 non-null  object \n",
            " 1   DATE         39759 non-null  object \n",
            " 2   X_1          39759 non-null  int64  \n",
            " 3   X_2          39759 non-null  int64  \n",
            " 4   X_3          39759 non-null  int64  \n",
            " 5   X_4          39759 non-null  int64  \n",
            " 6   X_5          39759 non-null  int64  \n",
            " 7   X_6          39759 non-null  int64  \n",
            " 8   X_7          39759 non-null  int64  \n",
            " 9   X_8          39759 non-null  int64  \n",
            " 10  X_9          39759 non-null  int64  \n",
            " 11  X_10         39759 non-null  int64  \n",
            " 12  X_11         39759 non-null  int64  \n",
            " 13  X_12         39450 non-null  float64\n",
            " 14  X_13         39759 non-null  int64  \n",
            " 15  X_14         39759 non-null  int64  \n",
            " 16  X_15         39759 non-null  int64  \n",
            "dtypes: float64(1), int64(14), object(2)\n",
            "memory usage: 5.5+ MB\n",
            "None\n"
          ],
          "name": "stdout"
        }
      ]
    },
    {
      "cell_type": "markdown",
      "metadata": {
        "id": "g06oGbNhDmP4",
        "colab_type": "text"
      },
      "source": [
        "We first try to clean the data by visualising any NA/null values in the data set"
      ]
    },
    {
      "cell_type": "code",
      "metadata": {
        "id": "UWySNyAMBIk7",
        "colab_type": "code",
        "colab": {
          "base_uri": "https://localhost:8080/",
          "height": 323
        },
        "outputId": "a065ed35-460f-475f-b1fb-e3560a7a9c62"
      },
      "source": [
        "dataset_missingpercent = 100 * (dataset.isnull().sum()/dataset.isnull().count()).sort_values(ascending=False)\n",
        "print(dataset_missingpercent)\n",
        "\n"
      ],
      "execution_count": null,
      "outputs": [
        {
          "output_type": "stream",
          "text": [
            "X_12           0.777183\n",
            "X_15           0.000000\n",
            "X_6            0.000000\n",
            "DATE           0.000000\n",
            "X_1            0.000000\n",
            "X_2            0.000000\n",
            "X_3            0.000000\n",
            "X_4            0.000000\n",
            "X_5            0.000000\n",
            "X_7            0.000000\n",
            "X_14           0.000000\n",
            "X_8            0.000000\n",
            "X_9            0.000000\n",
            "X_10           0.000000\n",
            "X_11           0.000000\n",
            "X_13           0.000000\n",
            "INCIDENT_ID    0.000000\n",
            "dtype: float64\n"
          ],
          "name": "stdout"
        }
      ]
    },
    {
      "cell_type": "markdown",
      "metadata": {
        "id": "uQ2Km1anFppM",
        "colab_type": "text"
      },
      "source": [
        "We will fill-in the blank values with mean of 'X_12' column thus retaining the info"
      ]
    },
    {
      "cell_type": "code",
      "metadata": {
        "id": "GuYluAOGEUxo",
        "colab_type": "code",
        "colab": {
          "base_uri": "https://localhost:8080/",
          "height": 442
        },
        "outputId": "3bcc2d9c-0362-4876-bd6d-1b79eb59eea2"
      },
      "source": [
        "dataset['X_12'] = dataset['X_12'].fillna(dataset['X_12'].mean())\n",
        "print(dataset.info())"
      ],
      "execution_count": null,
      "outputs": [
        {
          "output_type": "stream",
          "text": [
            "<class 'pandas.core.frame.DataFrame'>\n",
            "Int64Index: 39759 entries, 0 to 15902\n",
            "Data columns (total 17 columns):\n",
            " #   Column       Non-Null Count  Dtype  \n",
            "---  ------       --------------  -----  \n",
            " 0   INCIDENT_ID  39759 non-null  object \n",
            " 1   DATE         39759 non-null  object \n",
            " 2   X_1          39759 non-null  int64  \n",
            " 3   X_2          39759 non-null  int64  \n",
            " 4   X_3          39759 non-null  int64  \n",
            " 5   X_4          39759 non-null  int64  \n",
            " 6   X_5          39759 non-null  int64  \n",
            " 7   X_6          39759 non-null  int64  \n",
            " 8   X_7          39759 non-null  int64  \n",
            " 9   X_8          39759 non-null  int64  \n",
            " 10  X_9          39759 non-null  int64  \n",
            " 11  X_10         39759 non-null  int64  \n",
            " 12  X_11         39759 non-null  int64  \n",
            " 13  X_12         39759 non-null  float64\n",
            " 14  X_13         39759 non-null  int64  \n",
            " 15  X_14         39759 non-null  int64  \n",
            " 16  X_15         39759 non-null  int64  \n",
            "dtypes: float64(1), int64(14), object(2)\n",
            "memory usage: 5.5+ MB\n",
            "None\n"
          ],
          "name": "stdout"
        }
      ]
    },
    {
      "cell_type": "markdown",
      "metadata": {
        "id": "GBCiD4vyGy_5",
        "colab_type": "text"
      },
      "source": [
        "### Descriptive Statistics"
      ]
    },
    {
      "cell_type": "code",
      "metadata": {
        "id": "xzMzr1QsG2wO",
        "colab_type": "code",
        "colab": {
          "base_uri": "https://localhost:8080/",
          "height": 514
        },
        "outputId": "173d8e92-db17-4b04-87e7-3576186d9bc6"
      },
      "source": [
        "dataset.describe().T"
      ],
      "execution_count": null,
      "outputs": [
        {
          "output_type": "execute_result",
          "data": {
            "text/html": [
              "<div>\n",
              "<style scoped>\n",
              "    .dataframe tbody tr th:only-of-type {\n",
              "        vertical-align: middle;\n",
              "    }\n",
              "\n",
              "    .dataframe tbody tr th {\n",
              "        vertical-align: top;\n",
              "    }\n",
              "\n",
              "    .dataframe thead th {\n",
              "        text-align: right;\n",
              "    }\n",
              "</style>\n",
              "<table border=\"1\" class=\"dataframe\">\n",
              "  <thead>\n",
              "    <tr style=\"text-align: right;\">\n",
              "      <th></th>\n",
              "      <th>count</th>\n",
              "      <th>mean</th>\n",
              "      <th>std</th>\n",
              "      <th>min</th>\n",
              "      <th>25%</th>\n",
              "      <th>50%</th>\n",
              "      <th>75%</th>\n",
              "      <th>max</th>\n",
              "    </tr>\n",
              "  </thead>\n",
              "  <tbody>\n",
              "    <tr>\n",
              "      <th>X_1</th>\n",
              "      <td>39759.0</td>\n",
              "      <td>0.477502</td>\n",
              "      <td>1.428755</td>\n",
              "      <td>0.0</td>\n",
              "      <td>0.0</td>\n",
              "      <td>0.0</td>\n",
              "      <td>0.0</td>\n",
              "      <td>7.0</td>\n",
              "    </tr>\n",
              "    <tr>\n",
              "      <th>X_2</th>\n",
              "      <td>39759.0</td>\n",
              "      <td>24.763777</td>\n",
              "      <td>15.235522</td>\n",
              "      <td>0.0</td>\n",
              "      <td>7.0</td>\n",
              "      <td>24.0</td>\n",
              "      <td>36.0</td>\n",
              "      <td>52.0</td>\n",
              "    </tr>\n",
              "    <tr>\n",
              "      <th>X_3</th>\n",
              "      <td>39759.0</td>\n",
              "      <td>24.612490</td>\n",
              "      <td>15.131877</td>\n",
              "      <td>0.0</td>\n",
              "      <td>8.0</td>\n",
              "      <td>24.0</td>\n",
              "      <td>35.0</td>\n",
              "      <td>52.0</td>\n",
              "    </tr>\n",
              "    <tr>\n",
              "      <th>X_4</th>\n",
              "      <td>39759.0</td>\n",
              "      <td>4.279735</td>\n",
              "      <td>2.956638</td>\n",
              "      <td>0.0</td>\n",
              "      <td>2.0</td>\n",
              "      <td>4.0</td>\n",
              "      <td>6.0</td>\n",
              "      <td>10.0</td>\n",
              "    </tr>\n",
              "    <tr>\n",
              "      <th>X_5</th>\n",
              "      <td>39759.0</td>\n",
              "      <td>2.452753</td>\n",
              "      <td>1.963184</td>\n",
              "      <td>0.0</td>\n",
              "      <td>1.0</td>\n",
              "      <td>3.0</td>\n",
              "      <td>5.0</td>\n",
              "      <td>5.0</td>\n",
              "    </tr>\n",
              "    <tr>\n",
              "      <th>X_6</th>\n",
              "      <td>39759.0</td>\n",
              "      <td>6.126462</td>\n",
              "      <td>4.463585</td>\n",
              "      <td>1.0</td>\n",
              "      <td>3.0</td>\n",
              "      <td>5.0</td>\n",
              "      <td>8.0</td>\n",
              "      <td>19.0</td>\n",
              "    </tr>\n",
              "    <tr>\n",
              "      <th>X_7</th>\n",
              "      <td>39759.0</td>\n",
              "      <td>4.870947</td>\n",
              "      <td>3.870959</td>\n",
              "      <td>0.0</td>\n",
              "      <td>2.0</td>\n",
              "      <td>4.0</td>\n",
              "      <td>7.0</td>\n",
              "      <td>18.0</td>\n",
              "    </tr>\n",
              "    <tr>\n",
              "      <th>X_8</th>\n",
              "      <td>39759.0</td>\n",
              "      <td>0.978168</td>\n",
              "      <td>1.460421</td>\n",
              "      <td>0.0</td>\n",
              "      <td>0.0</td>\n",
              "      <td>1.0</td>\n",
              "      <td>1.0</td>\n",
              "      <td>99.0</td>\n",
              "    </tr>\n",
              "    <tr>\n",
              "      <th>X_9</th>\n",
              "      <td>39759.0</td>\n",
              "      <td>4.917981</td>\n",
              "      <td>1.367462</td>\n",
              "      <td>0.0</td>\n",
              "      <td>5.0</td>\n",
              "      <td>5.0</td>\n",
              "      <td>6.0</td>\n",
              "      <td>6.0</td>\n",
              "    </tr>\n",
              "    <tr>\n",
              "      <th>X_10</th>\n",
              "      <td>39759.0</td>\n",
              "      <td>1.243366</td>\n",
              "      <td>1.017419</td>\n",
              "      <td>1.0</td>\n",
              "      <td>1.0</td>\n",
              "      <td>1.0</td>\n",
              "      <td>1.0</td>\n",
              "      <td>90.0</td>\n",
              "    </tr>\n",
              "    <tr>\n",
              "      <th>X_11</th>\n",
              "      <td>39759.0</td>\n",
              "      <td>206.954350</td>\n",
              "      <td>93.061957</td>\n",
              "      <td>0.0</td>\n",
              "      <td>174.0</td>\n",
              "      <td>249.0</td>\n",
              "      <td>249.0</td>\n",
              "      <td>332.0</td>\n",
              "    </tr>\n",
              "    <tr>\n",
              "      <th>X_12</th>\n",
              "      <td>39759.0</td>\n",
              "      <td>0.973333</td>\n",
              "      <td>1.056814</td>\n",
              "      <td>0.0</td>\n",
              "      <td>1.0</td>\n",
              "      <td>1.0</td>\n",
              "      <td>1.0</td>\n",
              "      <td>90.0</td>\n",
              "    </tr>\n",
              "    <tr>\n",
              "      <th>X_13</th>\n",
              "      <td>39759.0</td>\n",
              "      <td>85.218869</td>\n",
              "      <td>27.555325</td>\n",
              "      <td>0.0</td>\n",
              "      <td>72.0</td>\n",
              "      <td>98.0</td>\n",
              "      <td>103.0</td>\n",
              "      <td>117.0</td>\n",
              "    </tr>\n",
              "    <tr>\n",
              "      <th>X_14</th>\n",
              "      <td>39759.0</td>\n",
              "      <td>72.492014</td>\n",
              "      <td>43.353765</td>\n",
              "      <td>0.0</td>\n",
              "      <td>29.0</td>\n",
              "      <td>62.0</td>\n",
              "      <td>107.0</td>\n",
              "      <td>142.0</td>\n",
              "    </tr>\n",
              "    <tr>\n",
              "      <th>X_15</th>\n",
              "      <td>39759.0</td>\n",
              "      <td>33.447899</td>\n",
              "      <td>8.357811</td>\n",
              "      <td>0.0</td>\n",
              "      <td>34.0</td>\n",
              "      <td>34.0</td>\n",
              "      <td>34.0</td>\n",
              "      <td>50.0</td>\n",
              "    </tr>\n",
              "  </tbody>\n",
              "</table>\n",
              "</div>"
            ],
            "text/plain": [
              "        count        mean        std  min    25%    50%    75%    max\n",
              "X_1   39759.0    0.477502   1.428755  0.0    0.0    0.0    0.0    7.0\n",
              "X_2   39759.0   24.763777  15.235522  0.0    7.0   24.0   36.0   52.0\n",
              "X_3   39759.0   24.612490  15.131877  0.0    8.0   24.0   35.0   52.0\n",
              "X_4   39759.0    4.279735   2.956638  0.0    2.0    4.0    6.0   10.0\n",
              "X_5   39759.0    2.452753   1.963184  0.0    1.0    3.0    5.0    5.0\n",
              "X_6   39759.0    6.126462   4.463585  1.0    3.0    5.0    8.0   19.0\n",
              "X_7   39759.0    4.870947   3.870959  0.0    2.0    4.0    7.0   18.0\n",
              "X_8   39759.0    0.978168   1.460421  0.0    0.0    1.0    1.0   99.0\n",
              "X_9   39759.0    4.917981   1.367462  0.0    5.0    5.0    6.0    6.0\n",
              "X_10  39759.0    1.243366   1.017419  1.0    1.0    1.0    1.0   90.0\n",
              "X_11  39759.0  206.954350  93.061957  0.0  174.0  249.0  249.0  332.0\n",
              "X_12  39759.0    0.973333   1.056814  0.0    1.0    1.0    1.0   90.0\n",
              "X_13  39759.0   85.218869  27.555325  0.0   72.0   98.0  103.0  117.0\n",
              "X_14  39759.0   72.492014  43.353765  0.0   29.0   62.0  107.0  142.0\n",
              "X_15  39759.0   33.447899   8.357811  0.0   34.0   34.0   34.0   50.0"
            ]
          },
          "metadata": {
            "tags": []
          },
          "execution_count": 7
        }
      ]
    },
    {
      "cell_type": "markdown",
      "metadata": {
        "id": "OIWcrQjiGj_g",
        "colab_type": "text"
      },
      "source": [
        "The describe method is used to find the summary statistics for every column\n",
        "\n",
        "Now that the data is all cleaned and free of NaN values, we can go ahead\n",
        "\n"
      ]
    },
    {
      "cell_type": "code",
      "metadata": {
        "id": "b9I8rtfpGTBc",
        "colab_type": "code",
        "colab": {
          "base_uri": "https://localhost:8080/",
          "height": 204
        },
        "outputId": "62589bda-3f4e-4059-c431-432e1d17addd"
      },
      "source": [
        "# Let's Format the date column\n",
        "dataset['DATE']=pd.to_datetime(dataset.DATE)  \n",
        "\n",
        "# set the index as date              \n",
        "dataset.set_index('DATE',inplace=True)\n",
        "\n",
        "dataset.reset_index(inplace=True)\n",
        "\n",
        "dataset.head()"
      ],
      "execution_count": null,
      "outputs": [
        {
          "output_type": "execute_result",
          "data": {
            "text/html": [
              "<div>\n",
              "<style scoped>\n",
              "    .dataframe tbody tr th:only-of-type {\n",
              "        vertical-align: middle;\n",
              "    }\n",
              "\n",
              "    .dataframe tbody tr th {\n",
              "        vertical-align: top;\n",
              "    }\n",
              "\n",
              "    .dataframe thead th {\n",
              "        text-align: right;\n",
              "    }\n",
              "</style>\n",
              "<table border=\"1\" class=\"dataframe\">\n",
              "  <thead>\n",
              "    <tr style=\"text-align: right;\">\n",
              "      <th></th>\n",
              "      <th>DATE</th>\n",
              "      <th>INCIDENT_ID</th>\n",
              "      <th>X_1</th>\n",
              "      <th>X_2</th>\n",
              "      <th>X_3</th>\n",
              "      <th>X_4</th>\n",
              "      <th>X_5</th>\n",
              "      <th>X_6</th>\n",
              "      <th>X_7</th>\n",
              "      <th>X_8</th>\n",
              "      <th>X_9</th>\n",
              "      <th>X_10</th>\n",
              "      <th>X_11</th>\n",
              "      <th>X_12</th>\n",
              "      <th>X_13</th>\n",
              "      <th>X_14</th>\n",
              "      <th>X_15</th>\n",
              "    </tr>\n",
              "  </thead>\n",
              "  <tbody>\n",
              "    <tr>\n",
              "      <th>0</th>\n",
              "      <td>2004-07-04</td>\n",
              "      <td>CR_102659</td>\n",
              "      <td>0</td>\n",
              "      <td>36</td>\n",
              "      <td>34</td>\n",
              "      <td>2</td>\n",
              "      <td>1</td>\n",
              "      <td>5</td>\n",
              "      <td>6</td>\n",
              "      <td>1</td>\n",
              "      <td>6</td>\n",
              "      <td>1</td>\n",
              "      <td>174</td>\n",
              "      <td>1.0</td>\n",
              "      <td>92</td>\n",
              "      <td>29</td>\n",
              "      <td>36</td>\n",
              "    </tr>\n",
              "    <tr>\n",
              "      <th>1</th>\n",
              "      <td>2017-07-18</td>\n",
              "      <td>CR_189752</td>\n",
              "      <td>1</td>\n",
              "      <td>37</td>\n",
              "      <td>37</td>\n",
              "      <td>0</td>\n",
              "      <td>0</td>\n",
              "      <td>11</td>\n",
              "      <td>17</td>\n",
              "      <td>1</td>\n",
              "      <td>6</td>\n",
              "      <td>1</td>\n",
              "      <td>236</td>\n",
              "      <td>1.0</td>\n",
              "      <td>103</td>\n",
              "      <td>142</td>\n",
              "      <td>34</td>\n",
              "    </tr>\n",
              "    <tr>\n",
              "      <th>2</th>\n",
              "      <td>2017-03-15</td>\n",
              "      <td>CR_184637</td>\n",
              "      <td>0</td>\n",
              "      <td>3</td>\n",
              "      <td>2</td>\n",
              "      <td>3</td>\n",
              "      <td>5</td>\n",
              "      <td>1</td>\n",
              "      <td>0</td>\n",
              "      <td>2</td>\n",
              "      <td>3</td>\n",
              "      <td>1</td>\n",
              "      <td>174</td>\n",
              "      <td>1.0</td>\n",
              "      <td>110</td>\n",
              "      <td>93</td>\n",
              "      <td>34</td>\n",
              "    </tr>\n",
              "    <tr>\n",
              "      <th>3</th>\n",
              "      <td>2009-02-13</td>\n",
              "      <td>CR_139071</td>\n",
              "      <td>0</td>\n",
              "      <td>33</td>\n",
              "      <td>32</td>\n",
              "      <td>2</td>\n",
              "      <td>1</td>\n",
              "      <td>7</td>\n",
              "      <td>1</td>\n",
              "      <td>1</td>\n",
              "      <td>6</td>\n",
              "      <td>1</td>\n",
              "      <td>249</td>\n",
              "      <td>1.0</td>\n",
              "      <td>72</td>\n",
              "      <td>29</td>\n",
              "      <td>34</td>\n",
              "    </tr>\n",
              "    <tr>\n",
              "      <th>4</th>\n",
              "      <td>2005-04-13</td>\n",
              "      <td>CR_109335</td>\n",
              "      <td>0</td>\n",
              "      <td>33</td>\n",
              "      <td>32</td>\n",
              "      <td>2</td>\n",
              "      <td>1</td>\n",
              "      <td>8</td>\n",
              "      <td>3</td>\n",
              "      <td>0</td>\n",
              "      <td>5</td>\n",
              "      <td>1</td>\n",
              "      <td>174</td>\n",
              "      <td>0.0</td>\n",
              "      <td>112</td>\n",
              "      <td>29</td>\n",
              "      <td>43</td>\n",
              "    </tr>\n",
              "  </tbody>\n",
              "</table>\n",
              "</div>"
            ],
            "text/plain": [
              "        DATE INCIDENT_ID  X_1  X_2  X_3  ...  X_11  X_12  X_13  X_14  X_15\n",
              "0 2004-07-04   CR_102659    0   36   34  ...   174   1.0    92    29    36\n",
              "1 2017-07-18   CR_189752    1   37   37  ...   236   1.0   103   142    34\n",
              "2 2017-03-15   CR_184637    0    3    2  ...   174   1.0   110    93    34\n",
              "3 2009-02-13   CR_139071    0   33   32  ...   249   1.0    72    29    34\n",
              "4 2005-04-13   CR_109335    0   33   32  ...   174   0.0   112    29    43\n",
              "\n",
              "[5 rows x 17 columns]"
            ]
          },
          "metadata": {
            "tags": []
          },
          "execution_count": 8
        }
      ]
    },
    {
      "cell_type": "markdown",
      "metadata": {
        "id": "bvMoQG4yPtDu",
        "colab_type": "text"
      },
      "source": [
        "#### Understand co-relation between variables\n"
      ]
    },
    {
      "cell_type": "code",
      "metadata": {
        "id": "S7lZaN7QI-K8",
        "colab_type": "code",
        "colab": {
          "base_uri": "https://localhost:8080/",
          "height": 722
        },
        "outputId": "1449f13d-aa6c-401b-ca2d-daca11873a1e"
      },
      "source": [
        "plt.figure(figsize=(12,12))\n",
        "sns.heatmap(dataset.corr(), annot=True)"
      ],
      "execution_count": null,
      "outputs": [
        {
          "output_type": "execute_result",
          "data": {
            "text/plain": [
              "<matplotlib.axes._subplots.AxesSubplot at 0x7f2bacbc6160>"
            ]
          },
          "metadata": {
            "tags": []
          },
          "execution_count": 9
        },
        {
          "output_type": "display_data",
          "data": {
            "image/png": "[encoded data removed]",
            "text/plain": [
              "<Figure size 864x864 with 2 Axes>"
            ]
          },
          "metadata": {
            "tags": [],
            "needs_background": "light"
          }
        }
      ]
    },
    {
      "cell_type": "markdown",
      "metadata": {
        "id": "iKURSj4YQd3X",
        "colab_type": "text"
      },
      "source": [
        "There are few columns that are positively correlated to each other and dropping one of them can help us in analysing "
      ]
    },
    {
      "cell_type": "code",
      "metadata": {
        "id": "ANMiAFfmPyg2",
        "colab_type": "code",
        "colab": {
          "base_uri": "https://localhost:8080/",
          "height": 204
        },
        "outputId": "56e611eb-e0e3-4f70-fde4-459dd5214c6f"
      },
      "source": [
        "# Create correlation matrix\n",
        "corr_matrix = dataset.corr().abs()\n",
        "\n",
        "# Select upper triangle of correlation matrix\n",
        "upper = corr_matrix.where(np.triu(np.ones(corr_matrix.shape), k=1).astype(np.bool))\n",
        "\n",
        "# Find features with correlation greater than 0.95\n",
        "to_drop = [column for column in upper.columns if any(upper[column] > 0.80)]\n",
        "\n",
        "# Drop features \n",
        "dataset.drop(to_drop, axis=1, inplace=True)\n",
        "\n",
        "dataset.head()"
      ],
      "execution_count": null,
      "outputs": [
        {
          "output_type": "execute_result",
          "data": {
            "text/html": [
              "<div>\n",
              "<style scoped>\n",
              "    .dataframe tbody tr th:only-of-type {\n",
              "        vertical-align: middle;\n",
              "    }\n",
              "\n",
              "    .dataframe tbody tr th {\n",
              "        vertical-align: top;\n",
              "    }\n",
              "\n",
              "    .dataframe thead th {\n",
              "        text-align: right;\n",
              "    }\n",
              "</style>\n",
              "<table border=\"1\" class=\"dataframe\">\n",
              "  <thead>\n",
              "    <tr style=\"text-align: right;\">\n",
              "      <th></th>\n",
              "      <th>DATE</th>\n",
              "      <th>INCIDENT_ID</th>\n",
              "      <th>X_1</th>\n",
              "      <th>X_2</th>\n",
              "      <th>X_4</th>\n",
              "      <th>X_5</th>\n",
              "      <th>X_6</th>\n",
              "      <th>X_7</th>\n",
              "      <th>X_8</th>\n",
              "      <th>X_9</th>\n",
              "      <th>X_10</th>\n",
              "      <th>X_11</th>\n",
              "      <th>X_13</th>\n",
              "      <th>X_14</th>\n",
              "      <th>X_15</th>\n",
              "    </tr>\n",
              "  </thead>\n",
              "  <tbody>\n",
              "    <tr>\n",
              "      <th>0</th>\n",
              "      <td>2004-07-04</td>\n",
              "      <td>CR_102659</td>\n",
              "      <td>0</td>\n",
              "      <td>36</td>\n",
              "      <td>2</td>\n",
              "      <td>1</td>\n",
              "      <td>5</td>\n",
              "      <td>6</td>\n",
              "      <td>1</td>\n",
              "      <td>6</td>\n",
              "      <td>1</td>\n",
              "      <td>174</td>\n",
              "      <td>92</td>\n",
              "      <td>29</td>\n",
              "      <td>36</td>\n",
              "    </tr>\n",
              "    <tr>\n",
              "      <th>1</th>\n",
              "      <td>2017-07-18</td>\n",
              "      <td>CR_189752</td>\n",
              "      <td>1</td>\n",
              "      <td>37</td>\n",
              "      <td>0</td>\n",
              "      <td>0</td>\n",
              "      <td>11</td>\n",
              "      <td>17</td>\n",
              "      <td>1</td>\n",
              "      <td>6</td>\n",
              "      <td>1</td>\n",
              "      <td>236</td>\n",
              "      <td>103</td>\n",
              "      <td>142</td>\n",
              "      <td>34</td>\n",
              "    </tr>\n",
              "    <tr>\n",
              "      <th>2</th>\n",
              "      <td>2017-03-15</td>\n",
              "      <td>CR_184637</td>\n",
              "      <td>0</td>\n",
              "      <td>3</td>\n",
              "      <td>3</td>\n",
              "      <td>5</td>\n",
              "      <td>1</td>\n",
              "      <td>0</td>\n",
              "      <td>2</td>\n",
              "      <td>3</td>\n",
              "      <td>1</td>\n",
              "      <td>174</td>\n",
              "      <td>110</td>\n",
              "      <td>93</td>\n",
              "      <td>34</td>\n",
              "    </tr>\n",
              "    <tr>\n",
              "      <th>3</th>\n",
              "      <td>2009-02-13</td>\n",
              "      <td>CR_139071</td>\n",
              "      <td>0</td>\n",
              "      <td>33</td>\n",
              "      <td>2</td>\n",
              "      <td>1</td>\n",
              "      <td>7</td>\n",
              "      <td>1</td>\n",
              "      <td>1</td>\n",
              "      <td>6</td>\n",
              "      <td>1</td>\n",
              "      <td>249</td>\n",
              "      <td>72</td>\n",
              "      <td>29</td>\n",
              "      <td>34</td>\n",
              "    </tr>\n",
              "    <tr>\n",
              "      <th>4</th>\n",
              "      <td>2005-04-13</td>\n",
              "      <td>CR_109335</td>\n",
              "      <td>0</td>\n",
              "      <td>33</td>\n",
              "      <td>2</td>\n",
              "      <td>1</td>\n",
              "      <td>8</td>\n",
              "      <td>3</td>\n",
              "      <td>0</td>\n",
              "      <td>5</td>\n",
              "      <td>1</td>\n",
              "      <td>174</td>\n",
              "      <td>112</td>\n",
              "      <td>29</td>\n",
              "      <td>43</td>\n",
              "    </tr>\n",
              "  </tbody>\n",
              "</table>\n",
              "</div>"
            ],
            "text/plain": [
              "        DATE INCIDENT_ID  X_1  X_2  X_4  X_5  ...  X_9  X_10  X_11  X_13  X_14  X_15\n",
              "0 2004-07-04   CR_102659    0   36    2    1  ...    6     1   174    92    29    36\n",
              "1 2017-07-18   CR_189752    1   37    0    0  ...    6     1   236   103   142    34\n",
              "2 2017-03-15   CR_184637    0    3    3    5  ...    3     1   174   110    93    34\n",
              "3 2009-02-13   CR_139071    0   33    2    1  ...    6     1   249    72    29    34\n",
              "4 2005-04-13   CR_109335    0   33    2    1  ...    5     1   174   112    29    43\n",
              "\n",
              "[5 rows x 15 columns]"
            ]
          },
          "metadata": {
            "tags": []
          },
          "execution_count": 10
        }
      ]
    },
    {
      "cell_type": "code",
      "metadata": {
        "id": "_6nhRJPYcPrw",
        "colab_type": "code",
        "colab": {}
      },
      "source": [
        "Incident_ID = dataset['INCIDENT_ID']\n",
        "dataset.drop(['INCIDENT_ID','DATE'],1,inplace=True)"
      ],
      "execution_count": null,
      "outputs": []
    },
    {
      "cell_type": "code",
      "metadata": {
        "id": "68SMsD8dVyob",
        "colab_type": "code",
        "colab": {}
      },
      "source": [
        "#Split input and output into desired splits of train and validation\n",
        "from sklearn.preprocessing import StandardScaler\n",
        "ss=StandardScaler()\n",
        "\n",
        "feature_set=ss.fit_transform(dataset)\n"
      ],
      "execution_count": null,
      "outputs": []
    },
    {
      "cell_type": "code",
      "metadata": {
        "id": "xfzD_FSob7CL",
        "colab_type": "code",
        "colab": {
          "base_uri": "https://localhost:8080/",
          "height": 68
        },
        "outputId": "3dc9967d-0f4e-4e0e-ecde-d60150a3b484"
      },
      "source": [
        "#Spliting the dataset into training and testing sets \n",
        "df_train = (feature_set[:23856])   #Used for training the model\n",
        "df_test = (feature_set[23856:])    #Used as a final file for prediction\n",
        "\n",
        "features=df_train\n",
        "print(features.shape)\n",
        "print(target.shape)\n",
        "print(df_test.shape)"
      ],
      "execution_count": null,
      "outputs": [
        {
          "output_type": "stream",
          "text": [
            "(23856, 13)\n",
            "(23856,)\n",
            "(15903, 13)\n"
          ],
          "name": "stdout"
        }
      ]
    },
    {
      "cell_type": "code",
      "metadata": {
        "id": "JKxoE8cMdmJZ",
        "colab_type": "code",
        "colab": {
          "base_uri": "https://localhost:8080/",
          "height": 85
        },
        "outputId": "a5fc4fed-d2ce-4977-9fb9-1731d8585b96"
      },
      "source": [
        "#Split input and output into desired splits of train and validation\n",
        "from sklearn.model_selection import train_test_split\n",
        "X_train,X_test,y_train,y_test=train_test_split(features,target,test_size=0.30,random_state=1234)\n",
        "print(X_train.shape)\n",
        "print(y_train.shape)\n",
        "print(X_test.shape)\n",
        "print(y_test.shape)"
      ],
      "execution_count": null,
      "outputs": [
        {
          "output_type": "stream",
          "text": [
            "(16699, 13)\n",
            "(16699,)\n",
            "(7157, 13)\n",
            "(7157,)\n"
          ],
          "name": "stdout"
        }
      ]
    },
    {
      "cell_type": "markdown",
      "metadata": {
        "id": "CfBNM07letZ1",
        "colab_type": "text"
      },
      "source": [
        "### Building our base model"
      ]
    },
    {
      "cell_type": "code",
      "metadata": {
        "id": "0VpXPOTweJKn",
        "colab_type": "code",
        "colab": {}
      },
      "source": [
        "from sklearn.linear_model import LogisticRegression\n",
        "reg = LogisticRegression(C=1.0, class_weight='balanced', dual=False, \tfit_intercept=True,intercept_scaling=1, l1_ratio=None, max_iter=100,\n",
        "                      multi_class='auto', n_jobs=None, penalty='l2',\n",
        "                      random_state=7066, solver='lbfgs', tol=0.0001, verbose=0,\n",
        "                      warm_start=False)\n",
        "\n",
        "from sklearn.metrics import confusion_matrix\n",
        "cf = confusion_matrix"
      ],
      "execution_count": null,
      "outputs": []
    },
    {
      "cell_type": "code",
      "metadata": {
        "id": "2cKHP_vVfDAL",
        "colab_type": "code",
        "colab": {
          "base_uri": "https://localhost:8080/",
          "height": 102
        },
        "outputId": "d5fe8313-756c-4519-fed2-8a18128d1e8c"
      },
      "source": [
        "#Building the model\n",
        "reg_model = reg.fit(X_train,y_train)\n",
        "reg_model"
      ],
      "execution_count": null,
      "outputs": [
        {
          "output_type": "execute_result",
          "data": {
            "text/plain": [
              "LogisticRegression(C=1.0, class_weight='balanced', dual=False,\n",
              "                   fit_intercept=True, intercept_scaling=1, l1_ratio=None,\n",
              "                   max_iter=100, multi_class='auto', n_jobs=None, penalty='l2',\n",
              "                   random_state=7066, solver='lbfgs', tol=0.0001, verbose=0,\n",
              "                   warm_start=False)"
            ]
          },
          "metadata": {
            "tags": []
          },
          "execution_count": 16
        }
      ]
    },
    {
      "cell_type": "code",
      "metadata": {
        "id": "IDHmCQHTey90",
        "colab_type": "code",
        "colab": {}
      },
      "source": [
        "#Doing the prediction \n",
        "pred_values = reg.predict(X_test)"
      ],
      "execution_count": null,
      "outputs": []
    },
    {
      "cell_type": "code",
      "metadata": {
        "id": "U5eaUpzue-_e",
        "colab_type": "code",
        "colab": {
          "base_uri": "https://localhost:8080/",
          "height": 68
        },
        "outputId": "5c40b7f2-dcd9-4481-8e7c-99e2f449df96"
      },
      "source": [
        "from sklearn.metrics import accuracy_score\n",
        "from sklearn.metrics import precision_score\n",
        "from sklearn.metrics import recall_score\n",
        "from sklearn.metrics import f1_score\n",
        "\n",
        "predictions = [value for value in pred_values]\n",
        "accuracy = accuracy_score(y_test, predictions)\n",
        "precision = precision_score(y_test, predictions)\n",
        "score = recall_score(y_test, predictions)\n",
        "\n",
        "print(\"Accuracy_score: %.2f%% on test dataset\" % (accuracy * 100.0))\n",
        "print(\"precision_score: %.2f%% on test dataset\" % (precision * 100.0))\n",
        "print(\"score: %.2f%% on test dataset\" % (score * 100.0))\n"
      ],
      "execution_count": null,
      "outputs": [
        {
          "output_type": "stream",
          "text": [
            "Accuracy_score: 88.98% on test dataset\n",
            "precision_score: 99.33% on test dataset\n",
            "score: 89.06% on test dataset\n"
          ],
          "name": "stdout"
        }
      ]
    },
    {
      "cell_type": "markdown",
      "metadata": {
        "id": "BqEFMrlwHmGe",
        "colab_type": "text"
      },
      "source": [
        "From above we can see that our base model has an accuracy of 88% and a score of 89% which can be improved further with the help of few algorithms"
      ]
    },
    {
      "cell_type": "markdown",
      "metadata": {
        "id": "PVRhkTfe_u5S",
        "colab_type": "text"
      },
      "source": [
        "### Building the model using SVM algorithm\n"
      ]
    },
    {
      "cell_type": "code",
      "metadata": {
        "id": "gv27nSj6-raU",
        "colab_type": "code",
        "colab": {
          "base_uri": "https://localhost:8080/",
          "height": 102
        },
        "outputId": "70d612c1-5014-438d-cd48-aa9df3c7e846"
      },
      "source": [
        "#Importing SVM algorithm from sklearn package\n",
        "from sklearn.svm import SVC\n",
        "svc = SVC(kernel='linear',C=10)\n",
        "\n",
        "svc_model = svc.fit(X=X_train, y=y_train)\n",
        "\n",
        "pred_svc = svc.predict(X_test)\n",
        "\n",
        "#Importing cross_validation module\n",
        "from sklearn.model_selection import cross_val_score \n",
        "\n",
        "score_kfold = cross_val_score(svc, X_train, y_train, cv=5)\n",
        "print(\"Cross Validation:\" + str(score_kfold))\n",
        "print(\"Cross Validation Mean:\" + str(score_kfold.mean()))\n",
        "\n",
        "predictions = [value for value in pred_svc]\n",
        "accuracy = accuracy_score(y_test, predictions)\n",
        "precision = precision_score(y_test, predictions)\n",
        "score = recall_score(y_test, predictions)\n",
        "\n",
        "print(\"Accuracy_score: %.2f%% on test dataset\" % (accuracy * 100.0))\n",
        "print(\"precision_score: %.2f%% on test dataset\" % (precision * 100.0))\n",
        "print(\"score: %.2f%% on test dataset\" % (score * 100.0))\n",
        "\n"
      ],
      "execution_count": null,
      "outputs": [
        {
          "output_type": "stream",
          "text": [
            "Cross Validation:[0.95538922 0.95538922 0.95538922 0.95508982 0.95537586]\n",
            "Cross Validation Mean:0.9553266692132357\n",
            "Accuracy_score: 95.50% on test dataset\n",
            "precision_score: 95.50% on test dataset\n",
            "score: 100.00% on test dataset\n"
          ],
          "name": "stdout"
        }
      ]
    },
    {
      "cell_type": "markdown",
      "metadata": {
        "id": "mDIyMjtvIGpk",
        "colab_type": "text"
      },
      "source": [
        "We can see that our SVM model has an accuracy of 95% and a score of 100% that has significantly improved compared to our base model built using logistic regression algorithm\n",
        "\n",
        "We can imporve the accuracy further with fine tuning the hyperparameters"
      ]
    },
    {
      "cell_type": "markdown",
      "metadata": {
        "id": "OXCI3UZT9hvp",
        "colab_type": "text"
      },
      "source": [
        "### Building the model using XGBoost algorithm\n",
        "\n",
        "\n"
      ]
    },
    {
      "cell_type": "code",
      "metadata": {
        "id": "8qoPlm2T_b-O",
        "colab_type": "code",
        "colab": {
          "base_uri": "https://localhost:8080/",
          "height": 68
        },
        "outputId": "6c336447-f8ad-4485-f99e-cd7655845487"
      },
      "source": [
        "# Fitting XGBoost to the Training set\n",
        "import xgboost\n",
        "\n",
        "classifier = xgboost.XGBClassifier()\n",
        "\n",
        "classifier.fit(X_train, y_train)\n",
        "\n",
        "# Predicting the Test set results\n",
        "pred_boost = classifier.predict(X_test)\n",
        "\n",
        "# Making the Confusion Matrix\n",
        "from sklearn.metrics import confusion_matrix\n",
        "cm = confusion_matrix(y_test, pred_boost)\n",
        "\n",
        "# Applying k-Fold Cross Validation\n",
        "from sklearn.model_selection import cross_val_score\n",
        "accuracies = cross_val_score(estimator = classifier, X = X_train, y = y_train, cv = 10)\n",
        "\n",
        "predictions = [value for value in pred_boost]\n",
        "accuracy = accuracy_score(y_test, predictions)\n",
        "precision = precision_score(y_test, predictions)\n",
        "score = recall_score(y_test, predictions)\n",
        "\n",
        "print(\"Accuracy_score: %.2f%% on test dataset\" % (accuracy * 100.0))\n",
        "print(\"precision_score: %.2f%% on test dataset\" % (precision * 100.0))\n",
        "print(\"score: %.2f%% on test dataset\" % (score * 100.0))\n"
      ],
      "execution_count": null,
      "outputs": [
        {
          "output_type": "stream",
          "text": [
            "Accuracy_score: 99.71% on test dataset\n",
            "precision_score: 99.82% on test dataset\n",
            "score: 99.87% on test dataset\n"
          ],
          "name": "stdout"
        }
      ]
    },
    {
      "cell_type": "markdown",
      "metadata": {
        "id": "NlYfgMaiIn5z",
        "colab_type": "text"
      },
      "source": [
        "The model built with XGBoost algorithm gives an accuracy of 99.71 & and a score of 99.87% which surpasses both model's accuracy and let's fine tune XGBoost parameters to see if there is any enhancement in the model"
      ]
    },
    {
      "cell_type": "markdown",
      "metadata": {
        "id": "UuIb-eMUA5ui",
        "colab_type": "text"
      },
      "source": [
        "**Hyperparameter Tuning in XGBoost algorithm**"
      ]
    },
    {
      "cell_type": "code",
      "metadata": {
        "id": "s8YxFMFw9TRo",
        "colab_type": "code",
        "colab": {
          "base_uri": "https://localhost:8080/",
          "height": 68
        },
        "outputId": "bae1bb51-e5d5-455d-e715-ca81843d9690"
      },
      "source": [
        "# Fitting XGBoost to the Training set with hyperparameter tuning \n",
        "\n",
        "classifier2 = xgboost.XGBClassifier(silent=False, \n",
        "                      scale_pos_weight=1,\n",
        "                      learning_rate=0.01,  \n",
        "                      colsample_bytree = 0.4,\n",
        "                      subsample = 0.8,\n",
        "                      objective='binary:logistic', \n",
        "                      n_estimators=1000, \n",
        "                      reg_alpha = 0.3,\n",
        "                      max_depth=4, \n",
        "                      gamma=10) \n",
        "\n",
        "classifier2.fit(X_train, y_train)\n",
        "\n",
        "# Predicting the Test set results\n",
        "pred_boost2 = classifier2.predict(X_test)\n",
        "\n",
        "# Making the Confusion Matrix\n",
        "from sklearn.metrics import confusion_matrix\n",
        "cm = confusion_matrix(y_test, pred_boost2)\n",
        "\n",
        "# Applying k-Fold Cross Validation\n",
        "from sklearn.model_selection import cross_val_score\n",
        "accuracies = cross_val_score(estimator = classifier, X = X_train, y = y_train, cv = 10)\n",
        "\n",
        "predictions = [value for value in pred_boost2]\n",
        "accuracy = accuracy_score(y_test, predictions)\n",
        "precision = precision_score(y_test, predictions)\n",
        "score = recall_score(y_test, predictions)\n",
        "\n",
        "print(\"Accuracy_score: %.2f%% on test dataset\" % (accuracy * 100.0))\n",
        "print(\"precision_score: %.2f%% on test dataset\" % (precision * 100.0))\n",
        "print(\"score: %.2f%% on test dataset\" % (score * 100.0))\n"
      ],
      "execution_count": null,
      "outputs": [
        {
          "output_type": "stream",
          "text": [
            "Accuracy_score: 99.61% on test dataset\n",
            "precision_score: 99.68% on test dataset\n",
            "score: 99.91% on test dataset\n"
          ],
          "name": "stdout"
        }
      ]
    },
    {
      "cell_type": "markdown",
      "metadata": {
        "id": "5wJ_TJXlJJy2",
        "colab_type": "text"
      },
      "source": [
        "After tuning the hyperparameters we can see that score has slightly improved and the overall model looks robust and indicates that there is no overfitting\n",
        "\n",
        "Let's go ahead with our last step of using the above model for predictions "
      ]
    },
    {
      "cell_type": "markdown",
      "metadata": {
        "id": "t6IdzhnpBzyR",
        "colab_type": "text"
      },
      "source": [
        "Let's save our model using pickle so the next time we open the files, we can save time in running the model again and proceed with predictions"
      ]
    },
    {
      "cell_type": "code",
      "metadata": {
        "id": "Q9Wk1tJu9TFn",
        "colab_type": "code",
        "colab": {
          "base_uri": "https://localhost:8080/",
          "height": 34
        },
        "outputId": "f223d391-0f3c-43b2-918e-605e22bec4da"
      },
      "source": [
        "import pickle \n",
        "  \n",
        "# Save the trained model as a pickle string. \n",
        "saved_model = pickle.dumps(classifier2) \n",
        "  \n",
        "# Load the pickled model \n",
        "model_from_pickle = pickle.loads(saved_model) \n",
        "  \n",
        "# Use the loaded pickled model to make predictions \n",
        "result = model_from_pickle.predict(df_test)      #np.array\n",
        "print(result)\n",
        "\n",
        "#Converting the result variable to dataframe\n",
        "submission = pd.DataFrame(result)"
      ],
      "execution_count": null,
      "outputs": [
        {
          "output_type": "stream",
          "text": [
            "[1 1 1 ... 1 1 1]\n"
          ],
          "name": "stdout"
        }
      ]
    },
    {
      "cell_type": "code",
      "metadata": {
        "id": "LQryst989StO",
        "colab_type": "code",
        "colab": {
          "base_uri": "https://localhost:8080/",
          "height": 68
        },
        "outputId": "6fa29d89-2625-42cd-c306-c64df537ed56"
      },
      "source": [
        "#Final submission dataframe with Incident_ID and Multiple_Offense\n",
        "submission['Incident_ID'] = (test_df['INCIDENT_ID'])\n",
        "submission = submission.rename(columns={0: 'Multiple_Offense'})\n",
        "submission['Multiple_Offense'].value_counts()"
      ],
      "execution_count": null,
      "outputs": [
        {
          "output_type": "execute_result",
          "data": {
            "text/plain": [
              "1    15186\n",
              "0      717\n",
              "Name: Multiple_Offense, dtype: int64"
            ]
          },
          "metadata": {
            "tags": []
          },
          "execution_count": 23
        }
      ]
    },
    {
      "cell_type": "markdown",
      "metadata": {
        "id": "kKiy44ijDvaa",
        "colab_type": "text"
      },
      "source": [
        "_______________________________________________________________________________"
      ]
    },
    {
      "cell_type": "markdown",
      "metadata": {
        "id": "VUgpGNmHDzTe",
        "colab_type": "text"
      },
      "source": [
        "________________________________________________________________________________________________________________________________________________________________"
      ]
    },
    {
      "cell_type": "markdown",
      "metadata": {
        "id": "VLo3zTtaFX6-",
        "colab_type": "text"
      },
      "source": [
        "+++++++++++++++++++++++++++++++++++++++++++++++++++++++++++++++++++++++++++++++++++"
      ]
    }
  ]
}