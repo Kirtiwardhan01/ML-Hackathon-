{
  "nbformat": 4,
  "nbformat_minor": 0,
  "metadata": {
    "colab": {
      "name": "ODI Match.ipynb",
      "provenance": [],
      "collapsed_sections": [],
      "mount_file_id": "1JvejknxJnJd2BFlwdEDC3CQFYMIo5V9L",
      "authorship_tag": "ABX9TyML7eYkugKJ47cgLh879pZq"
    },
    "kernelspec": {
      "name": "python3",
      "display_name": "Python 3"
    },
    "accelerator": "GPU"
  },
  "cells": [
    {
      "cell_type": "markdown",
      "metadata": {
        "id": "FmdM0U1bxuwr",
        "colab_type": "text"
      },
      "source": [
        "ODI Match Winner : Weekend Hackathon "
      ]
    },
    {
      "cell_type": "code",
      "metadata": {
        "id": "d2BFobYtx-hV",
        "colab_type": "code",
        "colab": {
          "base_uri": "https://localhost:8080/",
          "height": 34
        },
        "outputId": "02204374-213e-491e-cd42-dafbe7d2e196"
      },
      "source": [
        "from google.colab import drive\n",
        "drive.mount('/content/drive')"
      ],
      "execution_count": 1,
      "outputs": [
        {
          "output_type": "stream",
          "text": [
            "Drive already mounted at /content/drive; to attempt to forcibly remount, call drive.mount(\"/content/drive\", force_remount=True).\n"
          ],
          "name": "stdout"
        }
      ]
    },
    {
      "cell_type": "code",
      "metadata": {
        "id": "3Sw8gw5Oy4X6",
        "colab_type": "code",
        "colab": {
          "base_uri": "https://localhost:8080/",
          "height": 71
        },
        "outputId": "6fdb6067-9077-493b-f9e3-13d51320f03c"
      },
      "source": [
        "#Importing the packages and dataset\n",
        "\n",
        "import numpy as np\n",
        "import pandas as pd\n",
        "import pandas_profiling as pp\n",
        "import matplotlib.pyplot as plt\n",
        "import seaborn as sns\n",
        "\n",
        "%matplotlib inline"
      ],
      "execution_count": 2,
      "outputs": [
        {
          "output_type": "stream",
          "text": [
            "/usr/local/lib/python3.6/dist-packages/statsmodels/tools/_testing.py:19: FutureWarning: pandas.util.testing is deprecated. Use the functions in the public API at pandas.testing instead.\n",
            "  import pandas.util.testing as tm\n"
          ],
          "name": "stderr"
        }
      ]
    },
    {
      "cell_type": "code",
      "metadata": {
        "id": "S2dfS6W7y7GM",
        "colab_type": "code",
        "colab": {
          "base_uri": "https://localhost:8080/",
          "height": 221
        },
        "outputId": "cc60a63b-22fe-4914-e1a9-706783d60cd3"
      },
      "source": [
        "#Exploring the dataset\n",
        "\n",
        "train_df = pd.read_csv('/content/drive/My Drive/Hackathon/ODI_Participants_Data/Train.csv')   #(2508, 10) \n",
        "target = train_df['MatchWinner']\n",
        "train_df.drop(['MatchWinner'],1,inplace=True)\n",
        "\n",
        "test_df = pd.read_csv('/content/drive/My Drive/Hackathon/ODI_Participants_Data/Test.csv')     #(1075, 9)\n",
        "\n",
        "dataset = pd.concat([train_df, test_df], axis=0, sort=False)\n",
        "\n",
        "print(dataset.shape)\n",
        "\n",
        "dataset.head()"
      ],
      "execution_count": 3,
      "outputs": [
        {
          "output_type": "stream",
          "text": [
            "(3583, 9)\n"
          ],
          "name": "stdout"
        },
        {
          "output_type": "execute_result",
          "data": {
            "text/html": [
              "<div>\n",
              "<style scoped>\n",
              "    .dataframe tbody tr th:only-of-type {\n",
              "        vertical-align: middle;\n",
              "    }\n",
              "\n",
              "    .dataframe tbody tr th {\n",
              "        vertical-align: top;\n",
              "    }\n",
              "\n",
              "    .dataframe thead th {\n",
              "        text-align: right;\n",
              "    }\n",
              "</style>\n",
              "<table border=\"1\" class=\"dataframe\">\n",
              "  <thead>\n",
              "    <tr style=\"text-align: right;\">\n",
              "      <th></th>\n",
              "      <th>Team1</th>\n",
              "      <th>Team2</th>\n",
              "      <th>Stadium</th>\n",
              "      <th>HostCountry</th>\n",
              "      <th>Team1_Venue</th>\n",
              "      <th>Team2_Venue</th>\n",
              "      <th>Team1_Innings</th>\n",
              "      <th>Team2_Innings</th>\n",
              "      <th>MonthOfMatch</th>\n",
              "    </tr>\n",
              "  </thead>\n",
              "  <tbody>\n",
              "    <tr>\n",
              "      <th>0</th>\n",
              "      <td>5</td>\n",
              "      <td>4</td>\n",
              "      <td>37</td>\n",
              "      <td>4</td>\n",
              "      <td>Home</td>\n",
              "      <td>Away</td>\n",
              "      <td>Second</td>\n",
              "      <td>First</td>\n",
              "      <td>Dec</td>\n",
              "    </tr>\n",
              "    <tr>\n",
              "      <th>1</th>\n",
              "      <td>1</td>\n",
              "      <td>14</td>\n",
              "      <td>84</td>\n",
              "      <td>7</td>\n",
              "      <td>Neutral</td>\n",
              "      <td>Neutral</td>\n",
              "      <td>First</td>\n",
              "      <td>Second</td>\n",
              "      <td>Sep</td>\n",
              "    </tr>\n",
              "    <tr>\n",
              "      <th>2</th>\n",
              "      <td>9</td>\n",
              "      <td>15</td>\n",
              "      <td>47</td>\n",
              "      <td>9</td>\n",
              "      <td>Home</td>\n",
              "      <td>Away</td>\n",
              "      <td>First</td>\n",
              "      <td>Second</td>\n",
              "      <td>Feb</td>\n",
              "    </tr>\n",
              "    <tr>\n",
              "      <th>3</th>\n",
              "      <td>7</td>\n",
              "      <td>2</td>\n",
              "      <td>102</td>\n",
              "      <td>6</td>\n",
              "      <td>Home</td>\n",
              "      <td>Away</td>\n",
              "      <td>First</td>\n",
              "      <td>Second</td>\n",
              "      <td>Aug</td>\n",
              "    </tr>\n",
              "    <tr>\n",
              "      <th>4</th>\n",
              "      <td>6</td>\n",
              "      <td>8</td>\n",
              "      <td>46</td>\n",
              "      <td>5</td>\n",
              "      <td>Home</td>\n",
              "      <td>Away</td>\n",
              "      <td>First</td>\n",
              "      <td>Second</td>\n",
              "      <td>Aug</td>\n",
              "    </tr>\n",
              "  </tbody>\n",
              "</table>\n",
              "</div>"
            ],
            "text/plain": [
              "   Team1  Team2  Stadium  ...  Team1_Innings Team2_Innings MonthOfMatch\n",
              "0      5      4       37  ...         Second         First          Dec\n",
              "1      1     14       84  ...          First        Second          Sep\n",
              "2      9     15       47  ...          First        Second          Feb\n",
              "3      7      2      102  ...          First        Second          Aug\n",
              "4      6      8       46  ...          First        Second          Aug\n",
              "\n",
              "[5 rows x 9 columns]"
            ]
          },
          "metadata": {
            "tags": []
          },
          "execution_count": 3
        }
      ]
    },
    {
      "cell_type": "code",
      "metadata": {
        "id": "EGmmqQhfzQGn",
        "colab_type": "code",
        "colab": {
          "base_uri": "https://localhost:8080/",
          "height": 306
        },
        "outputId": "447f0efd-388a-4a17-c6af-2985487e15ae"
      },
      "source": [
        "#Let's see the details of the dataset\n",
        "print(dataset.info())"
      ],
      "execution_count": 4,
      "outputs": [
        {
          "output_type": "stream",
          "text": [
            "<class 'pandas.core.frame.DataFrame'>\n",
            "Int64Index: 3583 entries, 0 to 1074\n",
            "Data columns (total 9 columns):\n",
            " #   Column         Non-Null Count  Dtype \n",
            "---  ------         --------------  ----- \n",
            " 0   Team1          3583 non-null   int64 \n",
            " 1   Team2          3583 non-null   int64 \n",
            " 2   Stadium        3583 non-null   int64 \n",
            " 3   HostCountry    3583 non-null   int64 \n",
            " 4   Team1_Venue    3583 non-null   object\n",
            " 5   Team2_Venue    3583 non-null   object\n",
            " 6   Team1_Innings  3583 non-null   object\n",
            " 7   Team2_Innings  3583 non-null   object\n",
            " 8   MonthOfMatch   3583 non-null   object\n",
            "dtypes: int64(4), object(5)\n",
            "memory usage: 279.9+ KB\n",
            "None\n"
          ],
          "name": "stdout"
        }
      ]
    },
    {
      "cell_type": "markdown",
      "metadata": {
        "id": "9flS6JjVz4u9",
        "colab_type": "text"
      },
      "source": [
        "There are no blanks in any of the feature columns and hence we can go ahead with further pipeline"
      ]
    },
    {
      "cell_type": "code",
      "metadata": {
        "id": "eM_x9nFCzuYg",
        "colab_type": "code",
        "colab": {
          "base_uri": "https://localhost:8080/",
          "height": 173
        },
        "outputId": "23e93c92-1056-4cc8-e4ce-b39ceda685a8"
      },
      "source": [
        "dataset.describe().T"
      ],
      "execution_count": 5,
      "outputs": [
        {
          "output_type": "execute_result",
          "data": {
            "text/html": [
              "<div>\n",
              "<style scoped>\n",
              "    .dataframe tbody tr th:only-of-type {\n",
              "        vertical-align: middle;\n",
              "    }\n",
              "\n",
              "    .dataframe tbody tr th {\n",
              "        vertical-align: top;\n",
              "    }\n",
              "\n",
              "    .dataframe thead th {\n",
              "        text-align: right;\n",
              "    }\n",
              "</style>\n",
              "<table border=\"1\" class=\"dataframe\">\n",
              "  <thead>\n",
              "    <tr style=\"text-align: right;\">\n",
              "      <th></th>\n",
              "      <th>count</th>\n",
              "      <th>mean</th>\n",
              "      <th>std</th>\n",
              "      <th>min</th>\n",
              "      <th>25%</th>\n",
              "      <th>50%</th>\n",
              "      <th>75%</th>\n",
              "      <th>max</th>\n",
              "    </tr>\n",
              "  </thead>\n",
              "  <tbody>\n",
              "    <tr>\n",
              "      <th>Team1</th>\n",
              "      <td>3583.0</td>\n",
              "      <td>7.304773</td>\n",
              "      <td>4.656641</td>\n",
              "      <td>0.0</td>\n",
              "      <td>4.0</td>\n",
              "      <td>7.0</td>\n",
              "      <td>12.0</td>\n",
              "      <td>15.0</td>\n",
              "    </tr>\n",
              "    <tr>\n",
              "      <th>Team2</th>\n",
              "      <td>3583.0</td>\n",
              "      <td>9.164387</td>\n",
              "      <td>4.560046</td>\n",
              "      <td>0.0</td>\n",
              "      <td>5.0</td>\n",
              "      <td>10.0</td>\n",
              "      <td>13.0</td>\n",
              "      <td>15.0</td>\n",
              "    </tr>\n",
              "    <tr>\n",
              "      <th>Stadium</th>\n",
              "      <td>3583.0</td>\n",
              "      <td>72.730394</td>\n",
              "      <td>43.588258</td>\n",
              "      <td>0.0</td>\n",
              "      <td>36.0</td>\n",
              "      <td>69.0</td>\n",
              "      <td>111.0</td>\n",
              "      <td>151.0</td>\n",
              "    </tr>\n",
              "    <tr>\n",
              "      <th>HostCountry</th>\n",
              "      <td>3583.0</td>\n",
              "      <td>7.566285</td>\n",
              "      <td>5.618924</td>\n",
              "      <td>0.0</td>\n",
              "      <td>3.0</td>\n",
              "      <td>9.0</td>\n",
              "      <td>13.0</td>\n",
              "      <td>16.0</td>\n",
              "    </tr>\n",
              "  </tbody>\n",
              "</table>\n",
              "</div>"
            ],
            "text/plain": [
              "              count       mean        std  min   25%   50%    75%    max\n",
              "Team1        3583.0   7.304773   4.656641  0.0   4.0   7.0   12.0   15.0\n",
              "Team2        3583.0   9.164387   4.560046  0.0   5.0  10.0   13.0   15.0\n",
              "Stadium      3583.0  72.730394  43.588258  0.0  36.0  69.0  111.0  151.0\n",
              "HostCountry  3583.0   7.566285   5.618924  0.0   3.0   9.0   13.0   16.0"
            ]
          },
          "metadata": {
            "tags": []
          },
          "execution_count": 5
        }
      ]
    },
    {
      "cell_type": "markdown",
      "metadata": {
        "id": "wQsJSLC30Nhp",
        "colab_type": "text"
      },
      "source": [
        "For model building with Sci-kit learn we need to have the variables as \n",
        "\n",
        "*   List item\n",
        "*   List item\n",
        "\n",
        "numerical values. \n",
        "\n",
        "However,we have few variables with the text columns. We are going to dummify these categorical columns before building network on it."
      ]
    },
    {
      "cell_type": "code",
      "metadata": {
        "id": "BUKJ5TVw4B_9",
        "colab_type": "code",
        "colab": {
          "base_uri": "https://localhost:8080/",
          "height": 34
        },
        "outputId": "79a52cc9-17fe-49ee-bf5e-635929aa2b6b"
      },
      "source": [
        "dataset['MonthOfMatch'] = pd.to_datetime(dataset.MonthOfMatch, format='%b').dt.month\n",
        "print(dataset.MonthOfMatch.unique())\n",
        "\n"
      ],
      "execution_count": 6,
      "outputs": [
        {
          "output_type": "stream",
          "text": [
            "[12  9  2  8 11  5  1  6  4 10  3  7]\n"
          ],
          "name": "stdout"
        }
      ]
    },
    {
      "cell_type": "code",
      "metadata": {
        "id": "wPzk1iii5g-z",
        "colab_type": "code",
        "colab": {
          "base_uri": "https://localhost:8080/",
          "height": 153
        },
        "outputId": "5a1ff46f-67b1-4579-ef5e-a55c3c1ce837"
      },
      "source": [
        "print(dataset.head())"
      ],
      "execution_count": 7,
      "outputs": [
        {
          "output_type": "stream",
          "text": [
            "   Team1  Team2  Stadium  ...  Team1_Innings Team2_Innings MonthOfMatch\n",
            "0      5      4       37  ...         Second         First           12\n",
            "1      1     14       84  ...          First        Second            9\n",
            "2      9     15       47  ...          First        Second            2\n",
            "3      7      2      102  ...          First        Second            8\n",
            "4      6      8       46  ...          First        Second            8\n",
            "\n",
            "[5 rows x 9 columns]\n"
          ],
          "name": "stdout"
        }
      ]
    },
    {
      "cell_type": "code",
      "metadata": {
        "id": "lEITWE6s0DFm",
        "colab_type": "code",
        "colab": {
          "base_uri": "https://localhost:8080/",
          "height": 204
        },
        "outputId": "7456bb8b-c059-44b4-81cd-5785464d64e6"
      },
      "source": [
        "# All the categorical columns\n",
        "\n",
        "var_mod = ['Team1_Venue','Team2_Venue','Team1_Innings','Team2_Innings']\n",
        "\n",
        "# Dataframe of all the categorical columns\n",
        "categorical_cols=dataset[var_mod]\n",
        "categorical_cols.info()"
      ],
      "execution_count": 8,
      "outputs": [
        {
          "output_type": "stream",
          "text": [
            "<class 'pandas.core.frame.DataFrame'>\n",
            "Int64Index: 3583 entries, 0 to 1074\n",
            "Data columns (total 4 columns):\n",
            " #   Column         Non-Null Count  Dtype \n",
            "---  ------         --------------  ----- \n",
            " 0   Team1_Venue    3583 non-null   object\n",
            " 1   Team2_Venue    3583 non-null   object\n",
            " 2   Team1_Innings  3583 non-null   object\n",
            " 3   Team2_Innings  3583 non-null   object\n",
            "dtypes: object(4)\n",
            "memory usage: 140.0+ KB\n"
          ],
          "name": "stdout"
        }
      ]
    },
    {
      "cell_type": "code",
      "metadata": {
        "id": "chQBehnA6GYU",
        "colab_type": "code",
        "colab": {
          "base_uri": "https://localhost:8080/",
          "height": 85
        },
        "outputId": "27b2ad9b-df0c-4e6f-cd54-8321f5b6db98"
      },
      "source": [
        "dummy_encoded_dataset = pd.get_dummies(categorical_cols,drop_first=True)\n",
        "print(dummy_encoded_dataset.shape)\n",
        "print(dummy_encoded_dataset.columns)"
      ],
      "execution_count": 9,
      "outputs": [
        {
          "output_type": "stream",
          "text": [
            "(3583, 6)\n",
            "Index(['Team1_Venue_Home', 'Team1_Venue_Neutral', 'Team2_Venue_Home',\n",
            "       'Team2_Venue_Neutral', 'Team1_Innings_Second', 'Team2_Innings_Second'],\n",
            "      dtype='object')\n"
          ],
          "name": "stdout"
        }
      ]
    },
    {
      "cell_type": "code",
      "metadata": {
        "id": "vAC-PGvS6Nht",
        "colab_type": "code",
        "colab": {
          "base_uri": "https://localhost:8080/",
          "height": 34
        },
        "outputId": "97ca9051-2cb3-4482-9430-88ff0ff74cd6"
      },
      "source": [
        "#Let's check the shape of df_train before merging it with dummy_encoded_df_train\n",
        "dataset.shape"
      ],
      "execution_count": 10,
      "outputs": [
        {
          "output_type": "execute_result",
          "data": {
            "text/plain": [
              "(3583, 9)"
            ]
          },
          "metadata": {
            "tags": []
          },
          "execution_count": 10
        }
      ]
    },
    {
      "cell_type": "code",
      "metadata": {
        "id": "vIpxj-xk6QXO",
        "colab_type": "code",
        "colab": {
          "base_uri": "https://localhost:8080/",
          "height": 34
        },
        "outputId": "58113988-b084-4279-b188-3e4590781568"
      },
      "source": [
        "#Let's merge dummy_encoded_df_train with df_train\n",
        "\n",
        "dataset2 = pd.concat([dataset,dummy_encoded_dataset],1)\n",
        "dataset2.shape"
      ],
      "execution_count": 11,
      "outputs": [
        {
          "output_type": "execute_result",
          "data": {
            "text/plain": [
              "(3583, 15)"
            ]
          },
          "metadata": {
            "tags": []
          },
          "execution_count": 11
        }
      ]
    },
    {
      "cell_type": "markdown",
      "metadata": {
        "id": "w5B9tDz06Zcn",
        "colab_type": "text"
      },
      "source": [
        "\n",
        "You can see that the number of columns have increased from 9 to 15 after one hot encoding.\n",
        "\n",
        "Let's drop the categorical columns now, as we have their dummified columns as well."
      ]
    },
    {
      "cell_type": "code",
      "metadata": {
        "id": "Fc757a4E6U4v",
        "colab_type": "code",
        "colab": {
          "base_uri": "https://localhost:8080/",
          "height": 34
        },
        "outputId": "cbecfd81-1b6c-4888-8348-445416846abd"
      },
      "source": [
        "drop_categorical_cols = dataset[var_mod]\n",
        "\n",
        "#Let's drop var_mod from onehot_encoded_dataset\n",
        "dataset2.drop(drop_categorical_cols,1,inplace=True)\n",
        "\n",
        "#dataset2 is our new dataframe\n",
        "print(dataset2.shape)"
      ],
      "execution_count": 12,
      "outputs": [
        {
          "output_type": "stream",
          "text": [
            "(3583, 11)\n"
          ],
          "name": "stdout"
        }
      ]
    },
    {
      "cell_type": "markdown",
      "metadata": {
        "id": "z_aVmHGE7Bct",
        "colab_type": "text"
      },
      "source": [
        "**Understand co-relation between variables**"
      ]
    },
    {
      "cell_type": "code",
      "metadata": {
        "id": "rySl9BYv69sK",
        "colab_type": "code",
        "colab": {
          "base_uri": "https://localhost:8080/",
          "height": 990
        },
        "outputId": "011f8a06-2d59-4931-a9c9-0abe79e71ee4"
      },
      "source": [
        "#Let's plot correlation map\n",
        "corr_dataset2 = dataset2.corr().round(2)\n",
        "\n",
        "plt.figure(figsize=(15,15))\n",
        "sns.heatmap(corr_dataset2,cmap=\"BrBG\",annot=True)"
      ],
      "execution_count": 13,
      "outputs": [
        {
          "output_type": "execute_result",
          "data": {
            "text/plain": [
              "<matplotlib.axes._subplots.AxesSubplot at 0x7f39b4eec3c8>"
            ]
          },
          "metadata": {
            "tags": []
          },
          "execution_count": 13
        },
        {
          "output_type": "display_data",
          "data": {
            "image/png": "[encoded data removed]",
            "text/plain": [
              "<Figure size 1080x1080 with 2 Axes>"
            ]
          },
          "metadata": {
            "tags": [],
            "needs_background": "light"
          }
        }
      ]
    },
    {
      "cell_type": "code",
      "metadata": {
        "id": "PSLbFezB7ElD",
        "colab_type": "code",
        "colab": {
          "base_uri": "https://localhost:8080/",
          "height": 204
        },
        "outputId": "b9456bb0-72eb-4318-94dd-2c3707b199b2"
      },
      "source": [
        "# Create correlation matrix\n",
        "corr_matrix = dataset2.corr().abs()\n",
        "\n",
        "# Select upper triangle of correlation matrix\n",
        "upper = corr_matrix.where(np.triu(np.ones(corr_matrix.shape), k=1).astype(np.bool))\n",
        "\n",
        "# Find features with correlation greater than 0.95\n",
        "to_drop = [column for column in upper.columns if any(upper[column] > 0.80)]\n",
        "\n",
        "# Drop features \n",
        "dataset2.drop(to_drop, axis=1, inplace=True)\n",
        "\n",
        "dataset2.head()"
      ],
      "execution_count": 14,
      "outputs": [
        {
          "output_type": "execute_result",
          "data": {
            "text/html": [
              "<div>\n",
              "<style scoped>\n",
              "    .dataframe tbody tr th:only-of-type {\n",
              "        vertical-align: middle;\n",
              "    }\n",
              "\n",
              "    .dataframe tbody tr th {\n",
              "        vertical-align: top;\n",
              "    }\n",
              "\n",
              "    .dataframe thead th {\n",
              "        text-align: right;\n",
              "    }\n",
              "</style>\n",
              "<table border=\"1\" class=\"dataframe\">\n",
              "  <thead>\n",
              "    <tr style=\"text-align: right;\">\n",
              "      <th></th>\n",
              "      <th>Team1</th>\n",
              "      <th>Team2</th>\n",
              "      <th>Stadium</th>\n",
              "      <th>HostCountry</th>\n",
              "      <th>MonthOfMatch</th>\n",
              "      <th>Team1_Venue_Home</th>\n",
              "      <th>Team2_Venue_Home</th>\n",
              "      <th>Team1_Innings_Second</th>\n",
              "    </tr>\n",
              "  </thead>\n",
              "  <tbody>\n",
              "    <tr>\n",
              "      <th>0</th>\n",
              "      <td>5</td>\n",
              "      <td>4</td>\n",
              "      <td>37</td>\n",
              "      <td>4</td>\n",
              "      <td>12</td>\n",
              "      <td>1</td>\n",
              "      <td>0</td>\n",
              "      <td>1</td>\n",
              "    </tr>\n",
              "    <tr>\n",
              "      <th>1</th>\n",
              "      <td>1</td>\n",
              "      <td>14</td>\n",
              "      <td>84</td>\n",
              "      <td>7</td>\n",
              "      <td>9</td>\n",
              "      <td>0</td>\n",
              "      <td>0</td>\n",
              "      <td>0</td>\n",
              "    </tr>\n",
              "    <tr>\n",
              "      <th>2</th>\n",
              "      <td>9</td>\n",
              "      <td>15</td>\n",
              "      <td>47</td>\n",
              "      <td>9</td>\n",
              "      <td>2</td>\n",
              "      <td>1</td>\n",
              "      <td>0</td>\n",
              "      <td>0</td>\n",
              "    </tr>\n",
              "    <tr>\n",
              "      <th>3</th>\n",
              "      <td>7</td>\n",
              "      <td>2</td>\n",
              "      <td>102</td>\n",
              "      <td>6</td>\n",
              "      <td>8</td>\n",
              "      <td>1</td>\n",
              "      <td>0</td>\n",
              "      <td>0</td>\n",
              "    </tr>\n",
              "    <tr>\n",
              "      <th>4</th>\n",
              "      <td>6</td>\n",
              "      <td>8</td>\n",
              "      <td>46</td>\n",
              "      <td>5</td>\n",
              "      <td>8</td>\n",
              "      <td>1</td>\n",
              "      <td>0</td>\n",
              "      <td>0</td>\n",
              "    </tr>\n",
              "  </tbody>\n",
              "</table>\n",
              "</div>"
            ],
            "text/plain": [
              "   Team1  Team2  ...  Team2_Venue_Home  Team1_Innings_Second\n",
              "0      5      4  ...                 0                     1\n",
              "1      1     14  ...                 0                     0\n",
              "2      9     15  ...                 0                     0\n",
              "3      7      2  ...                 0                     0\n",
              "4      6      8  ...                 0                     0\n",
              "\n",
              "[5 rows x 8 columns]"
            ]
          },
          "metadata": {
            "tags": []
          },
          "execution_count": 14
        }
      ]
    },
    {
      "cell_type": "markdown",
      "metadata": {
        "id": "68qiec0l7Xqs",
        "colab_type": "text"
      },
      "source": [
        "**Creating Train and Validation Data**\n",
        "\n",
        "In this step we are going to create data models that are capable of predicting the Employee attrition. Inorder to create these models first we split the given Train dataset into Train and Validation datasets. \n",
        "\n",
        "Train dataset is the one which have the features. We will train the model based on these values to validate the Validation dataset values.\n",
        "\n",
        "Let's split the data into training and validation datasets"
      ]
    },
    {
      "cell_type": "code",
      "metadata": {
        "id": "nTjJzivf7TNR",
        "colab_type": "code",
        "colab": {}
      },
      "source": [
        "#Scaling and normalization \n",
        "from sklearn.preprocessing import StandardScaler\n",
        "ss=StandardScaler()\n",
        "\n",
        "feature_set=ss.fit_transform(dataset2)"
      ],
      "execution_count": 15,
      "outputs": []
    },
    {
      "cell_type": "code",
      "metadata": {
        "id": "QSFM3dpA8JDd",
        "colab_type": "code",
        "colab": {
          "base_uri": "https://localhost:8080/",
          "height": 231
        },
        "outputId": "6e5aa546-dcd4-4393-a497-bfb5978baeee"
      },
      "source": [
        "#Spliting the dataset into training and testing sets \n",
        "df_train = (feature_set[:2508])   #Used for training the model\n",
        "df_test = (feature_set[2508:])    #Used as a final file for prediction\n",
        "\n",
        "features=df_train\n",
        "print(features.shape)\n",
        "print(target.shape)\n",
        "print(df_test.shape)"
      ],
      "execution_count": 1,
      "outputs": [
        {
          "output_type": "error",
          "ename": "NameError",
          "evalue": "ignored",
          "traceback": [
            "\u001b[0;31m---------------------------------------------------------------------------\u001b[0m",
            "\u001b[0;31mNameError\u001b[0m                                 Traceback (most recent call last)",
            "\u001b[0;32m<ipython-input-1-add73edaf7f8>\u001b[0m in \u001b[0;36m<module>\u001b[0;34m()\u001b[0m\n\u001b[1;32m      1\u001b[0m \u001b[0;31m#Spliting the dataset into training and testing sets\u001b[0m\u001b[0;34m\u001b[0m\u001b[0;34m\u001b[0m\u001b[0;34m\u001b[0m\u001b[0m\n\u001b[0;32m----> 2\u001b[0;31m \u001b[0mdf_train\u001b[0m \u001b[0;34m=\u001b[0m \u001b[0;34m(\u001b[0m\u001b[0mfeature_set\u001b[0m\u001b[0;34m[\u001b[0m\u001b[0;34m:\u001b[0m\u001b[0;36m2508\u001b[0m\u001b[0;34m]\u001b[0m\u001b[0;34m)\u001b[0m   \u001b[0;31m#Used for training the model\u001b[0m\u001b[0;34m\u001b[0m\u001b[0;34m\u001b[0m\u001b[0m\n\u001b[0m\u001b[1;32m      3\u001b[0m \u001b[0mdf_test\u001b[0m \u001b[0;34m=\u001b[0m \u001b[0;34m(\u001b[0m\u001b[0mfeature_set\u001b[0m\u001b[0;34m[\u001b[0m\u001b[0;36m2508\u001b[0m\u001b[0;34m:\u001b[0m\u001b[0;34m]\u001b[0m\u001b[0;34m)\u001b[0m    \u001b[0;31m#Used as a final file for prediction\u001b[0m\u001b[0;34m\u001b[0m\u001b[0;34m\u001b[0m\u001b[0m\n\u001b[1;32m      4\u001b[0m \u001b[0;34m\u001b[0m\u001b[0m\n\u001b[1;32m      5\u001b[0m \u001b[0mfeatures\u001b[0m\u001b[0;34m=\u001b[0m\u001b[0mdf_train\u001b[0m\u001b[0;34m\u001b[0m\u001b[0;34m\u001b[0m\u001b[0m\n",
            "\u001b[0;31mNameError\u001b[0m: name 'feature_set' is not defined"
          ]
        }
      ]
    },
    {
      "cell_type": "code",
      "metadata": {
        "id": "-odZVb_L8Rfo",
        "colab_type": "code",
        "colab": {
          "base_uri": "https://localhost:8080/",
          "height": 85
        },
        "outputId": "c301bf5a-62fd-4a8f-9718-0348ff2844d6"
      },
      "source": [
        "#Split input and output into desired splits of train and validation\n",
        "from sklearn.model_selection import train_test_split\n",
        "X_train,X_test,y_train,y_test=train_test_split(features,target,test_size=0.20,random_state=1234)\n",
        "print(X_train.shape)\n",
        "print(y_train.shape)\n",
        "print(X_test.shape)\n",
        "print(y_test.shape)"
      ],
      "execution_count": 17,
      "outputs": [
        {
          "output_type": "stream",
          "text": [
            "(2006, 8)\n",
            "(2006,)\n",
            "(502, 8)\n",
            "(502,)\n"
          ],
          "name": "stdout"
        }
      ]
    },
    {
      "cell_type": "markdown",
      "metadata": {
        "id": "dRlZIoeb8dIk",
        "colab_type": "text"
      },
      "source": [
        "Entire dataset has been splitted into Train and Test datasets X_train and X_test respectively. \n"
      ]
    },
    {
      "cell_type": "markdown",
      "metadata": {
        "id": "mQPQR1NEixtT",
        "colab_type": "text"
      },
      "source": [
        "Build model\n"
      ]
    },
    {
      "cell_type": "code",
      "metadata": {
        "id": "5Jw9PaHjgXtg",
        "colab_type": "code",
        "colab": {
          "base_uri": "https://localhost:8080/",
          "height": 122
        },
        "outputId": "2ee1213d-4127-49d1-99d6-8dea6cf5c02c"
      },
      "source": [
        "from sklearn.naive_bayes import GaussianNB \n",
        "gnb = GaussianNB() \n",
        "gnb.fit(X_train, y_train) \n",
        "  \n",
        "# making predictions on the testing set \n",
        "y_pred_gnb = gnb.predict(X_test) \n",
        "  \n",
        "# comparing actual response values (y_test) with predicted response values (y_pred) \n",
        "from sklearn import metrics \n",
        "print(\"Gaussian Naive Bayes model accuracy(in %):\", metrics.accuracy_score(y_test, y_pred_gnb)*100)\n",
        "print(\"Gaussian Naive Bayes model precision(in %):\", metrics.precision_score(y_test, y_pred_gnb,average='weighted')*100)\n",
        "print(\"Gaussian Naive Bayes model recall(in %):\", metrics.recall_score(y_test, y_pred_gnb,average='weighted')*100)\n"
      ],
      "execution_count": 18,
      "outputs": [
        {
          "output_type": "stream",
          "text": [
            "Gaussian Naive Bayes model accuracy(in %): 31.872509960159363\n",
            "Gaussian Naive Bayes model precision(in %): 26.859659473868554\n",
            "Gaussian Naive Bayes model recall(in %): 31.872509960159363\n"
          ],
          "name": "stdout"
        },
        {
          "output_type": "stream",
          "text": [
            "/usr/local/lib/python3.6/dist-packages/sklearn/metrics/_classification.py:1272: UndefinedMetricWarning: Precision is ill-defined and being set to 0.0 in labels with no predicted samples. Use `zero_division` parameter to control this behavior.\n",
            "  _warn_prf(average, modifier, msg_start, len(result))\n"
          ],
          "name": "stderr"
        }
      ]
    },
    {
      "cell_type": "code",
      "metadata": {
        "id": "0XYTccX2gXrl",
        "colab_type": "code",
        "colab": {}
      },
      "source": [
        ""
      ],
      "execution_count": 18,
      "outputs": []
    },
    {
      "cell_type": "code",
      "metadata": {
        "id": "V1ok4wdWgXos",
        "colab_type": "code",
        "colab": {}
      },
      "source": [
        ""
      ],
      "execution_count": 18,
      "outputs": []
    },
    {
      "cell_type": "code",
      "metadata": {
        "id": "UO0CzXtJgXlM",
        "colab_type": "code",
        "colab": {}
      },
      "source": [
        ""
      ],
      "execution_count": 18,
      "outputs": []
    },
    {
      "cell_type": "code",
      "metadata": {
        "id": "rkF2FdKcgXjR",
        "colab_type": "code",
        "colab": {}
      },
      "source": [
        ""
      ],
      "execution_count": 18,
      "outputs": []
    },
    {
      "cell_type": "markdown",
      "metadata": {
        "id": "cHdBGCE090__",
        "colab_type": "text"
      },
      "source": [
        "XGBoost Regression Model\n"
      ]
    },
    {
      "cell_type": "code",
      "metadata": {
        "id": "5BK7hECyEeG0",
        "colab_type": "code",
        "colab": {
          "base_uri": "https://localhost:8080/",
          "height": 156
        },
        "outputId": "5813d28c-26c9-47e3-d95c-f349e01712c9"
      },
      "source": [
        "#Importing SVM algorithm from sklearn package\n",
        "from xgboost import XGBClassifier\n",
        "from sklearn.metrics import accuracy_score\n",
        "from sklearn.metrics import precision_score\n",
        "from sklearn.metrics import recall_score\n",
        "from sklearn.metrics import f1_score\n",
        "# Fitting XGBoost to the Training set with hyperparameter tuning \n",
        "\n",
        "# Fitting XGBoost to the Training set\n",
        "import xgboost\n",
        "\n",
        "classifier = xgboost.XGBClassifier()\n",
        "\n",
        "classifier2 = xgboost.XGBClassifier(silent=False, \n",
        "                      scale_pos_weight=1,\n",
        "                      learning_rate=0.01,  \n",
        "                      colsample_bytree = 0.4,\n",
        "                      subsample = 0.8,\n",
        "                      objective='binary:logistic', \n",
        "                      n_estimators=1000, \n",
        "                      reg_alpha = 0.3,\n",
        "                      max_depth=4, \n",
        "                      gamma=10) \n",
        "\n",
        "classifier2.fit(X_train, y_train)\n",
        "\n",
        "# Predicting the Test set results\n",
        "pred_boost2 = classifier2.predict(X_test)\n",
        "\n",
        "# Making the Confusion Matrix\n",
        "from sklearn.metrics import confusion_matrix\n",
        "cm = confusion_matrix(y_test, pred_boost2)\n",
        "\n",
        "# Applying k-Fold Cross Validation\n",
        "from sklearn.model_selection import cross_val_score\n",
        "accuracies = cross_val_score(estimator = classifier, X = X_train, y = y_train, cv = 10)\n",
        "\n",
        "\n",
        "print(\"Accuracy Score : \",accuracy_score(y_test, pred_boost2))\n",
        "print(\"Precision Score : \",precision_score(y_test, pred_boost2, \n",
        "                                           pos_label='positive',\n",
        "                                           average='micro'))\n",
        "print(\"Recall Score : \",recall_score(y_test, pred_boost2, \n",
        "                                           pos_label='positive',\n",
        "                                           average='micro'))"
      ],
      "execution_count": 19,
      "outputs": [
        {
          "output_type": "stream",
          "text": [
            "/usr/local/lib/python3.6/dist-packages/sklearn/model_selection/_split.py:667: UserWarning: The least populated class in y has only 7 members, which is less than n_splits=10.\n",
            "  % (min_groups, self.n_splits)), UserWarning)\n"
          ],
          "name": "stderr"
        },
        {
          "output_type": "stream",
          "text": [
            "Accuracy Score :  0.6095617529880478\n",
            "Precision Score :  0.6095617529880478\n",
            "Recall Score :  0.6095617529880478\n"
          ],
          "name": "stdout"
        },
        {
          "output_type": "stream",
          "text": [
            "/usr/local/lib/python3.6/dist-packages/sklearn/metrics/_classification.py:1321: UserWarning: Note that pos_label (set to 'positive') is ignored when average != 'binary' (got 'micro'). You may use labels=[pos_label] to specify a single positive class.\n",
            "  % (pos_label, average), UserWarning)\n"
          ],
          "name": "stderr"
        }
      ]
    },
    {
      "cell_type": "code",
      "metadata": {
        "id": "v3sh-WBqIeWH",
        "colab_type": "code",
        "colab": {
          "base_uri": "https://localhost:8080/",
          "height": 34
        },
        "outputId": "3c73e36b-b452-4d7d-e58e-99f9e409b947"
      },
      "source": [
        "import pickle \n",
        "  \n",
        "# Save the trained model as a pickle string. \n",
        "saved_model = pickle.dumps(classifier2) \n",
        "  \n",
        "# Load the pickled model \n",
        "model_from_pickle = pickle.loads(saved_model) \n",
        "  \n",
        "# Use the loaded pickled model to make predictions \n",
        "result = model_from_pickle.predict(df_test)      #np.array\n",
        "print(result)\n"
      ],
      "execution_count": 20,
      "outputs": [
        {
          "output_type": "stream",
          "text": [
            "[ 2  1 10 ...  5 10  5]\n"
          ],
          "name": "stdout"
        }
      ]
    },
    {
      "cell_type": "code",
      "metadata": {
        "id": "sMm__oHBfFCP",
        "colab_type": "code",
        "colab": {
          "base_uri": "https://localhost:8080/",
          "height": 419
        },
        "outputId": "350a84d1-2c44-438c-e6cd-0e753ae5f497"
      },
      "source": [
        "\n",
        "#Converting the result variable to dataframe\n",
        "submission = pd.DataFrame(result)\n",
        "submission"
      ],
      "execution_count": 21,
      "outputs": [
        {
          "output_type": "execute_result",
          "data": {
            "text/html": [
              "<div>\n",
              "<style scoped>\n",
              "    .dataframe tbody tr th:only-of-type {\n",
              "        vertical-align: middle;\n",
              "    }\n",
              "\n",
              "    .dataframe tbody tr th {\n",
              "        vertical-align: top;\n",
              "    }\n",
              "\n",
              "    .dataframe thead th {\n",
              "        text-align: right;\n",
              "    }\n",
              "</style>\n",
              "<table border=\"1\" class=\"dataframe\">\n",
              "  <thead>\n",
              "    <tr style=\"text-align: right;\">\n",
              "      <th></th>\n",
              "      <th>0</th>\n",
              "    </tr>\n",
              "  </thead>\n",
              "  <tbody>\n",
              "    <tr>\n",
              "      <th>0</th>\n",
              "      <td>2</td>\n",
              "    </tr>\n",
              "    <tr>\n",
              "      <th>1</th>\n",
              "      <td>1</td>\n",
              "    </tr>\n",
              "    <tr>\n",
              "      <th>2</th>\n",
              "      <td>10</td>\n",
              "    </tr>\n",
              "    <tr>\n",
              "      <th>3</th>\n",
              "      <td>9</td>\n",
              "    </tr>\n",
              "    <tr>\n",
              "      <th>4</th>\n",
              "      <td>5</td>\n",
              "    </tr>\n",
              "    <tr>\n",
              "      <th>...</th>\n",
              "      <td>...</td>\n",
              "    </tr>\n",
              "    <tr>\n",
              "      <th>1070</th>\n",
              "      <td>5</td>\n",
              "    </tr>\n",
              "    <tr>\n",
              "      <th>1071</th>\n",
              "      <td>1</td>\n",
              "    </tr>\n",
              "    <tr>\n",
              "      <th>1072</th>\n",
              "      <td>5</td>\n",
              "    </tr>\n",
              "    <tr>\n",
              "      <th>1073</th>\n",
              "      <td>10</td>\n",
              "    </tr>\n",
              "    <tr>\n",
              "      <th>1074</th>\n",
              "      <td>5</td>\n",
              "    </tr>\n",
              "  </tbody>\n",
              "</table>\n",
              "<p>1075 rows × 1 columns</p>\n",
              "</div>"
            ],
            "text/plain": [
              "       0\n",
              "0      2\n",
              "1      1\n",
              "2     10\n",
              "3      9\n",
              "4      5\n",
              "...   ..\n",
              "1070   5\n",
              "1071   1\n",
              "1072   5\n",
              "1073  10\n",
              "1074   5\n",
              "\n",
              "[1075 rows x 1 columns]"
            ]
          },
          "metadata": {
            "tags": []
          },
          "execution_count": 21
        }
      ]
    },
    {
      "cell_type": "code",
      "metadata": {
        "id": "2Ntx5kQqK-Zm",
        "colab_type": "code",
        "colab": {
          "base_uri": "https://localhost:8080/",
          "height": 204
        },
        "outputId": "24cfa6c6-b620-4e24-ac70-02b4b6a31adc"
      },
      "source": [
        "df_test = pd.DataFrame(df_test)\n",
        "df_test.head()"
      ],
      "execution_count": 22,
      "outputs": [
        {
          "output_type": "execute_result",
          "data": {
            "text/html": [
              "<div>\n",
              "<style scoped>\n",
              "    .dataframe tbody tr th:only-of-type {\n",
              "        vertical-align: middle;\n",
              "    }\n",
              "\n",
              "    .dataframe tbody tr th {\n",
              "        vertical-align: top;\n",
              "    }\n",
              "\n",
              "    .dataframe thead th {\n",
              "        text-align: right;\n",
              "    }\n",
              "</style>\n",
              "<table border=\"1\" class=\"dataframe\">\n",
              "  <thead>\n",
              "    <tr style=\"text-align: right;\">\n",
              "      <th></th>\n",
              "      <th>0</th>\n",
              "      <th>1</th>\n",
              "      <th>2</th>\n",
              "      <th>3</th>\n",
              "      <th>4</th>\n",
              "      <th>5</th>\n",
              "      <th>6</th>\n",
              "      <th>7</th>\n",
              "    </tr>\n",
              "  </thead>\n",
              "  <tbody>\n",
              "    <tr>\n",
              "      <th>0</th>\n",
              "      <td>-1.139343</td>\n",
              "      <td>-1.132688</td>\n",
              "      <td>-0.888675</td>\n",
              "      <td>-1.168765</td>\n",
              "      <td>1.110373</td>\n",
              "      <td>0.629985</td>\n",
              "      <td>-0.016708</td>\n",
              "      <td>-1.023440</td>\n",
              "    </tr>\n",
              "    <tr>\n",
              "      <th>1</th>\n",
              "      <td>1.437981</td>\n",
              "      <td>-1.790668</td>\n",
              "      <td>-1.232853</td>\n",
              "      <td>1.323163</td>\n",
              "      <td>-0.752953</td>\n",
              "      <td>0.629985</td>\n",
              "      <td>-0.016708</td>\n",
              "      <td>-1.023440</td>\n",
              "    </tr>\n",
              "    <tr>\n",
              "      <th>2</th>\n",
              "      <td>0.364096</td>\n",
              "      <td>0.183272</td>\n",
              "      <td>1.314060</td>\n",
              "      <td>1.145168</td>\n",
              "      <td>1.642752</td>\n",
              "      <td>-1.587339</td>\n",
              "      <td>-0.016708</td>\n",
              "      <td>0.977097</td>\n",
              "    </tr>\n",
              "    <tr>\n",
              "      <th>3</th>\n",
              "      <td>0.364096</td>\n",
              "      <td>0.183272</td>\n",
              "      <td>-1.485249</td>\n",
              "      <td>0.255194</td>\n",
              "      <td>1.642752</td>\n",
              "      <td>0.629985</td>\n",
              "      <td>-0.016708</td>\n",
              "      <td>-1.023440</td>\n",
              "    </tr>\n",
              "    <tr>\n",
              "      <th>4</th>\n",
              "      <td>-0.495012</td>\n",
              "      <td>1.279905</td>\n",
              "      <td>1.314060</td>\n",
              "      <td>1.145168</td>\n",
              "      <td>1.110373</td>\n",
              "      <td>-1.587339</td>\n",
              "      <td>-0.016708</td>\n",
              "      <td>-1.023440</td>\n",
              "    </tr>\n",
              "  </tbody>\n",
              "</table>\n",
              "</div>"
            ],
            "text/plain": [
              "          0         1         2  ...         5         6         7\n",
              "0 -1.139343 -1.132688 -0.888675  ...  0.629985 -0.016708 -1.023440\n",
              "1  1.437981 -1.790668 -1.232853  ...  0.629985 -0.016708 -1.023440\n",
              "2  0.364096  0.183272  1.314060  ... -1.587339 -0.016708  0.977097\n",
              "3  0.364096  0.183272 -1.485249  ...  0.629985 -0.016708 -1.023440\n",
              "4 -0.495012  1.279905  1.314060  ... -1.587339 -0.016708 -1.023440\n",
              "\n",
              "[5 rows x 8 columns]"
            ]
          },
          "metadata": {
            "tags": []
          },
          "execution_count": 22
        }
      ]
    },
    {
      "cell_type": "code",
      "metadata": {
        "id": "o1t-Ct8CatO9",
        "colab_type": "code",
        "colab": {
          "base_uri": "https://localhost:8080/",
          "height": 436
        },
        "outputId": "1cbd7bfc-5e1e-43cb-8107-134d004543a3"
      },
      "source": [
        "final_pred = pd.concat([df_test, submission], axis=1, sort=False)\n",
        "print(final_pred.shape)\n",
        "\n",
        "final_pred"
      ],
      "execution_count": 23,
      "outputs": [
        {
          "output_type": "stream",
          "text": [
            "(1075, 9)\n"
          ],
          "name": "stdout"
        },
        {
          "output_type": "execute_result",
          "data": {
            "text/html": [
              "<div>\n",
              "<style scoped>\n",
              "    .dataframe tbody tr th:only-of-type {\n",
              "        vertical-align: middle;\n",
              "    }\n",
              "\n",
              "    .dataframe tbody tr th {\n",
              "        vertical-align: top;\n",
              "    }\n",
              "\n",
              "    .dataframe thead th {\n",
              "        text-align: right;\n",
              "    }\n",
              "</style>\n",
              "<table border=\"1\" class=\"dataframe\">\n",
              "  <thead>\n",
              "    <tr style=\"text-align: right;\">\n",
              "      <th></th>\n",
              "      <th>0</th>\n",
              "      <th>1</th>\n",
              "      <th>2</th>\n",
              "      <th>3</th>\n",
              "      <th>4</th>\n",
              "      <th>5</th>\n",
              "      <th>6</th>\n",
              "      <th>7</th>\n",
              "      <th>0</th>\n",
              "    </tr>\n",
              "  </thead>\n",
              "  <tbody>\n",
              "    <tr>\n",
              "      <th>0</th>\n",
              "      <td>-1.139343</td>\n",
              "      <td>-1.132688</td>\n",
              "      <td>-0.888675</td>\n",
              "      <td>-1.168765</td>\n",
              "      <td>1.110373</td>\n",
              "      <td>0.629985</td>\n",
              "      <td>-0.016708</td>\n",
              "      <td>-1.023440</td>\n",
              "      <td>2</td>\n",
              "    </tr>\n",
              "    <tr>\n",
              "      <th>1</th>\n",
              "      <td>1.437981</td>\n",
              "      <td>-1.790668</td>\n",
              "      <td>-1.232853</td>\n",
              "      <td>1.323163</td>\n",
              "      <td>-0.752953</td>\n",
              "      <td>0.629985</td>\n",
              "      <td>-0.016708</td>\n",
              "      <td>-1.023440</td>\n",
              "      <td>1</td>\n",
              "    </tr>\n",
              "    <tr>\n",
              "      <th>2</th>\n",
              "      <td>0.364096</td>\n",
              "      <td>0.183272</td>\n",
              "      <td>1.314060</td>\n",
              "      <td>1.145168</td>\n",
              "      <td>1.642752</td>\n",
              "      <td>-1.587339</td>\n",
              "      <td>-0.016708</td>\n",
              "      <td>0.977097</td>\n",
              "      <td>10</td>\n",
              "    </tr>\n",
              "    <tr>\n",
              "      <th>3</th>\n",
              "      <td>0.364096</td>\n",
              "      <td>0.183272</td>\n",
              "      <td>-1.485249</td>\n",
              "      <td>0.255194</td>\n",
              "      <td>1.642752</td>\n",
              "      <td>0.629985</td>\n",
              "      <td>-0.016708</td>\n",
              "      <td>-1.023440</td>\n",
              "      <td>9</td>\n",
              "    </tr>\n",
              "    <tr>\n",
              "      <th>4</th>\n",
              "      <td>-0.495012</td>\n",
              "      <td>1.279905</td>\n",
              "      <td>1.314060</td>\n",
              "      <td>1.145168</td>\n",
              "      <td>1.110373</td>\n",
              "      <td>-1.587339</td>\n",
              "      <td>-0.016708</td>\n",
              "      <td>-1.023440</td>\n",
              "      <td>5</td>\n",
              "    </tr>\n",
              "    <tr>\n",
              "      <th>...</th>\n",
              "      <td>...</td>\n",
              "      <td>...</td>\n",
              "      <td>...</td>\n",
              "      <td>...</td>\n",
              "      <td>...</td>\n",
              "      <td>...</td>\n",
              "      <td>...</td>\n",
              "      <td>...</td>\n",
              "      <td>...</td>\n",
              "    </tr>\n",
              "    <tr>\n",
              "      <th>1070</th>\n",
              "      <td>1.652758</td>\n",
              "      <td>-0.913361</td>\n",
              "      <td>-0.200320</td>\n",
              "      <td>1.501158</td>\n",
              "      <td>0.045615</td>\n",
              "      <td>0.629985</td>\n",
              "      <td>-0.016708</td>\n",
              "      <td>-1.023440</td>\n",
              "      <td>5</td>\n",
              "    </tr>\n",
              "    <tr>\n",
              "      <th>1071</th>\n",
              "      <td>-1.354120</td>\n",
              "      <td>0.621925</td>\n",
              "      <td>0.510980</td>\n",
              "      <td>-1.346760</td>\n",
              "      <td>-1.019142</td>\n",
              "      <td>0.629985</td>\n",
              "      <td>-0.016708</td>\n",
              "      <td>-1.023440</td>\n",
              "      <td>1</td>\n",
              "    </tr>\n",
              "    <tr>\n",
              "      <th>1072</th>\n",
              "      <td>-0.495012</td>\n",
              "      <td>0.183272</td>\n",
              "      <td>-0.682169</td>\n",
              "      <td>-1.168765</td>\n",
              "      <td>-0.752953</td>\n",
              "      <td>-1.587339</td>\n",
              "      <td>-0.016708</td>\n",
              "      <td>-1.023440</td>\n",
              "      <td>5</td>\n",
              "    </tr>\n",
              "    <tr>\n",
              "      <th>1073</th>\n",
              "      <td>0.578873</td>\n",
              "      <td>0.841252</td>\n",
              "      <td>0.878102</td>\n",
              "      <td>-1.346760</td>\n",
              "      <td>-0.752953</td>\n",
              "      <td>-1.587339</td>\n",
              "      <td>-0.016708</td>\n",
              "      <td>0.977097</td>\n",
              "      <td>10</td>\n",
              "    </tr>\n",
              "    <tr>\n",
              "      <th>1074</th>\n",
              "      <td>-0.495012</td>\n",
              "      <td>-0.036055</td>\n",
              "      <td>0.878102</td>\n",
              "      <td>-1.346760</td>\n",
              "      <td>1.642752</td>\n",
              "      <td>-1.587339</td>\n",
              "      <td>-0.016708</td>\n",
              "      <td>-1.023440</td>\n",
              "      <td>5</td>\n",
              "    </tr>\n",
              "  </tbody>\n",
              "</table>\n",
              "<p>1075 rows × 9 columns</p>\n",
              "</div>"
            ],
            "text/plain": [
              "             0         1         2         3  ...         5         6         7   0\n",
              "0    -1.139343 -1.132688 -0.888675 -1.168765  ...  0.629985 -0.016708 -1.023440   2\n",
              "1     1.437981 -1.790668 -1.232853  1.323163  ...  0.629985 -0.016708 -1.023440   1\n",
              "2     0.364096  0.183272  1.314060  1.145168  ... -1.587339 -0.016708  0.977097  10\n",
              "3     0.364096  0.183272 -1.485249  0.255194  ...  0.629985 -0.016708 -1.023440   9\n",
              "4    -0.495012  1.279905  1.314060  1.145168  ... -1.587339 -0.016708 -1.023440   5\n",
              "...        ...       ...       ...       ...  ...       ...       ...       ...  ..\n",
              "1070  1.652758 -0.913361 -0.200320  1.501158  ...  0.629985 -0.016708 -1.023440   5\n",
              "1071 -1.354120  0.621925  0.510980 -1.346760  ...  0.629985 -0.016708 -1.023440   1\n",
              "1072 -0.495012  0.183272 -0.682169 -1.168765  ... -1.587339 -0.016708 -1.023440   5\n",
              "1073  0.578873  0.841252  0.878102 -1.346760  ... -1.587339 -0.016708  0.977097  10\n",
              "1074 -0.495012 -0.036055  0.878102 -1.346760  ... -1.587339 -0.016708 -1.023440   5\n",
              "\n",
              "[1075 rows x 9 columns]"
            ]
          },
          "metadata": {
            "tags": []
          },
          "execution_count": 23
        }
      ]
    },
    {
      "cell_type": "markdown",
      "metadata": {
        "id": "Pi6zDBdMxqhU",
        "colab_type": "text"
      },
      "source": [
        "________________________________"
      ]
    },
    {
      "cell_type": "code",
      "metadata": {
        "id": "vJFGx02VbJCn",
        "colab_type": "code",
        "colab": {
          "base_uri": "https://localhost:8080/",
          "height": 119
        },
        "outputId": "391f249e-f25c-4d35-cf8f-f8251719bef7"
      },
      "source": [
        "# Importing the packages for Decision Tree Classifier\n",
        "\n",
        "from sklearn import tree\n",
        "dtree = tree.DecisionTreeClassifier(criterion=\"entropy\", max_depth=3, random_state=42)\n",
        "dtree"
      ],
      "execution_count": 24,
      "outputs": [
        {
          "output_type": "execute_result",
          "data": {
            "text/plain": [
              "DecisionTreeClassifier(ccp_alpha=0.0, class_weight=None, criterion='entropy',\n",
              "                       max_depth=3, max_features=None, max_leaf_nodes=None,\n",
              "                       min_impurity_decrease=0.0, min_impurity_split=None,\n",
              "                       min_samples_leaf=1, min_samples_split=2,\n",
              "                       min_weight_fraction_leaf=0.0, presort='deprecated',\n",
              "                       random_state=42, splitter='best')"
            ]
          },
          "metadata": {
            "tags": []
          },
          "execution_count": 24
        }
      ]
    },
    {
      "cell_type": "code",
      "metadata": {
        "id": "hVAcg5_lxybm",
        "colab_type": "code",
        "colab": {
          "base_uri": "https://localhost:8080/",
          "height": 119
        },
        "outputId": "6e102064-561f-4474-e308-2e5946845fd8"
      },
      "source": [
        "#5.1 Training Decision Tree Model\n",
        "\n",
        "# Fit the decision tree model on your features and label\n",
        "\n",
        "dtree.fit(features, target)"
      ],
      "execution_count": 35,
      "outputs": [
        {
          "output_type": "execute_result",
          "data": {
            "text/plain": [
              "DecisionTreeClassifier(ccp_alpha=0.0, class_weight=None, criterion='entropy',\n",
              "                       max_depth=3, max_features=None, max_leaf_nodes=None,\n",
              "                       min_impurity_decrease=0.0, min_impurity_split=None,\n",
              "                       min_samples_leaf=1, min_samples_split=2,\n",
              "                       min_weight_fraction_leaf=0.0, presort='deprecated',\n",
              "                       random_state=42, splitter='best')"
            ]
          },
          "metadata": {
            "tags": []
          },
          "execution_count": 35
        }
      ]
    },
    {
      "cell_type": "code",
      "metadata": {
        "id": "Vdy_Ua68x_RQ",
        "colab_type": "code",
        "colab": {
          "base_uri": "https://localhost:8080/",
          "height": 153
        },
        "outputId": "973cad42-f353-4dfd-e42d-215694040fe1"
      },
      "source": [
        "# The feature_importances_ attribute make it simple to interpret the significance of the predictors you include\n",
        "\n",
        "list(zip(dtree.feature_importances_))"
      ],
      "execution_count": 36,
      "outputs": [
        {
          "output_type": "execute_result",
          "data": {
            "text/plain": [
              "[(0.6449674129354491,),\n",
              " (0.3550325870645508,),\n",
              " (0.0,),\n",
              " (0.0,),\n",
              " (0.0,),\n",
              " (0.0,),\n",
              " (0.0,),\n",
              " (0.0,)]"
            ]
          },
          "metadata": {
            "tags": []
          },
          "execution_count": 36
        }
      ]
    },
    {
      "cell_type": "code",
      "metadata": {
        "id": "gCOAm1kCyEqh",
        "colab_type": "code",
        "colab": {
          "base_uri": "https://localhost:8080/",
          "height": 34
        },
        "outputId": "1ed407c0-ded8-4f1c-dbee-250ad7babd82"
      },
      "source": [
        "# The accuracy of the model\n",
        "\n",
        "print(dtree.score(features,target))"
      ],
      "execution_count": 37,
      "outputs": [
        {
          "output_type": "stream",
          "text": [
            "0.36443381180223283\n"
          ],
          "name": "stdout"
        }
      ]
    },
    {
      "cell_type": "markdown",
      "metadata": {
        "id": "Mew4tTIuyaZK",
        "colab_type": "text"
      },
      "source": [
        "Predictions from Decision Tree Model"
      ]
    },
    {
      "cell_type": "code",
      "metadata": {
        "id": "0NGyxW8cySEe",
        "colab_type": "code",
        "colab": {}
      },
      "source": [
        "# Predictions from Decision Tree Model\n",
        "\n",
        "y_pred = dtree.predict(df_test)"
      ],
      "execution_count": 38,
      "outputs": []
    },
    {
      "cell_type": "code",
      "metadata": {
        "id": "iF0Nmxt-yhcc",
        "colab_type": "code",
        "colab": {
          "base_uri": "https://localhost:8080/",
          "height": 561
        },
        "outputId": "96808766-2099-4787-de8f-7c1712ea17b7"
      },
      "source": [
        "#Print Confusion matrix on Train Data\n",
        "from sklearn import metrics\n",
        "\n",
        "pred = dtree.predict(features)\n",
        "cf_dt = metrics.confusion_matrix(target, pred)\n",
        "cf_dt"
      ],
      "execution_count": 39,
      "outputs": [
        {
          "output_type": "execute_result",
          "data": {
            "text/plain": [
              "array([[  0,  24,   0,   0,   3,   0,   0,   0,   0,   0,   0,   0,   0,\n",
              "          0,   0,   0],\n",
              "       [  0, 356,   0,   0,  23,   0,   0,   0,   0,   0,   0,   0,   0,\n",
              "          0,   0,   0],\n",
              "       [  0,  19,   0,   0,  51,   0,   0,   0,   0,   0,   0,   0,   0,\n",
              "          0,   0,   0],\n",
              "       [  0,   2,   0,   0,   6,   0,   0,   0,   0,   0,   0,   0,   0,\n",
              "          0,   0,   0],\n",
              "       [  0,  76,   0,   0, 161,   0,   0,   0,   0,   0,   0,   0,   0,\n",
              "          0,   0,   0],\n",
              "       [  0,  43,   0,   0,  31, 183,   0,   0,   0,   0,  61,   0,   0,\n",
              "          0,   0,   0],\n",
              "       [  0,   7,   0,   0,   4,   0,   0,   0,   0,   0,  22,   0,   0,\n",
              "          0,   0,   0],\n",
              "       [  0,   7,   0,   0,   7,   1,   0,   0,   0,   0,   9,   0,   0,\n",
              "          0,   0,   0],\n",
              "       [  0,   2,   0,   0,   5,   0,   0,   0,   0,   0,   8,   0,   0,\n",
              "          0,   0,   0],\n",
              "       [  0,  51,   0,   0,  26,  16,   0,   0,   0,   0, 130,   0,   0,\n",
              "          0,   0,   0],\n",
              "       [  0,  31,   0,   0,  32,  39,   0,   0,   0,   0, 214,   0,   0,\n",
              "          0,   0,   0],\n",
              "       [  0,   4,   0,   0,   3,   0,   0,   0,   0,   0,  11,   0,   0,\n",
              "          0,   0,   0],\n",
              "       [  0,  56,   0,   0,  11,  17,   0,   0,   0,   0, 161,   0,   0,\n",
              "          0,   0,   0],\n",
              "       [  0,  48,   0,   0,  28,  14,   0,   0,   0,   0, 156,   0,   0,\n",
              "          0,   0,   0],\n",
              "       [  0,  65,   0,   0,  25,  30,   0,   0,   0,   0, 142,   0,   0,\n",
              "          0,   0,   0],\n",
              "       [  0,  22,   0,   0,  13,   6,   0,   0,   0,   0,  46,   0,   0,\n",
              "          0,   0,   0]])"
            ]
          },
          "metadata": {
            "tags": []
          },
          "execution_count": 39
        }
      ]
    },
    {
      "cell_type": "markdown",
      "metadata": {
        "id": "Lkr5LRiF0HKb",
        "colab_type": "text"
      },
      "source": [
        "Parameter Tuning"
      ]
    },
    {
      "cell_type": "code",
      "metadata": {
        "id": "0u9iEYnrypmo",
        "colab_type": "code",
        "colab": {
          "base_uri": "https://localhost:8080/",
          "height": 51
        },
        "outputId": "606c2f68-604c-44dc-933c-8821d376e7b1"
      },
      "source": [
        "# Setting \"max_depth\" to 10 and \"min_samples_split\" to 5 : my_tree_two\n",
        "\n",
        "max_depth = 10\n",
        "min_samples_split = 5\n",
        "dtree2 = tree.DecisionTreeClassifier(max_depth = 10, min_samples_split = 5, random_state = 42)\n",
        "dtree2 = dtree2.fit(features, target)\n",
        "\n",
        "#Print the score of both the decision tree\n",
        "\n",
        "print(\"New Decision Tree Accuracy: \",dtree2.score(features, target))\n",
        "print(\"Original Decision Tree Accuracy\",dtree.score(features, target))"
      ],
      "execution_count": 41,
      "outputs": [
        {
          "output_type": "stream",
          "text": [
            "New Decision Tree Accuracy:  0.7476076555023924\n",
            "Original Decision Tree Accuracy 0.36443381180223283\n"
          ],
          "name": "stdout"
        }
      ]
    },
    {
      "cell_type": "markdown",
      "metadata": {
        "id": "H29qF0kx0gFQ",
        "colab_type": "text"
      },
      "source": [
        "We have improved our model by fine tuning the parameters. This is called hyperparameters tuning"
      ]
    },
    {
      "cell_type": "code",
      "metadata": {
        "id": "Uo1_O73J0V-n",
        "colab_type": "code",
        "colab": {}
      },
      "source": [
        "# Making predictions on our Train Data \n",
        "\n",
        "pred2 = dtree2.predict(features)"
      ],
      "execution_count": 43,
      "outputs": []
    },
    {
      "cell_type": "code",
      "metadata": {
        "id": "d6efuO300onB",
        "colab_type": "code",
        "colab": {
          "base_uri": "https://localhost:8080/",
          "height": 561
        },
        "outputId": "9afccce4-c045-4313-c39a-b983178a7375"
      },
      "source": [
        "# Building confusion matrix of our improved model\n",
        "\n",
        "df_confusion_new = metrics.confusion_matrix(target, pred2)\n",
        "df_confusion_new"
      ],
      "execution_count": 44,
      "outputs": [
        {
          "output_type": "execute_result",
          "data": {
            "text/plain": [
              "array([[ 19,   0,   0,   0,   0,   0,   1,   1,   0,   0,   0,   1,   0,\n",
              "          0,   0,   5],\n",
              "       [  3, 326,   0,   0,   7,   8,   1,   1,   0,   6,   2,   0,  10,\n",
              "          3,   6,   6],\n",
              "       [  2,   1,  42,   0,   4,   4,   1,   3,   0,   0,   0,   0,   0,\n",
              "          0,   2,  11],\n",
              "       [  0,   0,   0,   1,   0,   0,   0,   5,   0,   0,   0,   2,   0,\n",
              "          0,   0,   0],\n",
              "       [  0,  12,   1,   0, 193,   6,   2,   0,   0,   4,   1,   0,   5,\n",
              "          0,  13,   0],\n",
              "       [  0,   9,   1,   0,  13, 230,   0,   1,   0,   3,  18,   0,   9,\n",
              "         18,  16,   0],\n",
              "       [  1,   0,   0,   0,   0,   0,  23,   5,   1,   1,   0,   1,   0,\n",
              "          0,   0,   1],\n",
              "       [  0,   0,   1,   0,   0,   1,   1,  19,   0,   0,   1,   0,   0,\n",
              "          0,   0,   1],\n",
              "       [  0,   0,   0,   0,   0,   0,   0,   5,   9,   1,   0,   0,   0,\n",
              "          0,   0,   0],\n",
              "       [  0,  17,   6,   0,  18,  16,   0,   0,   1, 134,   9,   0,   7,\n",
              "          6,   4,   5],\n",
              "       [  0,   8,   2,   0,  13,   3,   1,   1,   1,   4, 246,   0,   8,\n",
              "          7,  22,   0],\n",
              "       [  0,   0,   0,   0,   0,   0,   1,   0,   1,   1,   2,  13,   0,\n",
              "          0,   0,   0],\n",
              "       [  0,   4,   2,   0,   6,   4,   0,   0,   0,   3,   2,   0, 222,\n",
              "          2,   0,   0],\n",
              "       [  0,  12,   1,   0,  20,   6,   0,   0,   0,  11,  18,   0,   8,\n",
              "        167,   2,   1],\n",
              "       [  1,  18,   1,   0,  12,   4,   0,   0,   0,   6,   7,   1,  10,\n",
              "         20, 182,   0],\n",
              "       [  0,   0,   4,   0,   6,   4,   0,   0,   0,   4,   2,   1,   4,\n",
              "         11,   2,  49]])"
            ]
          },
          "metadata": {
            "tags": []
          },
          "execution_count": 44
        }
      ]
    },
    {
      "cell_type": "code",
      "metadata": {
        "id": "1O1xk1Mq0xDj",
        "colab_type": "code",
        "colab": {
          "base_uri": "https://localhost:8080/",
          "height": 419
        },
        "outputId": "feb85a1e-3272-456e-f2a7-c718961839c0"
      },
      "source": [
        "prob_features = dtree2.predict_proba(df_test)\n",
        "\n",
        "prob_features_df = pd.DataFrame(prob_features)\n",
        "prob_features_df"
      ],
      "execution_count": 49,
      "outputs": [
        {
          "output_type": "execute_result",
          "data": {
            "text/html": [
              "<div>\n",
              "<style scoped>\n",
              "    .dataframe tbody tr th:only-of-type {\n",
              "        vertical-align: middle;\n",
              "    }\n",
              "\n",
              "    .dataframe tbody tr th {\n",
              "        vertical-align: top;\n",
              "    }\n",
              "\n",
              "    .dataframe thead th {\n",
              "        text-align: right;\n",
              "    }\n",
              "</style>\n",
              "<table border=\"1\" class=\"dataframe\">\n",
              "  <thead>\n",
              "    <tr style=\"text-align: right;\">\n",
              "      <th></th>\n",
              "      <th>0</th>\n",
              "      <th>1</th>\n",
              "      <th>2</th>\n",
              "      <th>3</th>\n",
              "      <th>4</th>\n",
              "      <th>5</th>\n",
              "      <th>6</th>\n",
              "      <th>7</th>\n",
              "      <th>8</th>\n",
              "      <th>9</th>\n",
              "      <th>10</th>\n",
              "      <th>11</th>\n",
              "      <th>12</th>\n",
              "      <th>13</th>\n",
              "      <th>14</th>\n",
              "      <th>15</th>\n",
              "    </tr>\n",
              "  </thead>\n",
              "  <tbody>\n",
              "    <tr>\n",
              "      <th>0</th>\n",
              "      <td>0.0</td>\n",
              "      <td>0.000000</td>\n",
              "      <td>0.444444</td>\n",
              "      <td>0.0</td>\n",
              "      <td>0.555556</td>\n",
              "      <td>0.000000</td>\n",
              "      <td>0.0</td>\n",
              "      <td>0.0</td>\n",
              "      <td>0.0</td>\n",
              "      <td>0.000000</td>\n",
              "      <td>0.000000</td>\n",
              "      <td>0.0</td>\n",
              "      <td>0.000000</td>\n",
              "      <td>0.000000</td>\n",
              "      <td>0.000000</td>\n",
              "      <td>0.000000</td>\n",
              "    </tr>\n",
              "    <tr>\n",
              "      <th>1</th>\n",
              "      <td>0.0</td>\n",
              "      <td>0.571429</td>\n",
              "      <td>0.000000</td>\n",
              "      <td>0.0</td>\n",
              "      <td>0.000000</td>\n",
              "      <td>0.000000</td>\n",
              "      <td>0.0</td>\n",
              "      <td>0.0</td>\n",
              "      <td>0.0</td>\n",
              "      <td>0.000000</td>\n",
              "      <td>0.000000</td>\n",
              "      <td>0.0</td>\n",
              "      <td>0.000000</td>\n",
              "      <td>0.000000</td>\n",
              "      <td>0.428571</td>\n",
              "      <td>0.000000</td>\n",
              "    </tr>\n",
              "    <tr>\n",
              "      <th>2</th>\n",
              "      <td>0.0</td>\n",
              "      <td>0.000000</td>\n",
              "      <td>0.000000</td>\n",
              "      <td>0.0</td>\n",
              "      <td>0.000000</td>\n",
              "      <td>0.000000</td>\n",
              "      <td>0.0</td>\n",
              "      <td>0.0</td>\n",
              "      <td>0.0</td>\n",
              "      <td>0.000000</td>\n",
              "      <td>1.000000</td>\n",
              "      <td>0.0</td>\n",
              "      <td>0.000000</td>\n",
              "      <td>0.000000</td>\n",
              "      <td>0.000000</td>\n",
              "      <td>0.000000</td>\n",
              "    </tr>\n",
              "    <tr>\n",
              "      <th>3</th>\n",
              "      <td>0.0</td>\n",
              "      <td>0.000000</td>\n",
              "      <td>0.000000</td>\n",
              "      <td>0.0</td>\n",
              "      <td>0.000000</td>\n",
              "      <td>0.000000</td>\n",
              "      <td>0.0</td>\n",
              "      <td>0.0</td>\n",
              "      <td>0.0</td>\n",
              "      <td>0.450000</td>\n",
              "      <td>0.550000</td>\n",
              "      <td>0.0</td>\n",
              "      <td>0.000000</td>\n",
              "      <td>0.000000</td>\n",
              "      <td>0.000000</td>\n",
              "      <td>0.000000</td>\n",
              "    </tr>\n",
              "    <tr>\n",
              "      <th>4</th>\n",
              "      <td>0.0</td>\n",
              "      <td>0.000000</td>\n",
              "      <td>0.000000</td>\n",
              "      <td>0.0</td>\n",
              "      <td>0.000000</td>\n",
              "      <td>1.000000</td>\n",
              "      <td>0.0</td>\n",
              "      <td>0.0</td>\n",
              "      <td>0.0</td>\n",
              "      <td>0.000000</td>\n",
              "      <td>0.000000</td>\n",
              "      <td>0.0</td>\n",
              "      <td>0.000000</td>\n",
              "      <td>0.000000</td>\n",
              "      <td>0.000000</td>\n",
              "      <td>0.000000</td>\n",
              "    </tr>\n",
              "    <tr>\n",
              "      <th>...</th>\n",
              "      <td>...</td>\n",
              "      <td>...</td>\n",
              "      <td>...</td>\n",
              "      <td>...</td>\n",
              "      <td>...</td>\n",
              "      <td>...</td>\n",
              "      <td>...</td>\n",
              "      <td>...</td>\n",
              "      <td>...</td>\n",
              "      <td>...</td>\n",
              "      <td>...</td>\n",
              "      <td>...</td>\n",
              "      <td>...</td>\n",
              "      <td>...</td>\n",
              "      <td>...</td>\n",
              "      <td>...</td>\n",
              "    </tr>\n",
              "    <tr>\n",
              "      <th>1070</th>\n",
              "      <td>0.0</td>\n",
              "      <td>0.000000</td>\n",
              "      <td>0.000000</td>\n",
              "      <td>0.0</td>\n",
              "      <td>0.000000</td>\n",
              "      <td>0.923077</td>\n",
              "      <td>0.0</td>\n",
              "      <td>0.0</td>\n",
              "      <td>0.0</td>\n",
              "      <td>0.000000</td>\n",
              "      <td>0.000000</td>\n",
              "      <td>0.0</td>\n",
              "      <td>0.000000</td>\n",
              "      <td>0.000000</td>\n",
              "      <td>0.000000</td>\n",
              "      <td>0.076923</td>\n",
              "    </tr>\n",
              "    <tr>\n",
              "      <th>1071</th>\n",
              "      <td>0.0</td>\n",
              "      <td>0.833333</td>\n",
              "      <td>0.000000</td>\n",
              "      <td>0.0</td>\n",
              "      <td>0.000000</td>\n",
              "      <td>0.000000</td>\n",
              "      <td>0.0</td>\n",
              "      <td>0.0</td>\n",
              "      <td>0.0</td>\n",
              "      <td>0.000000</td>\n",
              "      <td>0.000000</td>\n",
              "      <td>0.0</td>\n",
              "      <td>0.166667</td>\n",
              "      <td>0.000000</td>\n",
              "      <td>0.000000</td>\n",
              "      <td>0.000000</td>\n",
              "    </tr>\n",
              "    <tr>\n",
              "      <th>1072</th>\n",
              "      <td>0.0</td>\n",
              "      <td>0.000000</td>\n",
              "      <td>0.000000</td>\n",
              "      <td>0.0</td>\n",
              "      <td>0.000000</td>\n",
              "      <td>1.000000</td>\n",
              "      <td>0.0</td>\n",
              "      <td>0.0</td>\n",
              "      <td>0.0</td>\n",
              "      <td>0.000000</td>\n",
              "      <td>0.000000</td>\n",
              "      <td>0.0</td>\n",
              "      <td>0.000000</td>\n",
              "      <td>0.000000</td>\n",
              "      <td>0.000000</td>\n",
              "      <td>0.000000</td>\n",
              "    </tr>\n",
              "    <tr>\n",
              "      <th>1073</th>\n",
              "      <td>0.0</td>\n",
              "      <td>0.000000</td>\n",
              "      <td>0.000000</td>\n",
              "      <td>0.0</td>\n",
              "      <td>0.000000</td>\n",
              "      <td>0.000000</td>\n",
              "      <td>0.0</td>\n",
              "      <td>0.0</td>\n",
              "      <td>0.0</td>\n",
              "      <td>0.000000</td>\n",
              "      <td>0.444444</td>\n",
              "      <td>0.0</td>\n",
              "      <td>0.000000</td>\n",
              "      <td>0.555556</td>\n",
              "      <td>0.000000</td>\n",
              "      <td>0.000000</td>\n",
              "    </tr>\n",
              "    <tr>\n",
              "      <th>1074</th>\n",
              "      <td>0.0</td>\n",
              "      <td>0.000000</td>\n",
              "      <td>0.000000</td>\n",
              "      <td>0.0</td>\n",
              "      <td>0.000000</td>\n",
              "      <td>0.697674</td>\n",
              "      <td>0.0</td>\n",
              "      <td>0.0</td>\n",
              "      <td>0.0</td>\n",
              "      <td>0.302326</td>\n",
              "      <td>0.000000</td>\n",
              "      <td>0.0</td>\n",
              "      <td>0.000000</td>\n",
              "      <td>0.000000</td>\n",
              "      <td>0.000000</td>\n",
              "      <td>0.000000</td>\n",
              "    </tr>\n",
              "  </tbody>\n",
              "</table>\n",
              "<p>1075 rows × 16 columns</p>\n",
              "</div>"
            ],
            "text/plain": [
              "       0         1         2    3   ...        12        13        14        15\n",
              "0     0.0  0.000000  0.444444  0.0  ...  0.000000  0.000000  0.000000  0.000000\n",
              "1     0.0  0.571429  0.000000  0.0  ...  0.000000  0.000000  0.428571  0.000000\n",
              "2     0.0  0.000000  0.000000  0.0  ...  0.000000  0.000000  0.000000  0.000000\n",
              "3     0.0  0.000000  0.000000  0.0  ...  0.000000  0.000000  0.000000  0.000000\n",
              "4     0.0  0.000000  0.000000  0.0  ...  0.000000  0.000000  0.000000  0.000000\n",
              "...   ...       ...       ...  ...  ...       ...       ...       ...       ...\n",
              "1070  0.0  0.000000  0.000000  0.0  ...  0.000000  0.000000  0.000000  0.076923\n",
              "1071  0.0  0.833333  0.000000  0.0  ...  0.166667  0.000000  0.000000  0.000000\n",
              "1072  0.0  0.000000  0.000000  0.0  ...  0.000000  0.000000  0.000000  0.000000\n",
              "1073  0.0  0.000000  0.000000  0.0  ...  0.000000  0.555556  0.000000  0.000000\n",
              "1074  0.0  0.000000  0.000000  0.0  ...  0.000000  0.000000  0.000000  0.000000\n",
              "\n",
              "[1075 rows x 16 columns]"
            ]
          },
          "metadata": {
            "tags": []
          },
          "execution_count": 49
        }
      ]
    },
    {
      "cell_type": "code",
      "metadata": {
        "id": "yNNyVeuD1YqD",
        "colab_type": "code",
        "colab": {}
      },
      "source": [
        "# saving the dataframe \n",
        "prob_features_df.to_csv('file1.csv')"
      ],
      "execution_count": 57,
      "outputs": []
    },
    {
      "cell_type": "markdown",
      "metadata": {
        "id": "W8O0HvYmB-D7",
        "colab_type": "text"
      },
      "source": [
        "Grid Search\n",
        "\n",
        "Grid-searching is the process of scanning the data to configure optimal parameters for a given model.\n",
        "\n",
        "Let's apply Grid Search on a Decision Tree Model. It has many parameters like tree depth, criterion... etc. \n",
        "\n",
        "We will build different models with different combinations of these parameters and come up with the best model"
      ]
    },
    {
      "cell_type": "code",
      "metadata": {
        "id": "50jl5YptB6K7",
        "colab_type": "code",
        "colab": {}
      },
      "source": [
        "# Different parameters we want to test\n",
        "\n",
        "max_depth = [5,10,15,20] \n",
        "criterion = ['gini', 'entropy']"
      ],
      "execution_count": 79,
      "outputs": []
    },
    {
      "cell_type": "code",
      "metadata": {
        "id": "PkTA7qZxB6FP",
        "colab_type": "code",
        "colab": {}
      },
      "source": [
        "# Importing GridSearch\n",
        "\n",
        "from sklearn.model_selection import GridSearchCV\n",
        "\n",
        "\n",
        "# Building the model\n",
        "\n",
        "dtree3 = tree.DecisionTreeClassifier()\n",
        "\n",
        "# Cross-validation tells how well a model performs on a dataset using multiple samples of train data\n",
        "grid = GridSearchCV(estimator = dtree3, cv=5, \n",
        "                    param_grid = dict(max_depth = max_depth, criterion = criterion))"
      ],
      "execution_count": 81,
      "outputs": []
    },
    {
      "cell_type": "code",
      "metadata": {
        "id": "l513qwU0B6Cf",
        "colab_type": "code",
        "colab": {
          "base_uri": "https://localhost:8080/",
          "height": 323
        },
        "outputId": "b0ff710f-8c54-4999-b412-189a38a57c9b"
      },
      "source": [
        "grid.fit(features,target)"
      ],
      "execution_count": 82,
      "outputs": [
        {
          "output_type": "execute_result",
          "data": {
            "text/plain": [
              "GridSearchCV(cv=5, error_score=nan,\n",
              "             estimator=DecisionTreeClassifier(ccp_alpha=0.0, class_weight=None,\n",
              "                                              criterion='gini', max_depth=None,\n",
              "                                              max_features=None,\n",
              "                                              max_leaf_nodes=None,\n",
              "                                              min_impurity_decrease=0.0,\n",
              "                                              min_impurity_split=None,\n",
              "                                              min_samples_leaf=1,\n",
              "                                              min_samples_split=2,\n",
              "                                              min_weight_fraction_leaf=0.0,\n",
              "                                              presort='deprecated',\n",
              "                                              random_state=None,\n",
              "                                              splitter='best'),\n",
              "             iid='deprecated', n_jobs=None,\n",
              "             param_grid={'criterion': ['gini', 'entropy'],\n",
              "                         'max_depth': [5, 10, 15, 20]},\n",
              "             pre_dispatch='2*n_jobs', refit=True, return_train_score=False,\n",
              "             scoring=None, verbose=0)"
            ]
          },
          "metadata": {
            "tags": []
          },
          "execution_count": 82
        }
      ]
    },
    {
      "cell_type": "code",
      "metadata": {
        "id": "TED2-y-0B51s",
        "colab_type": "code",
        "colab": {
          "base_uri": "https://localhost:8080/",
          "height": 51
        },
        "outputId": "faefc447-bff1-410c-de4f-7ff447207b87"
      },
      "source": [
        "# Best accuracy score\n",
        "\n",
        "print(grid.best_score_)\n",
        "\n",
        "# Best parameters for the model\n",
        "\n",
        "print(grid.best_params_)"
      ],
      "execution_count": 83,
      "outputs": [
        {
          "output_type": "stream",
          "text": [
            "0.5881026791039435\n",
            "{'criterion': 'entropy', 'max_depth': 15}\n"
          ],
          "name": "stdout"
        }
      ]
    },
    {
      "cell_type": "code",
      "metadata": {
        "id": "GE0JlXTqB5xv",
        "colab_type": "code",
        "colab": {
          "base_uri": "https://localhost:8080/",
          "height": 34
        },
        "outputId": "35f3e3ea-e897-41e6-c4f5-067384070402"
      },
      "source": [
        "\n",
        "# Building the model based on new parameters\n",
        "\n",
        "dtree3 = tree.DecisionTreeClassifier(criterion= 'entropy', max_depth= 15, random_state=42)\n",
        "\n",
        "dtree3.fit(features,target)\n",
        "\n",
        "# Accuracy Score for new model\n",
        "\n",
        "print(dtree3.score(features,target))"
      ],
      "execution_count": 84,
      "outputs": [
        {
          "output_type": "stream",
          "text": [
            "0.9066985645933014\n"
          ],
          "name": "stdout"
        }
      ]
    },
    {
      "cell_type": "code",
      "metadata": {
        "id": "OCHbsjhWB5ui",
        "colab_type": "code",
        "colab": {
          "base_uri": "https://localhost:8080/",
          "height": 419
        },
        "outputId": "c3c8c547-4378-41c2-b098-620cadfb6c06"
      },
      "source": [
        "# Making predictions on our Train Data \n",
        "\n",
        "pred3 = dtree3.predict(features)\n",
        "\n",
        "prob_features3 = dtree3.predict_proba(df_test)\n",
        "\n",
        "prob_features_df3 = pd.DataFrame(prob_features3)\n",
        "prob_features_df3"
      ],
      "execution_count": 85,
      "outputs": [
        {
          "output_type": "execute_result",
          "data": {
            "text/html": [
              "<div>\n",
              "<style scoped>\n",
              "    .dataframe tbody tr th:only-of-type {\n",
              "        vertical-align: middle;\n",
              "    }\n",
              "\n",
              "    .dataframe tbody tr th {\n",
              "        vertical-align: top;\n",
              "    }\n",
              "\n",
              "    .dataframe thead th {\n",
              "        text-align: right;\n",
              "    }\n",
              "</style>\n",
              "<table border=\"1\" class=\"dataframe\">\n",
              "  <thead>\n",
              "    <tr style=\"text-align: right;\">\n",
              "      <th></th>\n",
              "      <th>0</th>\n",
              "      <th>1</th>\n",
              "      <th>2</th>\n",
              "      <th>3</th>\n",
              "      <th>4</th>\n",
              "      <th>5</th>\n",
              "      <th>6</th>\n",
              "      <th>7</th>\n",
              "      <th>8</th>\n",
              "      <th>9</th>\n",
              "      <th>10</th>\n",
              "      <th>11</th>\n",
              "      <th>12</th>\n",
              "      <th>13</th>\n",
              "      <th>14</th>\n",
              "      <th>15</th>\n",
              "    </tr>\n",
              "  </thead>\n",
              "  <tbody>\n",
              "    <tr>\n",
              "      <th>0</th>\n",
              "      <td>0.0</td>\n",
              "      <td>0.0</td>\n",
              "      <td>1.0</td>\n",
              "      <td>0.0</td>\n",
              "      <td>0.0</td>\n",
              "      <td>0.0</td>\n",
              "      <td>0.0</td>\n",
              "      <td>0.0</td>\n",
              "      <td>0.0</td>\n",
              "      <td>0.0</td>\n",
              "      <td>0.0</td>\n",
              "      <td>0.0</td>\n",
              "      <td>0.0</td>\n",
              "      <td>0.0</td>\n",
              "      <td>0.0</td>\n",
              "      <td>0.0</td>\n",
              "    </tr>\n",
              "    <tr>\n",
              "      <th>1</th>\n",
              "      <td>0.0</td>\n",
              "      <td>1.0</td>\n",
              "      <td>0.0</td>\n",
              "      <td>0.0</td>\n",
              "      <td>0.0</td>\n",
              "      <td>0.0</td>\n",
              "      <td>0.0</td>\n",
              "      <td>0.0</td>\n",
              "      <td>0.0</td>\n",
              "      <td>0.0</td>\n",
              "      <td>0.0</td>\n",
              "      <td>0.0</td>\n",
              "      <td>0.0</td>\n",
              "      <td>0.0</td>\n",
              "      <td>0.0</td>\n",
              "      <td>0.0</td>\n",
              "    </tr>\n",
              "    <tr>\n",
              "      <th>2</th>\n",
              "      <td>0.0</td>\n",
              "      <td>0.0</td>\n",
              "      <td>0.0</td>\n",
              "      <td>0.0</td>\n",
              "      <td>0.0</td>\n",
              "      <td>0.0</td>\n",
              "      <td>0.0</td>\n",
              "      <td>0.0</td>\n",
              "      <td>0.0</td>\n",
              "      <td>0.0</td>\n",
              "      <td>1.0</td>\n",
              "      <td>0.0</td>\n",
              "      <td>0.0</td>\n",
              "      <td>0.0</td>\n",
              "      <td>0.0</td>\n",
              "      <td>0.0</td>\n",
              "    </tr>\n",
              "    <tr>\n",
              "      <th>3</th>\n",
              "      <td>0.0</td>\n",
              "      <td>0.0</td>\n",
              "      <td>0.0</td>\n",
              "      <td>0.0</td>\n",
              "      <td>0.0</td>\n",
              "      <td>0.0</td>\n",
              "      <td>0.0</td>\n",
              "      <td>0.0</td>\n",
              "      <td>0.0</td>\n",
              "      <td>1.0</td>\n",
              "      <td>0.0</td>\n",
              "      <td>0.0</td>\n",
              "      <td>0.0</td>\n",
              "      <td>0.0</td>\n",
              "      <td>0.0</td>\n",
              "      <td>0.0</td>\n",
              "    </tr>\n",
              "    <tr>\n",
              "      <th>4</th>\n",
              "      <td>0.0</td>\n",
              "      <td>0.0</td>\n",
              "      <td>0.0</td>\n",
              "      <td>0.0</td>\n",
              "      <td>0.0</td>\n",
              "      <td>1.0</td>\n",
              "      <td>0.0</td>\n",
              "      <td>0.0</td>\n",
              "      <td>0.0</td>\n",
              "      <td>0.0</td>\n",
              "      <td>0.0</td>\n",
              "      <td>0.0</td>\n",
              "      <td>0.0</td>\n",
              "      <td>0.0</td>\n",
              "      <td>0.0</td>\n",
              "      <td>0.0</td>\n",
              "    </tr>\n",
              "    <tr>\n",
              "      <th>...</th>\n",
              "      <td>...</td>\n",
              "      <td>...</td>\n",
              "      <td>...</td>\n",
              "      <td>...</td>\n",
              "      <td>...</td>\n",
              "      <td>...</td>\n",
              "      <td>...</td>\n",
              "      <td>...</td>\n",
              "      <td>...</td>\n",
              "      <td>...</td>\n",
              "      <td>...</td>\n",
              "      <td>...</td>\n",
              "      <td>...</td>\n",
              "      <td>...</td>\n",
              "      <td>...</td>\n",
              "      <td>...</td>\n",
              "    </tr>\n",
              "    <tr>\n",
              "      <th>1070</th>\n",
              "      <td>0.0</td>\n",
              "      <td>0.0</td>\n",
              "      <td>0.0</td>\n",
              "      <td>0.0</td>\n",
              "      <td>0.0</td>\n",
              "      <td>1.0</td>\n",
              "      <td>0.0</td>\n",
              "      <td>0.0</td>\n",
              "      <td>0.0</td>\n",
              "      <td>0.0</td>\n",
              "      <td>0.0</td>\n",
              "      <td>0.0</td>\n",
              "      <td>0.0</td>\n",
              "      <td>0.0</td>\n",
              "      <td>0.0</td>\n",
              "      <td>0.0</td>\n",
              "    </tr>\n",
              "    <tr>\n",
              "      <th>1071</th>\n",
              "      <td>0.0</td>\n",
              "      <td>1.0</td>\n",
              "      <td>0.0</td>\n",
              "      <td>0.0</td>\n",
              "      <td>0.0</td>\n",
              "      <td>0.0</td>\n",
              "      <td>0.0</td>\n",
              "      <td>0.0</td>\n",
              "      <td>0.0</td>\n",
              "      <td>0.0</td>\n",
              "      <td>0.0</td>\n",
              "      <td>0.0</td>\n",
              "      <td>0.0</td>\n",
              "      <td>0.0</td>\n",
              "      <td>0.0</td>\n",
              "      <td>0.0</td>\n",
              "    </tr>\n",
              "    <tr>\n",
              "      <th>1072</th>\n",
              "      <td>0.0</td>\n",
              "      <td>0.0</td>\n",
              "      <td>0.0</td>\n",
              "      <td>0.0</td>\n",
              "      <td>0.0</td>\n",
              "      <td>1.0</td>\n",
              "      <td>0.0</td>\n",
              "      <td>0.0</td>\n",
              "      <td>0.0</td>\n",
              "      <td>0.0</td>\n",
              "      <td>0.0</td>\n",
              "      <td>0.0</td>\n",
              "      <td>0.0</td>\n",
              "      <td>0.0</td>\n",
              "      <td>0.0</td>\n",
              "      <td>0.0</td>\n",
              "    </tr>\n",
              "    <tr>\n",
              "      <th>1073</th>\n",
              "      <td>0.0</td>\n",
              "      <td>0.0</td>\n",
              "      <td>0.0</td>\n",
              "      <td>0.0</td>\n",
              "      <td>0.0</td>\n",
              "      <td>0.0</td>\n",
              "      <td>0.0</td>\n",
              "      <td>0.0</td>\n",
              "      <td>0.0</td>\n",
              "      <td>0.0</td>\n",
              "      <td>1.0</td>\n",
              "      <td>0.0</td>\n",
              "      <td>0.0</td>\n",
              "      <td>0.0</td>\n",
              "      <td>0.0</td>\n",
              "      <td>0.0</td>\n",
              "    </tr>\n",
              "    <tr>\n",
              "      <th>1074</th>\n",
              "      <td>0.0</td>\n",
              "      <td>0.0</td>\n",
              "      <td>0.0</td>\n",
              "      <td>0.0</td>\n",
              "      <td>0.0</td>\n",
              "      <td>1.0</td>\n",
              "      <td>0.0</td>\n",
              "      <td>0.0</td>\n",
              "      <td>0.0</td>\n",
              "      <td>0.0</td>\n",
              "      <td>0.0</td>\n",
              "      <td>0.0</td>\n",
              "      <td>0.0</td>\n",
              "      <td>0.0</td>\n",
              "      <td>0.0</td>\n",
              "      <td>0.0</td>\n",
              "    </tr>\n",
              "  </tbody>\n",
              "</table>\n",
              "<p>1075 rows × 16 columns</p>\n",
              "</div>"
            ],
            "text/plain": [
              "       0    1    2    3    4    5    6   ...   9    10   11   12   13   14   15\n",
              "0     0.0  0.0  1.0  0.0  0.0  0.0  0.0  ...  0.0  0.0  0.0  0.0  0.0  0.0  0.0\n",
              "1     0.0  1.0  0.0  0.0  0.0  0.0  0.0  ...  0.0  0.0  0.0  0.0  0.0  0.0  0.0\n",
              "2     0.0  0.0  0.0  0.0  0.0  0.0  0.0  ...  0.0  1.0  0.0  0.0  0.0  0.0  0.0\n",
              "3     0.0  0.0  0.0  0.0  0.0  0.0  0.0  ...  1.0  0.0  0.0  0.0  0.0  0.0  0.0\n",
              "4     0.0  0.0  0.0  0.0  0.0  1.0  0.0  ...  0.0  0.0  0.0  0.0  0.0  0.0  0.0\n",
              "...   ...  ...  ...  ...  ...  ...  ...  ...  ...  ...  ...  ...  ...  ...  ...\n",
              "1070  0.0  0.0  0.0  0.0  0.0  1.0  0.0  ...  0.0  0.0  0.0  0.0  0.0  0.0  0.0\n",
              "1071  0.0  1.0  0.0  0.0  0.0  0.0  0.0  ...  0.0  0.0  0.0  0.0  0.0  0.0  0.0\n",
              "1072  0.0  0.0  0.0  0.0  0.0  1.0  0.0  ...  0.0  0.0  0.0  0.0  0.0  0.0  0.0\n",
              "1073  0.0  0.0  0.0  0.0  0.0  0.0  0.0  ...  0.0  1.0  0.0  0.0  0.0  0.0  0.0\n",
              "1074  0.0  0.0  0.0  0.0  0.0  1.0  0.0  ...  0.0  0.0  0.0  0.0  0.0  0.0  0.0\n",
              "\n",
              "[1075 rows x 16 columns]"
            ]
          },
          "metadata": {
            "tags": []
          },
          "execution_count": 85
        }
      ]
    },
    {
      "cell_type": "code",
      "metadata": {
        "id": "0XKKytLWB5sa",
        "colab_type": "code",
        "colab": {}
      },
      "source": [
        "# saving the dataframe \n",
        "prob_features_df3.to_csv('file3.csv')"
      ],
      "execution_count": 86,
      "outputs": []
    },
    {
      "cell_type": "code",
      "metadata": {
        "id": "OZfGPyxnB5dj",
        "colab_type": "code",
        "colab": {}
      },
      "source": [
        ""
      ],
      "execution_count": null,
      "outputs": []
    },
    {
      "cell_type": "code",
      "metadata": {
        "id": "C9tDFehpB5Zm",
        "colab_type": "code",
        "colab": {}
      },
      "source": [
        ""
      ],
      "execution_count": null,
      "outputs": []
    },
    {
      "cell_type": "markdown",
      "metadata": {
        "id": "Lbiwo4gt6BK0",
        "colab_type": "text"
      },
      "source": [
        "______________________________"
      ]
    },
    {
      "cell_type": "markdown",
      "metadata": {
        "id": "5ASw0bZ06GPM",
        "colab_type": "text"
      },
      "source": [
        "Random Forest"
      ]
    },
    {
      "cell_type": "code",
      "metadata": {
        "id": "LpBMoqrt27O2",
        "colab_type": "code",
        "colab": {}
      },
      "source": [
        "# Building and fitting Random Forest\n",
        "\n",
        "from sklearn.ensemble import RandomForestClassifier\n",
        "\n",
        "rf = RandomForestClassifier(max_depth = 10, n_estimators = 100, random_state = 1)"
      ],
      "execution_count": 58,
      "outputs": []
    },
    {
      "cell_type": "markdown",
      "metadata": {
        "id": "4eEHCXCH6L_d",
        "colab_type": "text"
      },
      "source": [
        "Training Random Forest Model\n"
      ]
    },
    {
      "cell_type": "code",
      "metadata": {
        "id": "7VYIcRid6JJO",
        "colab_type": "code",
        "colab": {}
      },
      "source": [
        "# Fitting the model on Train Data\n",
        "\n",
        "my_forest = rf.fit(features,target)"
      ],
      "execution_count": 59,
      "outputs": []
    },
    {
      "cell_type": "code",
      "metadata": {
        "id": "ibz_388c6VFZ",
        "colab_type": "code",
        "colab": {
          "base_uri": "https://localhost:8080/",
          "height": 153
        },
        "outputId": "687d9c90-c212-4744-c217-47715747d445"
      },
      "source": [
        "# The feature_importances_ attribute make it simple to interpret the significance of the predictors you include\n",
        "\n",
        "list(zip(rf.feature_importances_))"
      ],
      "execution_count": 60,
      "outputs": [
        {
          "output_type": "execute_result",
          "data": {
            "text/plain": [
              "[(0.27813307479819466,),\n",
              " (0.23283915482010356,),\n",
              " (0.1402172178781017,),\n",
              " (0.1636665306823762,),\n",
              " (0.11541959419054748,),\n",
              " (0.0352409894633623,),\n",
              " (0.00010355073648669017,),\n",
              " (0.03437988743082748,)]"
            ]
          },
          "metadata": {
            "tags": []
          },
          "execution_count": 60
        }
      ]
    },
    {
      "cell_type": "code",
      "metadata": {
        "id": "H0o-E3wS6ciX",
        "colab_type": "code",
        "colab": {
          "base_uri": "https://localhost:8080/",
          "height": 34
        },
        "outputId": "f811560a-0dd6-4939-e8b6-c56e4069ffdc"
      },
      "source": [
        "# The accuracy of the model\n",
        "\n",
        "print(rf.score(features,target))"
      ],
      "execution_count": 61,
      "outputs": [
        {
          "output_type": "stream",
          "text": [
            "0.8157894736842105\n"
          ],
          "name": "stdout"
        }
      ]
    },
    {
      "cell_type": "markdown",
      "metadata": {
        "id": "vTbwX8C163ht",
        "colab_type": "text"
      },
      "source": [
        "Predictions from RandomForest Model"
      ]
    },
    {
      "cell_type": "code",
      "metadata": {
        "id": "IySKLjDj6kig",
        "colab_type": "code",
        "colab": {}
      },
      "source": [
        "# Predictions from RF Model\n",
        "\n",
        "y_pred_rf = rf.predict(df_test)\n",
        "\n",
        "pred_rf = rf.predict(features)\n",
        "cf_rf = metrics.confusion_matrix(target, pred_rf)\n"
      ],
      "execution_count": 64,
      "outputs": []
    },
    {
      "cell_type": "markdown",
      "metadata": {
        "id": "zghsSQhG7mKx",
        "colab_type": "text"
      },
      "source": [
        "Parameter Tuning"
      ]
    },
    {
      "cell_type": "code",
      "metadata": {
        "id": "Eo7nupe07B6s",
        "colab_type": "code",
        "colab": {}
      },
      "source": [
        "# Different parameters we want to test\n",
        "\n",
        "# Number of trees in random forest\n",
        "n_estimators = [int(x) for x in np.linspace(start = 200, stop = 1000, num = 10)]\n",
        "# Number of features to consider at every split\n",
        "max_features = ['auto', 'sqrt']\n",
        "# Maximum number of levels in tree\n",
        "max_depth = [int(x) for x in np.linspace(10, 110, num = 11)]\n",
        "max_depth.append(None)\n",
        "# Minimum number of samples required to split a node\n",
        "min_samples_split = [2, 5, 10,15]\n",
        "# Minimum number of samples required at each leaf node\n",
        "min_samples_leaf = [1, 2, 4,6]\n",
        "# Method of selecting samples for training each tree\n",
        "bootstrap = [True, False]"
      ],
      "execution_count": 87,
      "outputs": []
    },
    {
      "cell_type": "code",
      "metadata": {
        "id": "HEzi8pLV7vSd",
        "colab_type": "code",
        "colab": {}
      },
      "source": [
        "random_grid = {'n_estimators': n_estimators,\n",
        "               'max_features': max_features,\n",
        "               'max_depth': max_depth,\n",
        "               'min_samples_split': min_samples_split,\n",
        "               'min_samples_leaf': min_samples_leaf,\n",
        "               'bootstrap': bootstrap}"
      ],
      "execution_count": 88,
      "outputs": []
    },
    {
      "cell_type": "code",
      "metadata": {
        "id": "jCW2bVZ072m9",
        "colab_type": "code",
        "colab": {}
      },
      "source": [
        "\n",
        "# Importing RandomizedSearchCV\n",
        "\n",
        "from sklearn.model_selection import RandomizedSearchCV\n",
        "\n",
        "\n",
        "rf2 = RandomForestClassifier()\n",
        "\n",
        "# Fitting 3 folds for each of 100 candidates, totalling 300 fits\n",
        "rf_random = RandomizedSearchCV(estimator = rf2, param_distributions = random_grid, \n",
        "                               n_iter = 100, cv = 3, verbose=2, random_state=42)\n",
        "\n"
      ],
      "execution_count": 89,
      "outputs": []
    },
    {
      "cell_type": "code",
      "metadata": {
        "id": "W6BGcuUe8DP1",
        "colab_type": "code",
        "colab": {
          "base_uri": "https://localhost:8080/",
          "height": 1000
        },
        "outputId": "8a91e5aa-2ab5-4004-b2d5-27b43fb4f7e5"
      },
      "source": [
        "rf_random.fit(features,target)"
      ],
      "execution_count": 90,
      "outputs": [
        {
          "output_type": "stream",
          "text": [
            "Fitting 3 folds for each of 100 candidates, totalling 300 fits\n",
            "[CV] n_estimators=377, min_samples_split=15, min_samples_leaf=2, max_features=sqrt, max_depth=70, bootstrap=False \n"
          ],
          "name": "stdout"
        },
        {
          "output_type": "stream",
          "text": [
            "[Parallel(n_jobs=1)]: Using backend SequentialBackend with 1 concurrent workers.\n"
          ],
          "name": "stderr"
        },
        {
          "output_type": "stream",
          "text": [
            "[CV]  n_estimators=377, min_samples_split=15, min_samples_leaf=2, max_features=sqrt, max_depth=70, bootstrap=False, total=   1.0s\n",
            "[CV] n_estimators=377, min_samples_split=15, min_samples_leaf=2, max_features=sqrt, max_depth=70, bootstrap=False \n"
          ],
          "name": "stdout"
        },
        {
          "output_type": "stream",
          "text": [
            "[Parallel(n_jobs=1)]: Done   1 out of   1 | elapsed:    1.0s remaining:    0.0s\n"
          ],
          "name": "stderr"
        },
        {
          "output_type": "stream",
          "text": [
            "[CV]  n_estimators=377, min_samples_split=15, min_samples_leaf=2, max_features=sqrt, max_depth=70, bootstrap=False, total=   1.0s\n",
            "[CV] n_estimators=377, min_samples_split=15, min_samples_leaf=2, max_features=sqrt, max_depth=70, bootstrap=False \n",
            "[CV]  n_estimators=377, min_samples_split=15, min_samples_leaf=2, max_features=sqrt, max_depth=70, bootstrap=False, total=   1.0s\n",
            "[CV] n_estimators=733, min_samples_split=10, min_samples_leaf=6, max_features=sqrt, max_depth=20, bootstrap=False \n",
            "[CV]  n_estimators=733, min_samples_split=10, min_samples_leaf=6, max_features=sqrt, max_depth=20, bootstrap=False, total=   1.8s\n",
            "[CV] n_estimators=733, min_samples_split=10, min_samples_leaf=6, max_features=sqrt, max_depth=20, bootstrap=False \n",
            "[CV]  n_estimators=733, min_samples_split=10, min_samples_leaf=6, max_features=sqrt, max_depth=20, bootstrap=False, total=   1.8s\n",
            "[CV] n_estimators=733, min_samples_split=10, min_samples_leaf=6, max_features=sqrt, max_depth=20, bootstrap=False \n",
            "[CV]  n_estimators=733, min_samples_split=10, min_samples_leaf=6, max_features=sqrt, max_depth=20, bootstrap=False, total=   1.8s\n",
            "[CV] n_estimators=644, min_samples_split=5, min_samples_leaf=6, max_features=sqrt, max_depth=50, bootstrap=True \n",
            "[CV]  n_estimators=644, min_samples_split=5, min_samples_leaf=6, max_features=sqrt, max_depth=50, bootstrap=True, total=   1.6s\n",
            "[CV] n_estimators=644, min_samples_split=5, min_samples_leaf=6, max_features=sqrt, max_depth=50, bootstrap=True \n",
            "[CV]  n_estimators=644, min_samples_split=5, min_samples_leaf=6, max_features=sqrt, max_depth=50, bootstrap=True, total=   1.6s\n",
            "[CV] n_estimators=644, min_samples_split=5, min_samples_leaf=6, max_features=sqrt, max_depth=50, bootstrap=True \n",
            "[CV]  n_estimators=644, min_samples_split=5, min_samples_leaf=6, max_features=sqrt, max_depth=50, bootstrap=True, total=   1.6s\n",
            "[CV] n_estimators=822, min_samples_split=10, min_samples_leaf=6, max_features=sqrt, max_depth=30, bootstrap=False \n",
            "[CV]  n_estimators=822, min_samples_split=10, min_samples_leaf=6, max_features=sqrt, max_depth=30, bootstrap=False, total=   2.0s\n",
            "[CV] n_estimators=822, min_samples_split=10, min_samples_leaf=6, max_features=sqrt, max_depth=30, bootstrap=False \n",
            "[CV]  n_estimators=822, min_samples_split=10, min_samples_leaf=6, max_features=sqrt, max_depth=30, bootstrap=False, total=   2.1s\n",
            "[CV] n_estimators=822, min_samples_split=10, min_samples_leaf=6, max_features=sqrt, max_depth=30, bootstrap=False \n",
            "[CV]  n_estimators=822, min_samples_split=10, min_samples_leaf=6, max_features=sqrt, max_depth=30, bootstrap=False, total=   2.0s\n",
            "[CV] n_estimators=911, min_samples_split=5, min_samples_leaf=1, max_features=auto, max_depth=None, bootstrap=True \n",
            "[CV]  n_estimators=911, min_samples_split=5, min_samples_leaf=1, max_features=auto, max_depth=None, bootstrap=True, total=   2.8s\n",
            "[CV] n_estimators=911, min_samples_split=5, min_samples_leaf=1, max_features=auto, max_depth=None, bootstrap=True \n",
            "[CV]  n_estimators=911, min_samples_split=5, min_samples_leaf=1, max_features=auto, max_depth=None, bootstrap=True, total=   2.7s\n",
            "[CV] n_estimators=911, min_samples_split=5, min_samples_leaf=1, max_features=auto, max_depth=None, bootstrap=True \n",
            "[CV]  n_estimators=911, min_samples_split=5, min_samples_leaf=1, max_features=auto, max_depth=None, bootstrap=True, total=   2.7s\n",
            "[CV] n_estimators=466, min_samples_split=15, min_samples_leaf=2, max_features=sqrt, max_depth=40, bootstrap=True \n",
            "[CV]  n_estimators=466, min_samples_split=15, min_samples_leaf=2, max_features=sqrt, max_depth=40, bootstrap=True, total=   1.2s\n",
            "[CV] n_estimators=466, min_samples_split=15, min_samples_leaf=2, max_features=sqrt, max_depth=40, bootstrap=True \n",
            "[CV]  n_estimators=466, min_samples_split=15, min_samples_leaf=2, max_features=sqrt, max_depth=40, bootstrap=True, total=   1.2s\n",
            "[CV] n_estimators=466, min_samples_split=15, min_samples_leaf=2, max_features=sqrt, max_depth=40, bootstrap=True \n",
            "[CV]  n_estimators=466, min_samples_split=15, min_samples_leaf=2, max_features=sqrt, max_depth=40, bootstrap=True, total=   1.2s\n",
            "[CV] n_estimators=555, min_samples_split=15, min_samples_leaf=2, max_features=sqrt, max_depth=30, bootstrap=False \n",
            "[CV]  n_estimators=555, min_samples_split=15, min_samples_leaf=2, max_features=sqrt, max_depth=30, bootstrap=False, total=   1.4s\n",
            "[CV] n_estimators=555, min_samples_split=15, min_samples_leaf=2, max_features=sqrt, max_depth=30, bootstrap=False \n",
            "[CV]  n_estimators=555, min_samples_split=15, min_samples_leaf=2, max_features=sqrt, max_depth=30, bootstrap=False, total=   1.5s\n",
            "[CV] n_estimators=555, min_samples_split=15, min_samples_leaf=2, max_features=sqrt, max_depth=30, bootstrap=False \n",
            "[CV]  n_estimators=555, min_samples_split=15, min_samples_leaf=2, max_features=sqrt, max_depth=30, bootstrap=False, total=   1.4s\n",
            "[CV] n_estimators=733, min_samples_split=2, min_samples_leaf=4, max_features=sqrt, max_depth=10, bootstrap=False \n",
            "[CV]  n_estimators=733, min_samples_split=2, min_samples_leaf=4, max_features=sqrt, max_depth=10, bootstrap=False, total=   1.8s\n",
            "[CV] n_estimators=733, min_samples_split=2, min_samples_leaf=4, max_features=sqrt, max_depth=10, bootstrap=False \n",
            "[CV]  n_estimators=733, min_samples_split=2, min_samples_leaf=4, max_features=sqrt, max_depth=10, bootstrap=False, total=   1.8s\n",
            "[CV] n_estimators=733, min_samples_split=2, min_samples_leaf=4, max_features=sqrt, max_depth=10, bootstrap=False \n",
            "[CV]  n_estimators=733, min_samples_split=2, min_samples_leaf=4, max_features=sqrt, max_depth=10, bootstrap=False, total=   1.8s\n",
            "[CV] n_estimators=822, min_samples_split=15, min_samples_leaf=1, max_features=auto, max_depth=10, bootstrap=True \n",
            "[CV]  n_estimators=822, min_samples_split=15, min_samples_leaf=1, max_features=auto, max_depth=10, bootstrap=True, total=   2.1s\n",
            "[CV] n_estimators=822, min_samples_split=15, min_samples_leaf=1, max_features=auto, max_depth=10, bootstrap=True \n",
            "[CV]  n_estimators=822, min_samples_split=15, min_samples_leaf=1, max_features=auto, max_depth=10, bootstrap=True, total=   2.1s\n",
            "[CV] n_estimators=822, min_samples_split=15, min_samples_leaf=1, max_features=auto, max_depth=10, bootstrap=True \n",
            "[CV]  n_estimators=822, min_samples_split=15, min_samples_leaf=1, max_features=auto, max_depth=10, bootstrap=True, total=   2.0s\n",
            "[CV] n_estimators=644, min_samples_split=2, min_samples_leaf=6, max_features=auto, max_depth=50, bootstrap=True \n",
            "[CV]  n_estimators=644, min_samples_split=2, min_samples_leaf=6, max_features=auto, max_depth=50, bootstrap=True, total=   1.6s\n",
            "[CV] n_estimators=644, min_samples_split=2, min_samples_leaf=6, max_features=auto, max_depth=50, bootstrap=True \n",
            "[CV]  n_estimators=644, min_samples_split=2, min_samples_leaf=6, max_features=auto, max_depth=50, bootstrap=True, total=   1.6s\n",
            "[CV] n_estimators=644, min_samples_split=2, min_samples_leaf=6, max_features=auto, max_depth=50, bootstrap=True \n",
            "[CV]  n_estimators=644, min_samples_split=2, min_samples_leaf=6, max_features=auto, max_depth=50, bootstrap=True, total=   1.6s\n",
            "[CV] n_estimators=466, min_samples_split=2, min_samples_leaf=4, max_features=sqrt, max_depth=90, bootstrap=False \n",
            "[CV]  n_estimators=466, min_samples_split=2, min_samples_leaf=4, max_features=sqrt, max_depth=90, bootstrap=False, total=   1.2s\n",
            "[CV] n_estimators=466, min_samples_split=2, min_samples_leaf=4, max_features=sqrt, max_depth=90, bootstrap=False \n",
            "[CV]  n_estimators=466, min_samples_split=2, min_samples_leaf=4, max_features=sqrt, max_depth=90, bootstrap=False, total=   1.2s\n",
            "[CV] n_estimators=466, min_samples_split=2, min_samples_leaf=4, max_features=sqrt, max_depth=90, bootstrap=False \n",
            "[CV]  n_estimators=466, min_samples_split=2, min_samples_leaf=4, max_features=sqrt, max_depth=90, bootstrap=False, total=   1.2s\n",
            "[CV] n_estimators=1000, min_samples_split=15, min_samples_leaf=6, max_features=auto, max_depth=90, bootstrap=False \n",
            "[CV]  n_estimators=1000, min_samples_split=15, min_samples_leaf=6, max_features=auto, max_depth=90, bootstrap=False, total=   2.4s\n",
            "[CV] n_estimators=1000, min_samples_split=15, min_samples_leaf=6, max_features=auto, max_depth=90, bootstrap=False \n",
            "[CV]  n_estimators=1000, min_samples_split=15, min_samples_leaf=6, max_features=auto, max_depth=90, bootstrap=False, total=   2.4s\n",
            "[CV] n_estimators=1000, min_samples_split=15, min_samples_leaf=6, max_features=auto, max_depth=90, bootstrap=False \n",
            "[CV]  n_estimators=1000, min_samples_split=15, min_samples_leaf=6, max_features=auto, max_depth=90, bootstrap=False, total=   2.4s\n",
            "[CV] n_estimators=200, min_samples_split=10, min_samples_leaf=4, max_features=auto, max_depth=100, bootstrap=False \n",
            "[CV]  n_estimators=200, min_samples_split=10, min_samples_leaf=4, max_features=auto, max_depth=100, bootstrap=False, total=   0.5s\n",
            "[CV] n_estimators=200, min_samples_split=10, min_samples_leaf=4, max_features=auto, max_depth=100, bootstrap=False \n",
            "[CV]  n_estimators=200, min_samples_split=10, min_samples_leaf=4, max_features=auto, max_depth=100, bootstrap=False, total=   0.5s\n",
            "[CV] n_estimators=200, min_samples_split=10, min_samples_leaf=4, max_features=auto, max_depth=100, bootstrap=False \n",
            "[CV]  n_estimators=200, min_samples_split=10, min_samples_leaf=4, max_features=auto, max_depth=100, bootstrap=False, total=   0.5s\n",
            "[CV] n_estimators=200, min_samples_split=2, min_samples_leaf=2, max_features=sqrt, max_depth=80, bootstrap=False \n",
            "[CV]  n_estimators=200, min_samples_split=2, min_samples_leaf=2, max_features=sqrt, max_depth=80, bootstrap=False, total=   0.6s\n",
            "[CV] n_estimators=200, min_samples_split=2, min_samples_leaf=2, max_features=sqrt, max_depth=80, bootstrap=False \n",
            "[CV]  n_estimators=200, min_samples_split=2, min_samples_leaf=2, max_features=sqrt, max_depth=80, bootstrap=False, total=   0.6s\n",
            "[CV] n_estimators=200, min_samples_split=2, min_samples_leaf=2, max_features=sqrt, max_depth=80, bootstrap=False \n",
            "[CV]  n_estimators=200, min_samples_split=2, min_samples_leaf=2, max_features=sqrt, max_depth=80, bootstrap=False, total=   0.6s\n",
            "[CV] n_estimators=911, min_samples_split=15, min_samples_leaf=6, max_features=auto, max_depth=60, bootstrap=True \n",
            "[CV]  n_estimators=911, min_samples_split=15, min_samples_leaf=6, max_features=auto, max_depth=60, bootstrap=True, total=   2.3s\n",
            "[CV] n_estimators=911, min_samples_split=15, min_samples_leaf=6, max_features=auto, max_depth=60, bootstrap=True \n",
            "[CV]  n_estimators=911, min_samples_split=15, min_samples_leaf=6, max_features=auto, max_depth=60, bootstrap=True, total=   2.4s\n",
            "[CV] n_estimators=911, min_samples_split=15, min_samples_leaf=6, max_features=auto, max_depth=60, bootstrap=True \n",
            "[CV]  n_estimators=911, min_samples_split=15, min_samples_leaf=6, max_features=auto, max_depth=60, bootstrap=True, total=   2.3s\n",
            "[CV] n_estimators=288, min_samples_split=2, min_samples_leaf=6, max_features=sqrt, max_depth=80, bootstrap=True \n",
            "[CV]  n_estimators=288, min_samples_split=2, min_samples_leaf=6, max_features=sqrt, max_depth=80, bootstrap=True, total=   0.7s\n",
            "[CV] n_estimators=288, min_samples_split=2, min_samples_leaf=6, max_features=sqrt, max_depth=80, bootstrap=True \n",
            "[CV]  n_estimators=288, min_samples_split=2, min_samples_leaf=6, max_features=sqrt, max_depth=80, bootstrap=True, total=   0.7s\n",
            "[CV] n_estimators=288, min_samples_split=2, min_samples_leaf=6, max_features=sqrt, max_depth=80, bootstrap=True \n",
            "[CV]  n_estimators=288, min_samples_split=2, min_samples_leaf=6, max_features=sqrt, max_depth=80, bootstrap=True, total=   0.7s\n",
            "[CV] n_estimators=1000, min_samples_split=2, min_samples_leaf=4, max_features=sqrt, max_depth=None, bootstrap=False \n",
            "[CV]  n_estimators=1000, min_samples_split=2, min_samples_leaf=4, max_features=sqrt, max_depth=None, bootstrap=False, total=   2.7s\n",
            "[CV] n_estimators=1000, min_samples_split=2, min_samples_leaf=4, max_features=sqrt, max_depth=None, bootstrap=False \n",
            "[CV]  n_estimators=1000, min_samples_split=2, min_samples_leaf=4, max_features=sqrt, max_depth=None, bootstrap=False, total=   2.6s\n",
            "[CV] n_estimators=1000, min_samples_split=2, min_samples_leaf=4, max_features=sqrt, max_depth=None, bootstrap=False \n",
            "[CV]  n_estimators=1000, min_samples_split=2, min_samples_leaf=4, max_features=sqrt, max_depth=None, bootstrap=False, total=   2.6s\n",
            "[CV] n_estimators=822, min_samples_split=15, min_samples_leaf=2, max_features=sqrt, max_depth=80, bootstrap=False \n",
            "[CV]  n_estimators=822, min_samples_split=15, min_samples_leaf=2, max_features=sqrt, max_depth=80, bootstrap=False, total=   2.1s\n",
            "[CV] n_estimators=822, min_samples_split=15, min_samples_leaf=2, max_features=sqrt, max_depth=80, bootstrap=False \n",
            "[CV]  n_estimators=822, min_samples_split=15, min_samples_leaf=2, max_features=sqrt, max_depth=80, bootstrap=False, total=   2.1s\n",
            "[CV] n_estimators=822, min_samples_split=15, min_samples_leaf=2, max_features=sqrt, max_depth=80, bootstrap=False \n",
            "[CV]  n_estimators=822, min_samples_split=15, min_samples_leaf=2, max_features=sqrt, max_depth=80, bootstrap=False, total=   2.0s\n",
            "[CV] n_estimators=644, min_samples_split=15, min_samples_leaf=1, max_features=sqrt, max_depth=70, bootstrap=True \n",
            "[CV]  n_estimators=644, min_samples_split=15, min_samples_leaf=1, max_features=sqrt, max_depth=70, bootstrap=True, total=   1.6s\n",
            "[CV] n_estimators=644, min_samples_split=15, min_samples_leaf=1, max_features=sqrt, max_depth=70, bootstrap=True \n",
            "[CV]  n_estimators=644, min_samples_split=15, min_samples_leaf=1, max_features=sqrt, max_depth=70, bootstrap=True, total=   1.6s\n",
            "[CV] n_estimators=644, min_samples_split=15, min_samples_leaf=1, max_features=sqrt, max_depth=70, bootstrap=True \n",
            "[CV]  n_estimators=644, min_samples_split=15, min_samples_leaf=1, max_features=sqrt, max_depth=70, bootstrap=True, total=   1.6s\n",
            "[CV] n_estimators=1000, min_samples_split=10, min_samples_leaf=2, max_features=auto, max_depth=60, bootstrap=True \n",
            "[CV]  n_estimators=1000, min_samples_split=10, min_samples_leaf=2, max_features=auto, max_depth=60, bootstrap=True, total=   2.6s\n",
            "[CV] n_estimators=1000, min_samples_split=10, min_samples_leaf=2, max_features=auto, max_depth=60, bootstrap=True \n",
            "[CV]  n_estimators=1000, min_samples_split=10, min_samples_leaf=2, max_features=auto, max_depth=60, bootstrap=True, total=   2.7s\n",
            "[CV] n_estimators=1000, min_samples_split=10, min_samples_leaf=2, max_features=auto, max_depth=60, bootstrap=True \n",
            "[CV]  n_estimators=1000, min_samples_split=10, min_samples_leaf=2, max_features=auto, max_depth=60, bootstrap=True, total=   2.7s\n",
            "[CV] n_estimators=466, min_samples_split=15, min_samples_leaf=1, max_features=auto, max_depth=80, bootstrap=True \n",
            "[CV]  n_estimators=466, min_samples_split=15, min_samples_leaf=1, max_features=auto, max_depth=80, bootstrap=True, total=   1.2s\n",
            "[CV] n_estimators=466, min_samples_split=15, min_samples_leaf=1, max_features=auto, max_depth=80, bootstrap=True \n",
            "[CV]  n_estimators=466, min_samples_split=15, min_samples_leaf=1, max_features=auto, max_depth=80, bootstrap=True, total=   1.2s\n",
            "[CV] n_estimators=466, min_samples_split=15, min_samples_leaf=1, max_features=auto, max_depth=80, bootstrap=True \n",
            "[CV]  n_estimators=466, min_samples_split=15, min_samples_leaf=1, max_features=auto, max_depth=80, bootstrap=True, total=   1.2s\n",
            "[CV] n_estimators=555, min_samples_split=5, min_samples_leaf=6, max_features=auto, max_depth=50, bootstrap=True \n",
            "[CV]  n_estimators=555, min_samples_split=5, min_samples_leaf=6, max_features=auto, max_depth=50, bootstrap=True, total=   1.4s\n",
            "[CV] n_estimators=555, min_samples_split=5, min_samples_leaf=6, max_features=auto, max_depth=50, bootstrap=True \n",
            "[CV]  n_estimators=555, min_samples_split=5, min_samples_leaf=6, max_features=auto, max_depth=50, bootstrap=True, total=   1.4s\n",
            "[CV] n_estimators=555, min_samples_split=5, min_samples_leaf=6, max_features=auto, max_depth=50, bootstrap=True \n",
            "[CV]  n_estimators=555, min_samples_split=5, min_samples_leaf=6, max_features=auto, max_depth=50, bootstrap=True, total=   1.4s\n",
            "[CV] n_estimators=288, min_samples_split=5, min_samples_leaf=2, max_features=sqrt, max_depth=110, bootstrap=False \n",
            "[CV]  n_estimators=288, min_samples_split=5, min_samples_leaf=2, max_features=sqrt, max_depth=110, bootstrap=False, total=   0.9s\n",
            "[CV] n_estimators=288, min_samples_split=5, min_samples_leaf=2, max_features=sqrt, max_depth=110, bootstrap=False \n",
            "[CV]  n_estimators=288, min_samples_split=5, min_samples_leaf=2, max_features=sqrt, max_depth=110, bootstrap=False, total=   0.9s\n",
            "[CV] n_estimators=288, min_samples_split=5, min_samples_leaf=2, max_features=sqrt, max_depth=110, bootstrap=False \n",
            "[CV]  n_estimators=288, min_samples_split=5, min_samples_leaf=2, max_features=sqrt, max_depth=110, bootstrap=False, total=   0.9s\n",
            "[CV] n_estimators=555, min_samples_split=15, min_samples_leaf=6, max_features=sqrt, max_depth=70, bootstrap=False \n",
            "[CV]  n_estimators=555, min_samples_split=15, min_samples_leaf=6, max_features=sqrt, max_depth=70, bootstrap=False, total=   1.3s\n",
            "[CV] n_estimators=555, min_samples_split=15, min_samples_leaf=6, max_features=sqrt, max_depth=70, bootstrap=False \n",
            "[CV]  n_estimators=555, min_samples_split=15, min_samples_leaf=6, max_features=sqrt, max_depth=70, bootstrap=False, total=   1.3s\n",
            "[CV] n_estimators=555, min_samples_split=15, min_samples_leaf=6, max_features=sqrt, max_depth=70, bootstrap=False \n",
            "[CV]  n_estimators=555, min_samples_split=15, min_samples_leaf=6, max_features=sqrt, max_depth=70, bootstrap=False, total=   1.4s\n",
            "[CV] n_estimators=822, min_samples_split=5, min_samples_leaf=2, max_features=sqrt, max_depth=40, bootstrap=False \n",
            "[CV]  n_estimators=822, min_samples_split=5, min_samples_leaf=2, max_features=sqrt, max_depth=40, bootstrap=False, total=   2.3s\n",
            "[CV] n_estimators=822, min_samples_split=5, min_samples_leaf=2, max_features=sqrt, max_depth=40, bootstrap=False \n",
            "[CV]  n_estimators=822, min_samples_split=5, min_samples_leaf=2, max_features=sqrt, max_depth=40, bootstrap=False, total=   2.4s\n",
            "[CV] n_estimators=822, min_samples_split=5, min_samples_leaf=2, max_features=sqrt, max_depth=40, bootstrap=False \n",
            "[CV]  n_estimators=822, min_samples_split=5, min_samples_leaf=2, max_features=sqrt, max_depth=40, bootstrap=False, total=   2.4s\n",
            "[CV] n_estimators=555, min_samples_split=2, min_samples_leaf=4, max_features=sqrt, max_depth=10, bootstrap=False \n",
            "[CV]  n_estimators=555, min_samples_split=2, min_samples_leaf=4, max_features=sqrt, max_depth=10, bootstrap=False, total=   1.3s\n",
            "[CV] n_estimators=555, min_samples_split=2, min_samples_leaf=4, max_features=sqrt, max_depth=10, bootstrap=False \n",
            "[CV]  n_estimators=555, min_samples_split=2, min_samples_leaf=4, max_features=sqrt, max_depth=10, bootstrap=False, total=   1.4s\n",
            "[CV] n_estimators=555, min_samples_split=2, min_samples_leaf=4, max_features=sqrt, max_depth=10, bootstrap=False \n",
            "[CV]  n_estimators=555, min_samples_split=2, min_samples_leaf=4, max_features=sqrt, max_depth=10, bootstrap=False, total=   1.4s\n",
            "[CV] n_estimators=822, min_samples_split=2, min_samples_leaf=6, max_features=auto, max_depth=110, bootstrap=False \n",
            "[CV]  n_estimators=822, min_samples_split=2, min_samples_leaf=6, max_features=auto, max_depth=110, bootstrap=False, total=   2.0s\n",
            "[CV] n_estimators=822, min_samples_split=2, min_samples_leaf=6, max_features=auto, max_depth=110, bootstrap=False \n",
            "[CV]  n_estimators=822, min_samples_split=2, min_samples_leaf=6, max_features=auto, max_depth=110, bootstrap=False, total=   2.0s\n",
            "[CV] n_estimators=822, min_samples_split=2, min_samples_leaf=6, max_features=auto, max_depth=110, bootstrap=False \n",
            "[CV]  n_estimators=822, min_samples_split=2, min_samples_leaf=6, max_features=auto, max_depth=110, bootstrap=False, total=   2.0s\n",
            "[CV] n_estimators=555, min_samples_split=10, min_samples_leaf=4, max_features=sqrt, max_depth=70, bootstrap=True \n",
            "[CV]  n_estimators=555, min_samples_split=10, min_samples_leaf=4, max_features=sqrt, max_depth=70, bootstrap=True, total=   1.5s\n",
            "[CV] n_estimators=555, min_samples_split=10, min_samples_leaf=4, max_features=sqrt, max_depth=70, bootstrap=True \n",
            "[CV]  n_estimators=555, min_samples_split=10, min_samples_leaf=4, max_features=sqrt, max_depth=70, bootstrap=True, total=   1.5s\n",
            "[CV] n_estimators=555, min_samples_split=10, min_samples_leaf=4, max_features=sqrt, max_depth=70, bootstrap=True \n",
            "[CV]  n_estimators=555, min_samples_split=10, min_samples_leaf=4, max_features=sqrt, max_depth=70, bootstrap=True, total=   1.4s\n",
            "[CV] n_estimators=288, min_samples_split=5, min_samples_leaf=6, max_features=sqrt, max_depth=30, bootstrap=False \n",
            "[CV]  n_estimators=288, min_samples_split=5, min_samples_leaf=6, max_features=sqrt, max_depth=30, bootstrap=False, total=   0.7s\n",
            "[CV] n_estimators=288, min_samples_split=5, min_samples_leaf=6, max_features=sqrt, max_depth=30, bootstrap=False \n",
            "[CV]  n_estimators=288, min_samples_split=5, min_samples_leaf=6, max_features=sqrt, max_depth=30, bootstrap=False, total=   0.7s\n",
            "[CV] n_estimators=288, min_samples_split=5, min_samples_leaf=6, max_features=sqrt, max_depth=30, bootstrap=False \n",
            "[CV]  n_estimators=288, min_samples_split=5, min_samples_leaf=6, max_features=sqrt, max_depth=30, bootstrap=False, total=   0.7s\n",
            "[CV] n_estimators=466, min_samples_split=10, min_samples_leaf=1, max_features=auto, max_depth=None, bootstrap=True \n",
            "[CV]  n_estimators=466, min_samples_split=10, min_samples_leaf=1, max_features=auto, max_depth=None, bootstrap=True, total=   1.2s\n",
            "[CV] n_estimators=466, min_samples_split=10, min_samples_leaf=1, max_features=auto, max_depth=None, bootstrap=True \n",
            "[CV]  n_estimators=466, min_samples_split=10, min_samples_leaf=1, max_features=auto, max_depth=None, bootstrap=True, total=   1.2s\n",
            "[CV] n_estimators=466, min_samples_split=10, min_samples_leaf=1, max_features=auto, max_depth=None, bootstrap=True \n",
            "[CV]  n_estimators=466, min_samples_split=10, min_samples_leaf=1, max_features=auto, max_depth=None, bootstrap=True, total=   1.3s\n",
            "[CV] n_estimators=644, min_samples_split=5, min_samples_leaf=4, max_features=auto, max_depth=10, bootstrap=True \n",
            "[CV]  n_estimators=644, min_samples_split=5, min_samples_leaf=4, max_features=auto, max_depth=10, bootstrap=True, total=   1.8s\n",
            "[CV] n_estimators=644, min_samples_split=5, min_samples_leaf=4, max_features=auto, max_depth=10, bootstrap=True \n",
            "[CV]  n_estimators=644, min_samples_split=5, min_samples_leaf=4, max_features=auto, max_depth=10, bootstrap=True, total=   1.7s\n",
            "[CV] n_estimators=644, min_samples_split=5, min_samples_leaf=4, max_features=auto, max_depth=10, bootstrap=True \n",
            "[CV]  n_estimators=644, min_samples_split=5, min_samples_leaf=4, max_features=auto, max_depth=10, bootstrap=True, total=   1.7s\n",
            "[CV] n_estimators=555, min_samples_split=15, min_samples_leaf=2, max_features=auto, max_depth=70, bootstrap=False \n",
            "[CV]  n_estimators=555, min_samples_split=15, min_samples_leaf=2, max_features=auto, max_depth=70, bootstrap=False, total=   1.4s\n",
            "[CV] n_estimators=555, min_samples_split=15, min_samples_leaf=2, max_features=auto, max_depth=70, bootstrap=False \n",
            "[CV]  n_estimators=555, min_samples_split=15, min_samples_leaf=2, max_features=auto, max_depth=70, bootstrap=False, total=   1.4s\n",
            "[CV] n_estimators=555, min_samples_split=15, min_samples_leaf=2, max_features=auto, max_depth=70, bootstrap=False \n",
            "[CV]  n_estimators=555, min_samples_split=15, min_samples_leaf=2, max_features=auto, max_depth=70, bootstrap=False, total=   1.4s\n",
            "[CV] n_estimators=733, min_samples_split=10, min_samples_leaf=6, max_features=sqrt, max_depth=80, bootstrap=False \n",
            "[CV]  n_estimators=733, min_samples_split=10, min_samples_leaf=6, max_features=sqrt, max_depth=80, bootstrap=False, total=   1.9s\n",
            "[CV] n_estimators=733, min_samples_split=10, min_samples_leaf=6, max_features=sqrt, max_depth=80, bootstrap=False \n",
            "[CV]  n_estimators=733, min_samples_split=10, min_samples_leaf=6, max_features=sqrt, max_depth=80, bootstrap=False, total=   1.8s\n",
            "[CV] n_estimators=733, min_samples_split=10, min_samples_leaf=6, max_features=sqrt, max_depth=80, bootstrap=False \n",
            "[CV]  n_estimators=733, min_samples_split=10, min_samples_leaf=6, max_features=sqrt, max_depth=80, bootstrap=False, total=   1.8s\n",
            "[CV] n_estimators=911, min_samples_split=10, min_samples_leaf=4, max_features=sqrt, max_depth=100, bootstrap=True \n",
            "[CV]  n_estimators=911, min_samples_split=10, min_samples_leaf=4, max_features=sqrt, max_depth=100, bootstrap=True, total=   2.4s\n",
            "[CV] n_estimators=911, min_samples_split=10, min_samples_leaf=4, max_features=sqrt, max_depth=100, bootstrap=True \n",
            "[CV]  n_estimators=911, min_samples_split=10, min_samples_leaf=4, max_features=sqrt, max_depth=100, bootstrap=True, total=   2.4s\n",
            "[CV] n_estimators=911, min_samples_split=10, min_samples_leaf=4, max_features=sqrt, max_depth=100, bootstrap=True \n",
            "[CV]  n_estimators=911, min_samples_split=10, min_samples_leaf=4, max_features=sqrt, max_depth=100, bootstrap=True, total=   2.5s\n",
            "[CV] n_estimators=911, min_samples_split=10, min_samples_leaf=2, max_features=auto, max_depth=110, bootstrap=True \n",
            "[CV]  n_estimators=911, min_samples_split=10, min_samples_leaf=2, max_features=auto, max_depth=110, bootstrap=True, total=   2.5s\n",
            "[CV] n_estimators=911, min_samples_split=10, min_samples_leaf=2, max_features=auto, max_depth=110, bootstrap=True \n",
            "[CV]  n_estimators=911, min_samples_split=10, min_samples_leaf=2, max_features=auto, max_depth=110, bootstrap=True, total=   2.6s\n",
            "[CV] n_estimators=911, min_samples_split=10, min_samples_leaf=2, max_features=auto, max_depth=110, bootstrap=True \n",
            "[CV]  n_estimators=911, min_samples_split=10, min_samples_leaf=2, max_features=auto, max_depth=110, bootstrap=True, total=   2.5s\n",
            "[CV] n_estimators=377, min_samples_split=2, min_samples_leaf=6, max_features=auto, max_depth=50, bootstrap=True \n",
            "[CV]  n_estimators=377, min_samples_split=2, min_samples_leaf=6, max_features=auto, max_depth=50, bootstrap=True, total=   1.0s\n",
            "[CV] n_estimators=377, min_samples_split=2, min_samples_leaf=6, max_features=auto, max_depth=50, bootstrap=True \n",
            "[CV]  n_estimators=377, min_samples_split=2, min_samples_leaf=6, max_features=auto, max_depth=50, bootstrap=True, total=   1.0s\n",
            "[CV] n_estimators=377, min_samples_split=2, min_samples_leaf=6, max_features=auto, max_depth=50, bootstrap=True \n",
            "[CV]  n_estimators=377, min_samples_split=2, min_samples_leaf=6, max_features=auto, max_depth=50, bootstrap=True, total=   1.0s\n",
            "[CV] n_estimators=1000, min_samples_split=15, min_samples_leaf=2, max_features=sqrt, max_depth=80, bootstrap=False \n",
            "[CV]  n_estimators=1000, min_samples_split=15, min_samples_leaf=2, max_features=sqrt, max_depth=80, bootstrap=False, total=   2.5s\n",
            "[CV] n_estimators=1000, min_samples_split=15, min_samples_leaf=2, max_features=sqrt, max_depth=80, bootstrap=False \n",
            "[CV]  n_estimators=1000, min_samples_split=15, min_samples_leaf=2, max_features=sqrt, max_depth=80, bootstrap=False, total=   2.5s\n",
            "[CV] n_estimators=1000, min_samples_split=15, min_samples_leaf=2, max_features=sqrt, max_depth=80, bootstrap=False \n",
            "[CV]  n_estimators=1000, min_samples_split=15, min_samples_leaf=2, max_features=sqrt, max_depth=80, bootstrap=False, total=   2.5s\n",
            "[CV] n_estimators=200, min_samples_split=10, min_samples_leaf=6, max_features=sqrt, max_depth=70, bootstrap=False \n",
            "[CV]  n_estimators=200, min_samples_split=10, min_samples_leaf=6, max_features=sqrt, max_depth=70, bootstrap=False, total=   0.5s\n",
            "[CV] n_estimators=200, min_samples_split=10, min_samples_leaf=6, max_features=sqrt, max_depth=70, bootstrap=False \n",
            "[CV]  n_estimators=200, min_samples_split=10, min_samples_leaf=6, max_features=sqrt, max_depth=70, bootstrap=False, total=   0.5s\n",
            "[CV] n_estimators=200, min_samples_split=10, min_samples_leaf=6, max_features=sqrt, max_depth=70, bootstrap=False \n",
            "[CV]  n_estimators=200, min_samples_split=10, min_samples_leaf=6, max_features=sqrt, max_depth=70, bootstrap=False, total=   0.5s\n",
            "[CV] n_estimators=288, min_samples_split=15, min_samples_leaf=6, max_features=sqrt, max_depth=80, bootstrap=False \n",
            "[CV]  n_estimators=288, min_samples_split=15, min_samples_leaf=6, max_features=sqrt, max_depth=80, bootstrap=False, total=   0.7s\n",
            "[CV] n_estimators=288, min_samples_split=15, min_samples_leaf=6, max_features=sqrt, max_depth=80, bootstrap=False \n",
            "[CV]  n_estimators=288, min_samples_split=15, min_samples_leaf=6, max_features=sqrt, max_depth=80, bootstrap=False, total=   0.7s\n",
            "[CV] n_estimators=288, min_samples_split=15, min_samples_leaf=6, max_features=sqrt, max_depth=80, bootstrap=False \n",
            "[CV]  n_estimators=288, min_samples_split=15, min_samples_leaf=6, max_features=sqrt, max_depth=80, bootstrap=False, total=   0.7s\n",
            "[CV] n_estimators=733, min_samples_split=15, min_samples_leaf=1, max_features=auto, max_depth=80, bootstrap=False \n",
            "[CV]  n_estimators=733, min_samples_split=15, min_samples_leaf=1, max_features=auto, max_depth=80, bootstrap=False, total=   1.8s\n",
            "[CV] n_estimators=733, min_samples_split=15, min_samples_leaf=1, max_features=auto, max_depth=80, bootstrap=False \n",
            "[CV]  n_estimators=733, min_samples_split=15, min_samples_leaf=1, max_features=auto, max_depth=80, bootstrap=False, total=   1.8s\n",
            "[CV] n_estimators=733, min_samples_split=15, min_samples_leaf=1, max_features=auto, max_depth=80, bootstrap=False \n",
            "[CV]  n_estimators=733, min_samples_split=15, min_samples_leaf=1, max_features=auto, max_depth=80, bootstrap=False, total=   1.9s\n",
            "[CV] n_estimators=733, min_samples_split=15, min_samples_leaf=4, max_features=auto, max_depth=30, bootstrap=False \n",
            "[CV]  n_estimators=733, min_samples_split=15, min_samples_leaf=4, max_features=auto, max_depth=30, bootstrap=False, total=   1.7s\n",
            "[CV] n_estimators=733, min_samples_split=15, min_samples_leaf=4, max_features=auto, max_depth=30, bootstrap=False \n",
            "[CV]  n_estimators=733, min_samples_split=15, min_samples_leaf=4, max_features=auto, max_depth=30, bootstrap=False, total=   1.8s\n",
            "[CV] n_estimators=733, min_samples_split=15, min_samples_leaf=4, max_features=auto, max_depth=30, bootstrap=False \n",
            "[CV]  n_estimators=733, min_samples_split=15, min_samples_leaf=4, max_features=auto, max_depth=30, bootstrap=False, total=   1.8s\n",
            "[CV] n_estimators=377, min_samples_split=2, min_samples_leaf=6, max_features=auto, max_depth=80, bootstrap=False \n",
            "[CV]  n_estimators=377, min_samples_split=2, min_samples_leaf=6, max_features=auto, max_depth=80, bootstrap=False, total=   0.9s\n",
            "[CV] n_estimators=377, min_samples_split=2, min_samples_leaf=6, max_features=auto, max_depth=80, bootstrap=False \n",
            "[CV]  n_estimators=377, min_samples_split=2, min_samples_leaf=6, max_features=auto, max_depth=80, bootstrap=False, total=   0.9s\n",
            "[CV] n_estimators=377, min_samples_split=2, min_samples_leaf=6, max_features=auto, max_depth=80, bootstrap=False \n",
            "[CV]  n_estimators=377, min_samples_split=2, min_samples_leaf=6, max_features=auto, max_depth=80, bootstrap=False, total=   0.9s\n",
            "[CV] n_estimators=377, min_samples_split=5, min_samples_leaf=4, max_features=sqrt, max_depth=80, bootstrap=True \n",
            "[CV]  n_estimators=377, min_samples_split=5, min_samples_leaf=4, max_features=sqrt, max_depth=80, bootstrap=True, total=   1.0s\n",
            "[CV] n_estimators=377, min_samples_split=5, min_samples_leaf=4, max_features=sqrt, max_depth=80, bootstrap=True \n",
            "[CV]  n_estimators=377, min_samples_split=5, min_samples_leaf=4, max_features=sqrt, max_depth=80, bootstrap=True, total=   1.0s\n",
            "[CV] n_estimators=377, min_samples_split=5, min_samples_leaf=4, max_features=sqrt, max_depth=80, bootstrap=True \n",
            "[CV]  n_estimators=377, min_samples_split=5, min_samples_leaf=4, max_features=sqrt, max_depth=80, bootstrap=True, total=   1.0s\n",
            "[CV] n_estimators=911, min_samples_split=2, min_samples_leaf=1, max_features=auto, max_depth=70, bootstrap=True \n",
            "[CV]  n_estimators=911, min_samples_split=2, min_samples_leaf=1, max_features=auto, max_depth=70, bootstrap=True, total=   2.9s\n",
            "[CV] n_estimators=911, min_samples_split=2, min_samples_leaf=1, max_features=auto, max_depth=70, bootstrap=True \n",
            "[CV]  n_estimators=911, min_samples_split=2, min_samples_leaf=1, max_features=auto, max_depth=70, bootstrap=True, total=   3.0s\n",
            "[CV] n_estimators=911, min_samples_split=2, min_samples_leaf=1, max_features=auto, max_depth=70, bootstrap=True \n",
            "[CV]  n_estimators=911, min_samples_split=2, min_samples_leaf=1, max_features=auto, max_depth=70, bootstrap=True, total=   3.0s\n",
            "[CV] n_estimators=377, min_samples_split=5, min_samples_leaf=2, max_features=sqrt, max_depth=90, bootstrap=False \n",
            "[CV]  n_estimators=377, min_samples_split=5, min_samples_leaf=2, max_features=sqrt, max_depth=90, bootstrap=False, total=   1.1s\n",
            "[CV] n_estimators=377, min_samples_split=5, min_samples_leaf=2, max_features=sqrt, max_depth=90, bootstrap=False \n",
            "[CV]  n_estimators=377, min_samples_split=5, min_samples_leaf=2, max_features=sqrt, max_depth=90, bootstrap=False, total=   1.1s\n",
            "[CV] n_estimators=377, min_samples_split=5, min_samples_leaf=2, max_features=sqrt, max_depth=90, bootstrap=False \n",
            "[CV]  n_estimators=377, min_samples_split=5, min_samples_leaf=2, max_features=sqrt, max_depth=90, bootstrap=False, total=   1.1s\n",
            "[CV] n_estimators=911, min_samples_split=5, min_samples_leaf=2, max_features=sqrt, max_depth=110, bootstrap=True \n",
            "[CV]  n_estimators=911, min_samples_split=5, min_samples_leaf=2, max_features=sqrt, max_depth=110, bootstrap=True, total=   2.7s\n",
            "[CV] n_estimators=911, min_samples_split=5, min_samples_leaf=2, max_features=sqrt, max_depth=110, bootstrap=True \n",
            "[CV]  n_estimators=911, min_samples_split=5, min_samples_leaf=2, max_features=sqrt, max_depth=110, bootstrap=True, total=   2.8s\n",
            "[CV] n_estimators=911, min_samples_split=5, min_samples_leaf=2, max_features=sqrt, max_depth=110, bootstrap=True \n",
            "[CV]  n_estimators=911, min_samples_split=5, min_samples_leaf=2, max_features=sqrt, max_depth=110, bootstrap=True, total=   2.6s\n",
            "[CV] n_estimators=644, min_samples_split=10, min_samples_leaf=6, max_features=auto, max_depth=20, bootstrap=True \n",
            "[CV]  n_estimators=644, min_samples_split=10, min_samples_leaf=6, max_features=auto, max_depth=20, bootstrap=True, total=   1.6s\n",
            "[CV] n_estimators=644, min_samples_split=10, min_samples_leaf=6, max_features=auto, max_depth=20, bootstrap=True \n",
            "[CV]  n_estimators=644, min_samples_split=10, min_samples_leaf=6, max_features=auto, max_depth=20, bootstrap=True, total=   1.7s\n",
            "[CV] n_estimators=644, min_samples_split=10, min_samples_leaf=6, max_features=auto, max_depth=20, bootstrap=True \n",
            "[CV]  n_estimators=644, min_samples_split=10, min_samples_leaf=6, max_features=auto, max_depth=20, bootstrap=True, total=   1.6s\n",
            "[CV] n_estimators=200, min_samples_split=5, min_samples_leaf=4, max_features=auto, max_depth=90, bootstrap=True \n",
            "[CV]  n_estimators=200, min_samples_split=5, min_samples_leaf=4, max_features=auto, max_depth=90, bootstrap=True, total=   0.5s\n",
            "[CV] n_estimators=200, min_samples_split=5, min_samples_leaf=4, max_features=auto, max_depth=90, bootstrap=True \n",
            "[CV]  n_estimators=200, min_samples_split=5, min_samples_leaf=4, max_features=auto, max_depth=90, bootstrap=True, total=   0.5s\n",
            "[CV] n_estimators=200, min_samples_split=5, min_samples_leaf=4, max_features=auto, max_depth=90, bootstrap=True \n",
            "[CV]  n_estimators=200, min_samples_split=5, min_samples_leaf=4, max_features=auto, max_depth=90, bootstrap=True, total=   0.5s\n",
            "[CV] n_estimators=200, min_samples_split=5, min_samples_leaf=4, max_features=sqrt, max_depth=90, bootstrap=False \n",
            "[CV]  n_estimators=200, min_samples_split=5, min_samples_leaf=4, max_features=sqrt, max_depth=90, bootstrap=False, total=   0.5s\n",
            "[CV] n_estimators=200, min_samples_split=5, min_samples_leaf=4, max_features=sqrt, max_depth=90, bootstrap=False \n",
            "[CV]  n_estimators=200, min_samples_split=5, min_samples_leaf=4, max_features=sqrt, max_depth=90, bootstrap=False, total=   0.5s\n",
            "[CV] n_estimators=200, min_samples_split=5, min_samples_leaf=4, max_features=sqrt, max_depth=90, bootstrap=False \n",
            "[CV]  n_estimators=200, min_samples_split=5, min_samples_leaf=4, max_features=sqrt, max_depth=90, bootstrap=False, total=   0.5s\n",
            "[CV] n_estimators=466, min_samples_split=10, min_samples_leaf=6, max_features=sqrt, max_depth=40, bootstrap=True \n",
            "[CV]  n_estimators=466, min_samples_split=10, min_samples_leaf=6, max_features=sqrt, max_depth=40, bootstrap=True, total=   1.2s\n",
            "[CV] n_estimators=466, min_samples_split=10, min_samples_leaf=6, max_features=sqrt, max_depth=40, bootstrap=True \n",
            "[CV]  n_estimators=466, min_samples_split=10, min_samples_leaf=6, max_features=sqrt, max_depth=40, bootstrap=True, total=   1.1s\n",
            "[CV] n_estimators=466, min_samples_split=10, min_samples_leaf=6, max_features=sqrt, max_depth=40, bootstrap=True \n",
            "[CV]  n_estimators=466, min_samples_split=10, min_samples_leaf=6, max_features=sqrt, max_depth=40, bootstrap=True, total=   1.1s\n",
            "[CV] n_estimators=822, min_samples_split=5, min_samples_leaf=6, max_features=auto, max_depth=20, bootstrap=True \n",
            "[CV]  n_estimators=822, min_samples_split=5, min_samples_leaf=6, max_features=auto, max_depth=20, bootstrap=True, total=   2.1s\n",
            "[CV] n_estimators=822, min_samples_split=5, min_samples_leaf=6, max_features=auto, max_depth=20, bootstrap=True \n",
            "[CV]  n_estimators=822, min_samples_split=5, min_samples_leaf=6, max_features=auto, max_depth=20, bootstrap=True, total=   2.1s\n",
            "[CV] n_estimators=822, min_samples_split=5, min_samples_leaf=6, max_features=auto, max_depth=20, bootstrap=True \n",
            "[CV]  n_estimators=822, min_samples_split=5, min_samples_leaf=6, max_features=auto, max_depth=20, bootstrap=True, total=   2.1s\n",
            "[CV] n_estimators=466, min_samples_split=5, min_samples_leaf=6, max_features=auto, max_depth=10, bootstrap=False \n",
            "[CV]  n_estimators=466, min_samples_split=5, min_samples_leaf=6, max_features=auto, max_depth=10, bootstrap=False, total=   1.2s\n",
            "[CV] n_estimators=466, min_samples_split=5, min_samples_leaf=6, max_features=auto, max_depth=10, bootstrap=False \n",
            "[CV]  n_estimators=466, min_samples_split=5, min_samples_leaf=6, max_features=auto, max_depth=10, bootstrap=False, total=   1.1s\n",
            "[CV] n_estimators=466, min_samples_split=5, min_samples_leaf=6, max_features=auto, max_depth=10, bootstrap=False \n",
            "[CV]  n_estimators=466, min_samples_split=5, min_samples_leaf=6, max_features=auto, max_depth=10, bootstrap=False, total=   1.1s\n",
            "[CV] n_estimators=644, min_samples_split=5, min_samples_leaf=4, max_features=auto, max_depth=50, bootstrap=True \n",
            "[CV]  n_estimators=644, min_samples_split=5, min_samples_leaf=4, max_features=auto, max_depth=50, bootstrap=True, total=   1.7s\n",
            "[CV] n_estimators=644, min_samples_split=5, min_samples_leaf=4, max_features=auto, max_depth=50, bootstrap=True \n",
            "[CV]  n_estimators=644, min_samples_split=5, min_samples_leaf=4, max_features=auto, max_depth=50, bootstrap=True, total=   1.8s\n",
            "[CV] n_estimators=644, min_samples_split=5, min_samples_leaf=4, max_features=auto, max_depth=50, bootstrap=True \n",
            "[CV]  n_estimators=644, min_samples_split=5, min_samples_leaf=4, max_features=auto, max_depth=50, bootstrap=True, total=   1.8s\n",
            "[CV] n_estimators=288, min_samples_split=15, min_samples_leaf=2, max_features=sqrt, max_depth=80, bootstrap=True \n",
            "[CV]  n_estimators=288, min_samples_split=15, min_samples_leaf=2, max_features=sqrt, max_depth=80, bootstrap=True, total=   0.8s\n",
            "[CV] n_estimators=288, min_samples_split=15, min_samples_leaf=2, max_features=sqrt, max_depth=80, bootstrap=True \n",
            "[CV]  n_estimators=288, min_samples_split=15, min_samples_leaf=2, max_features=sqrt, max_depth=80, bootstrap=True, total=   0.8s\n",
            "[CV] n_estimators=288, min_samples_split=15, min_samples_leaf=2, max_features=sqrt, max_depth=80, bootstrap=True \n",
            "[CV]  n_estimators=288, min_samples_split=15, min_samples_leaf=2, max_features=sqrt, max_depth=80, bootstrap=True, total=   0.8s\n",
            "[CV] n_estimators=555, min_samples_split=2, min_samples_leaf=6, max_features=sqrt, max_depth=100, bootstrap=True \n",
            "[CV]  n_estimators=555, min_samples_split=2, min_samples_leaf=6, max_features=sqrt, max_depth=100, bootstrap=True, total=   1.4s\n",
            "[CV] n_estimators=555, min_samples_split=2, min_samples_leaf=6, max_features=sqrt, max_depth=100, bootstrap=True \n",
            "[CV]  n_estimators=555, min_samples_split=2, min_samples_leaf=6, max_features=sqrt, max_depth=100, bootstrap=True, total=   1.4s\n",
            "[CV] n_estimators=555, min_samples_split=2, min_samples_leaf=6, max_features=sqrt, max_depth=100, bootstrap=True \n",
            "[CV]  n_estimators=555, min_samples_split=2, min_samples_leaf=6, max_features=sqrt, max_depth=100, bootstrap=True, total=   1.5s\n",
            "[CV] n_estimators=466, min_samples_split=5, min_samples_leaf=4, max_features=sqrt, max_depth=70, bootstrap=False \n",
            "[CV]  n_estimators=466, min_samples_split=5, min_samples_leaf=4, max_features=sqrt, max_depth=70, bootstrap=False, total=   1.2s\n",
            "[CV] n_estimators=466, min_samples_split=5, min_samples_leaf=4, max_features=sqrt, max_depth=70, bootstrap=False \n",
            "[CV]  n_estimators=466, min_samples_split=5, min_samples_leaf=4, max_features=sqrt, max_depth=70, bootstrap=False, total=   1.2s\n",
            "[CV] n_estimators=466, min_samples_split=5, min_samples_leaf=4, max_features=sqrt, max_depth=70, bootstrap=False \n",
            "[CV]  n_estimators=466, min_samples_split=5, min_samples_leaf=4, max_features=sqrt, max_depth=70, bootstrap=False, total=   1.2s\n",
            "[CV] n_estimators=200, min_samples_split=10, min_samples_leaf=2, max_features=sqrt, max_depth=60, bootstrap=True \n",
            "[CV]  n_estimators=200, min_samples_split=10, min_samples_leaf=2, max_features=sqrt, max_depth=60, bootstrap=True, total=   0.5s\n",
            "[CV] n_estimators=200, min_samples_split=10, min_samples_leaf=2, max_features=sqrt, max_depth=60, bootstrap=True \n",
            "[CV]  n_estimators=200, min_samples_split=10, min_samples_leaf=2, max_features=sqrt, max_depth=60, bootstrap=True, total=   0.5s\n",
            "[CV] n_estimators=200, min_samples_split=10, min_samples_leaf=2, max_features=sqrt, max_depth=60, bootstrap=True \n",
            "[CV]  n_estimators=200, min_samples_split=10, min_samples_leaf=2, max_features=sqrt, max_depth=60, bootstrap=True, total=   0.5s\n",
            "[CV] n_estimators=200, min_samples_split=10, min_samples_leaf=2, max_features=auto, max_depth=20, bootstrap=False \n",
            "[CV]  n_estimators=200, min_samples_split=10, min_samples_leaf=2, max_features=auto, max_depth=20, bootstrap=False, total=   0.5s\n",
            "[CV] n_estimators=200, min_samples_split=10, min_samples_leaf=2, max_features=auto, max_depth=20, bootstrap=False \n",
            "[CV]  n_estimators=200, min_samples_split=10, min_samples_leaf=2, max_features=auto, max_depth=20, bootstrap=False, total=   0.5s\n",
            "[CV] n_estimators=200, min_samples_split=10, min_samples_leaf=2, max_features=auto, max_depth=20, bootstrap=False \n",
            "[CV]  n_estimators=200, min_samples_split=10, min_samples_leaf=2, max_features=auto, max_depth=20, bootstrap=False, total=   0.5s\n",
            "[CV] n_estimators=288, min_samples_split=2, min_samples_leaf=2, max_features=sqrt, max_depth=80, bootstrap=True \n",
            "[CV]  n_estimators=288, min_samples_split=2, min_samples_leaf=2, max_features=sqrt, max_depth=80, bootstrap=True, total=   0.8s\n",
            "[CV] n_estimators=288, min_samples_split=2, min_samples_leaf=2, max_features=sqrt, max_depth=80, bootstrap=True \n",
            "[CV]  n_estimators=288, min_samples_split=2, min_samples_leaf=2, max_features=sqrt, max_depth=80, bootstrap=True, total=   0.8s\n",
            "[CV] n_estimators=288, min_samples_split=2, min_samples_leaf=2, max_features=sqrt, max_depth=80, bootstrap=True \n",
            "[CV]  n_estimators=288, min_samples_split=2, min_samples_leaf=2, max_features=sqrt, max_depth=80, bootstrap=True, total=   0.8s\n",
            "[CV] n_estimators=733, min_samples_split=5, min_samples_leaf=4, max_features=sqrt, max_depth=20, bootstrap=False \n",
            "[CV]  n_estimators=733, min_samples_split=5, min_samples_leaf=4, max_features=sqrt, max_depth=20, bootstrap=False, total=   2.1s\n",
            "[CV] n_estimators=733, min_samples_split=5, min_samples_leaf=4, max_features=sqrt, max_depth=20, bootstrap=False \n",
            "[CV]  n_estimators=733, min_samples_split=5, min_samples_leaf=4, max_features=sqrt, max_depth=20, bootstrap=False, total=   2.0s\n",
            "[CV] n_estimators=733, min_samples_split=5, min_samples_leaf=4, max_features=sqrt, max_depth=20, bootstrap=False \n",
            "[CV]  n_estimators=733, min_samples_split=5, min_samples_leaf=4, max_features=sqrt, max_depth=20, bootstrap=False, total=   1.9s\n",
            "[CV] n_estimators=466, min_samples_split=5, min_samples_leaf=6, max_features=sqrt, max_depth=30, bootstrap=False \n",
            "[CV]  n_estimators=466, min_samples_split=5, min_samples_leaf=6, max_features=sqrt, max_depth=30, bootstrap=False, total=   1.1s\n",
            "[CV] n_estimators=466, min_samples_split=5, min_samples_leaf=6, max_features=sqrt, max_depth=30, bootstrap=False \n",
            "[CV]  n_estimators=466, min_samples_split=5, min_samples_leaf=6, max_features=sqrt, max_depth=30, bootstrap=False, total=   1.1s\n",
            "[CV] n_estimators=466, min_samples_split=5, min_samples_leaf=6, max_features=sqrt, max_depth=30, bootstrap=False \n",
            "[CV]  n_estimators=466, min_samples_split=5, min_samples_leaf=6, max_features=sqrt, max_depth=30, bootstrap=False, total=   1.1s\n",
            "[CV] n_estimators=733, min_samples_split=15, min_samples_leaf=1, max_features=auto, max_depth=30, bootstrap=True \n",
            "[CV]  n_estimators=733, min_samples_split=15, min_samples_leaf=1, max_features=auto, max_depth=30, bootstrap=True, total=   1.9s\n",
            "[CV] n_estimators=733, min_samples_split=15, min_samples_leaf=1, max_features=auto, max_depth=30, bootstrap=True \n",
            "[CV]  n_estimators=733, min_samples_split=15, min_samples_leaf=1, max_features=auto, max_depth=30, bootstrap=True, total=   1.9s\n",
            "[CV] n_estimators=733, min_samples_split=15, min_samples_leaf=1, max_features=auto, max_depth=30, bootstrap=True \n",
            "[CV]  n_estimators=733, min_samples_split=15, min_samples_leaf=1, max_features=auto, max_depth=30, bootstrap=True, total=   1.9s\n",
            "[CV] n_estimators=377, min_samples_split=5, min_samples_leaf=6, max_features=auto, max_depth=10, bootstrap=True \n",
            "[CV]  n_estimators=377, min_samples_split=5, min_samples_leaf=6, max_features=auto, max_depth=10, bootstrap=True, total=   1.0s\n",
            "[CV] n_estimators=377, min_samples_split=5, min_samples_leaf=6, max_features=auto, max_depth=10, bootstrap=True \n",
            "[CV]  n_estimators=377, min_samples_split=5, min_samples_leaf=6, max_features=auto, max_depth=10, bootstrap=True, total=   0.9s\n",
            "[CV] n_estimators=377, min_samples_split=5, min_samples_leaf=6, max_features=auto, max_depth=10, bootstrap=True \n",
            "[CV]  n_estimators=377, min_samples_split=5, min_samples_leaf=6, max_features=auto, max_depth=10, bootstrap=True, total=   1.0s\n",
            "[CV] n_estimators=911, min_samples_split=2, min_samples_leaf=1, max_features=sqrt, max_depth=40, bootstrap=True \n",
            "[CV]  n_estimators=911, min_samples_split=2, min_samples_leaf=1, max_features=sqrt, max_depth=40, bootstrap=True, total=   3.0s\n",
            "[CV] n_estimators=911, min_samples_split=2, min_samples_leaf=1, max_features=sqrt, max_depth=40, bootstrap=True \n",
            "[CV]  n_estimators=911, min_samples_split=2, min_samples_leaf=1, max_features=sqrt, max_depth=40, bootstrap=True, total=   3.0s\n",
            "[CV] n_estimators=911, min_samples_split=2, min_samples_leaf=1, max_features=sqrt, max_depth=40, bootstrap=True \n",
            "[CV]  n_estimators=911, min_samples_split=2, min_samples_leaf=1, max_features=sqrt, max_depth=40, bootstrap=True, total=   2.9s\n",
            "[CV] n_estimators=288, min_samples_split=5, min_samples_leaf=1, max_features=sqrt, max_depth=20, bootstrap=False \n",
            "[CV]  n_estimators=288, min_samples_split=5, min_samples_leaf=1, max_features=sqrt, max_depth=20, bootstrap=False, total=   0.9s\n",
            "[CV] n_estimators=288, min_samples_split=5, min_samples_leaf=1, max_features=sqrt, max_depth=20, bootstrap=False \n",
            "[CV]  n_estimators=288, min_samples_split=5, min_samples_leaf=1, max_features=sqrt, max_depth=20, bootstrap=False, total=   0.9s\n",
            "[CV] n_estimators=288, min_samples_split=5, min_samples_leaf=1, max_features=sqrt, max_depth=20, bootstrap=False \n",
            "[CV]  n_estimators=288, min_samples_split=5, min_samples_leaf=1, max_features=sqrt, max_depth=20, bootstrap=False, total=   0.9s\n",
            "[CV] n_estimators=466, min_samples_split=10, min_samples_leaf=1, max_features=auto, max_depth=10, bootstrap=True \n",
            "[CV]  n_estimators=466, min_samples_split=10, min_samples_leaf=1, max_features=auto, max_depth=10, bootstrap=True, total=   1.2s\n",
            "[CV] n_estimators=466, min_samples_split=10, min_samples_leaf=1, max_features=auto, max_depth=10, bootstrap=True \n",
            "[CV]  n_estimators=466, min_samples_split=10, min_samples_leaf=1, max_features=auto, max_depth=10, bootstrap=True, total=   1.2s\n",
            "[CV] n_estimators=466, min_samples_split=10, min_samples_leaf=1, max_features=auto, max_depth=10, bootstrap=True \n",
            "[CV]  n_estimators=466, min_samples_split=10, min_samples_leaf=1, max_features=auto, max_depth=10, bootstrap=True, total=   1.3s\n",
            "[CV] n_estimators=555, min_samples_split=15, min_samples_leaf=2, max_features=auto, max_depth=110, bootstrap=True \n",
            "[CV]  n_estimators=555, min_samples_split=15, min_samples_leaf=2, max_features=auto, max_depth=110, bootstrap=True, total=   1.4s\n",
            "[CV] n_estimators=555, min_samples_split=15, min_samples_leaf=2, max_features=auto, max_depth=110, bootstrap=True \n",
            "[CV]  n_estimators=555, min_samples_split=15, min_samples_leaf=2, max_features=auto, max_depth=110, bootstrap=True, total=   1.4s\n",
            "[CV] n_estimators=555, min_samples_split=15, min_samples_leaf=2, max_features=auto, max_depth=110, bootstrap=True \n",
            "[CV]  n_estimators=555, min_samples_split=15, min_samples_leaf=2, max_features=auto, max_depth=110, bootstrap=True, total=   1.4s\n",
            "[CV] n_estimators=555, min_samples_split=15, min_samples_leaf=4, max_features=sqrt, max_depth=110, bootstrap=False \n",
            "[CV]  n_estimators=555, min_samples_split=15, min_samples_leaf=4, max_features=sqrt, max_depth=110, bootstrap=False, total=   1.3s\n",
            "[CV] n_estimators=555, min_samples_split=15, min_samples_leaf=4, max_features=sqrt, max_depth=110, bootstrap=False \n",
            "[CV]  n_estimators=555, min_samples_split=15, min_samples_leaf=4, max_features=sqrt, max_depth=110, bootstrap=False, total=   1.3s\n",
            "[CV] n_estimators=555, min_samples_split=15, min_samples_leaf=4, max_features=sqrt, max_depth=110, bootstrap=False \n",
            "[CV]  n_estimators=555, min_samples_split=15, min_samples_leaf=4, max_features=sqrt, max_depth=110, bootstrap=False, total=   1.3s\n",
            "[CV] n_estimators=911, min_samples_split=10, min_samples_leaf=1, max_features=auto, max_depth=80, bootstrap=False \n",
            "[CV]  n_estimators=911, min_samples_split=10, min_samples_leaf=1, max_features=auto, max_depth=80, bootstrap=False, total=   2.4s\n",
            "[CV] n_estimators=911, min_samples_split=10, min_samples_leaf=1, max_features=auto, max_depth=80, bootstrap=False \n",
            "[CV]  n_estimators=911, min_samples_split=10, min_samples_leaf=1, max_features=auto, max_depth=80, bootstrap=False, total=   2.4s\n",
            "[CV] n_estimators=911, min_samples_split=10, min_samples_leaf=1, max_features=auto, max_depth=80, bootstrap=False \n",
            "[CV]  n_estimators=911, min_samples_split=10, min_samples_leaf=1, max_features=auto, max_depth=80, bootstrap=False, total=   2.4s\n",
            "[CV] n_estimators=733, min_samples_split=5, min_samples_leaf=4, max_features=sqrt, max_depth=50, bootstrap=True \n",
            "[CV]  n_estimators=733, min_samples_split=5, min_samples_leaf=4, max_features=sqrt, max_depth=50, bootstrap=True, total=   1.9s\n",
            "[CV] n_estimators=733, min_samples_split=5, min_samples_leaf=4, max_features=sqrt, max_depth=50, bootstrap=True \n",
            "[CV]  n_estimators=733, min_samples_split=5, min_samples_leaf=4, max_features=sqrt, max_depth=50, bootstrap=True, total=   1.9s\n",
            "[CV] n_estimators=733, min_samples_split=5, min_samples_leaf=4, max_features=sqrt, max_depth=50, bootstrap=True \n",
            "[CV]  n_estimators=733, min_samples_split=5, min_samples_leaf=4, max_features=sqrt, max_depth=50, bootstrap=True, total=   1.8s\n",
            "[CV] n_estimators=466, min_samples_split=10, min_samples_leaf=1, max_features=sqrt, max_depth=20, bootstrap=True \n",
            "[CV]  n_estimators=466, min_samples_split=10, min_samples_leaf=1, max_features=sqrt, max_depth=20, bootstrap=True, total=   1.2s\n",
            "[CV] n_estimators=466, min_samples_split=10, min_samples_leaf=1, max_features=sqrt, max_depth=20, bootstrap=True \n",
            "[CV]  n_estimators=466, min_samples_split=10, min_samples_leaf=1, max_features=sqrt, max_depth=20, bootstrap=True, total=   1.2s\n",
            "[CV] n_estimators=466, min_samples_split=10, min_samples_leaf=1, max_features=sqrt, max_depth=20, bootstrap=True \n",
            "[CV]  n_estimators=466, min_samples_split=10, min_samples_leaf=1, max_features=sqrt, max_depth=20, bootstrap=True, total=   1.2s\n",
            "[CV] n_estimators=288, min_samples_split=2, min_samples_leaf=1, max_features=sqrt, max_depth=10, bootstrap=False \n",
            "[CV]  n_estimators=288, min_samples_split=2, min_samples_leaf=1, max_features=sqrt, max_depth=10, bootstrap=False, total=   0.8s\n",
            "[CV] n_estimators=288, min_samples_split=2, min_samples_leaf=1, max_features=sqrt, max_depth=10, bootstrap=False \n",
            "[CV]  n_estimators=288, min_samples_split=2, min_samples_leaf=1, max_features=sqrt, max_depth=10, bootstrap=False, total=   0.8s\n",
            "[CV] n_estimators=288, min_samples_split=2, min_samples_leaf=1, max_features=sqrt, max_depth=10, bootstrap=False \n",
            "[CV]  n_estimators=288, min_samples_split=2, min_samples_leaf=1, max_features=sqrt, max_depth=10, bootstrap=False, total=   0.8s\n",
            "[CV] n_estimators=555, min_samples_split=10, min_samples_leaf=2, max_features=sqrt, max_depth=80, bootstrap=True \n",
            "[CV]  n_estimators=555, min_samples_split=10, min_samples_leaf=2, max_features=sqrt, max_depth=80, bootstrap=True, total=   1.5s\n",
            "[CV] n_estimators=555, min_samples_split=10, min_samples_leaf=2, max_features=sqrt, max_depth=80, bootstrap=True \n",
            "[CV]  n_estimators=555, min_samples_split=10, min_samples_leaf=2, max_features=sqrt, max_depth=80, bootstrap=True, total=   1.4s\n",
            "[CV] n_estimators=555, min_samples_split=10, min_samples_leaf=2, max_features=sqrt, max_depth=80, bootstrap=True \n",
            "[CV]  n_estimators=555, min_samples_split=10, min_samples_leaf=2, max_features=sqrt, max_depth=80, bootstrap=True, total=   1.4s\n",
            "[CV] n_estimators=822, min_samples_split=2, min_samples_leaf=2, max_features=auto, max_depth=80, bootstrap=False \n",
            "[CV]  n_estimators=822, min_samples_split=2, min_samples_leaf=2, max_features=auto, max_depth=80, bootstrap=False, total=   2.4s\n",
            "[CV] n_estimators=822, min_samples_split=2, min_samples_leaf=2, max_features=auto, max_depth=80, bootstrap=False \n",
            "[CV]  n_estimators=822, min_samples_split=2, min_samples_leaf=2, max_features=auto, max_depth=80, bootstrap=False, total=   2.4s\n",
            "[CV] n_estimators=822, min_samples_split=2, min_samples_leaf=2, max_features=auto, max_depth=80, bootstrap=False \n",
            "[CV]  n_estimators=822, min_samples_split=2, min_samples_leaf=2, max_features=auto, max_depth=80, bootstrap=False, total=   2.4s\n",
            "[CV] n_estimators=911, min_samples_split=15, min_samples_leaf=4, max_features=sqrt, max_depth=None, bootstrap=False \n",
            "[CV]  n_estimators=911, min_samples_split=15, min_samples_leaf=4, max_features=sqrt, max_depth=None, bootstrap=False, total=   2.2s\n",
            "[CV] n_estimators=911, min_samples_split=15, min_samples_leaf=4, max_features=sqrt, max_depth=None, bootstrap=False \n",
            "[CV]  n_estimators=911, min_samples_split=15, min_samples_leaf=4, max_features=sqrt, max_depth=None, bootstrap=False, total=   2.2s\n",
            "[CV] n_estimators=911, min_samples_split=15, min_samples_leaf=4, max_features=sqrt, max_depth=None, bootstrap=False \n",
            "[CV]  n_estimators=911, min_samples_split=15, min_samples_leaf=4, max_features=sqrt, max_depth=None, bootstrap=False, total=   2.2s\n",
            "[CV] n_estimators=288, min_samples_split=10, min_samples_leaf=4, max_features=auto, max_depth=40, bootstrap=True \n",
            "[CV]  n_estimators=288, min_samples_split=10, min_samples_leaf=4, max_features=auto, max_depth=40, bootstrap=True, total=   0.7s\n",
            "[CV] n_estimators=288, min_samples_split=10, min_samples_leaf=4, max_features=auto, max_depth=40, bootstrap=True \n",
            "[CV]  n_estimators=288, min_samples_split=10, min_samples_leaf=4, max_features=auto, max_depth=40, bootstrap=True, total=   0.7s\n",
            "[CV] n_estimators=288, min_samples_split=10, min_samples_leaf=4, max_features=auto, max_depth=40, bootstrap=True \n",
            "[CV]  n_estimators=288, min_samples_split=10, min_samples_leaf=4, max_features=auto, max_depth=40, bootstrap=True, total=   0.8s\n",
            "[CV] n_estimators=200, min_samples_split=10, min_samples_leaf=6, max_features=sqrt, max_depth=80, bootstrap=True \n",
            "[CV]  n_estimators=200, min_samples_split=10, min_samples_leaf=6, max_features=sqrt, max_depth=80, bootstrap=True, total=   0.5s\n",
            "[CV] n_estimators=200, min_samples_split=10, min_samples_leaf=6, max_features=sqrt, max_depth=80, bootstrap=True \n",
            "[CV]  n_estimators=200, min_samples_split=10, min_samples_leaf=6, max_features=sqrt, max_depth=80, bootstrap=True, total=   0.5s\n",
            "[CV] n_estimators=200, min_samples_split=10, min_samples_leaf=6, max_features=sqrt, max_depth=80, bootstrap=True \n",
            "[CV]  n_estimators=200, min_samples_split=10, min_samples_leaf=6, max_features=sqrt, max_depth=80, bootstrap=True, total=   0.5s\n",
            "[CV] n_estimators=911, min_samples_split=10, min_samples_leaf=4, max_features=sqrt, max_depth=30, bootstrap=True \n",
            "[CV]  n_estimators=911, min_samples_split=10, min_samples_leaf=4, max_features=sqrt, max_depth=30, bootstrap=True, total=   2.4s\n",
            "[CV] n_estimators=911, min_samples_split=10, min_samples_leaf=4, max_features=sqrt, max_depth=30, bootstrap=True \n",
            "[CV]  n_estimators=911, min_samples_split=10, min_samples_leaf=4, max_features=sqrt, max_depth=30, bootstrap=True, total=   2.3s\n",
            "[CV] n_estimators=911, min_samples_split=10, min_samples_leaf=4, max_features=sqrt, max_depth=30, bootstrap=True \n",
            "[CV]  n_estimators=911, min_samples_split=10, min_samples_leaf=4, max_features=sqrt, max_depth=30, bootstrap=True, total=   2.4s\n",
            "[CV] n_estimators=288, min_samples_split=15, min_samples_leaf=4, max_features=auto, max_depth=60, bootstrap=False \n",
            "[CV]  n_estimators=288, min_samples_split=15, min_samples_leaf=4, max_features=auto, max_depth=60, bootstrap=False, total=   0.7s\n",
            "[CV] n_estimators=288, min_samples_split=15, min_samples_leaf=4, max_features=auto, max_depth=60, bootstrap=False \n",
            "[CV]  n_estimators=288, min_samples_split=15, min_samples_leaf=4, max_features=auto, max_depth=60, bootstrap=False, total=   0.7s\n",
            "[CV] n_estimators=288, min_samples_split=15, min_samples_leaf=4, max_features=auto, max_depth=60, bootstrap=False \n",
            "[CV]  n_estimators=288, min_samples_split=15, min_samples_leaf=4, max_features=auto, max_depth=60, bootstrap=False, total=   0.7s\n",
            "[CV] n_estimators=822, min_samples_split=2, min_samples_leaf=1, max_features=sqrt, max_depth=20, bootstrap=True \n",
            "[CV]  n_estimators=822, min_samples_split=2, min_samples_leaf=1, max_features=sqrt, max_depth=20, bootstrap=True, total=   2.7s\n",
            "[CV] n_estimators=822, min_samples_split=2, min_samples_leaf=1, max_features=sqrt, max_depth=20, bootstrap=True \n",
            "[CV]  n_estimators=822, min_samples_split=2, min_samples_leaf=1, max_features=sqrt, max_depth=20, bootstrap=True, total=   2.6s\n",
            "[CV] n_estimators=822, min_samples_split=2, min_samples_leaf=1, max_features=sqrt, max_depth=20, bootstrap=True \n",
            "[CV]  n_estimators=822, min_samples_split=2, min_samples_leaf=1, max_features=sqrt, max_depth=20, bootstrap=True, total=   2.6s\n",
            "[CV] n_estimators=200, min_samples_split=2, min_samples_leaf=4, max_features=auto, max_depth=60, bootstrap=False \n",
            "[CV]  n_estimators=200, min_samples_split=2, min_samples_leaf=4, max_features=auto, max_depth=60, bootstrap=False, total=   0.5s\n",
            "[CV] n_estimators=200, min_samples_split=2, min_samples_leaf=4, max_features=auto, max_depth=60, bootstrap=False \n",
            "[CV]  n_estimators=200, min_samples_split=2, min_samples_leaf=4, max_features=auto, max_depth=60, bootstrap=False, total=   0.5s\n",
            "[CV] n_estimators=200, min_samples_split=2, min_samples_leaf=4, max_features=auto, max_depth=60, bootstrap=False \n",
            "[CV]  n_estimators=200, min_samples_split=2, min_samples_leaf=4, max_features=auto, max_depth=60, bootstrap=False, total=   0.5s\n",
            "[CV] n_estimators=555, min_samples_split=15, min_samples_leaf=2, max_features=sqrt, max_depth=50, bootstrap=True \n",
            "[CV]  n_estimators=555, min_samples_split=15, min_samples_leaf=2, max_features=sqrt, max_depth=50, bootstrap=True, total=   1.4s\n",
            "[CV] n_estimators=555, min_samples_split=15, min_samples_leaf=2, max_features=sqrt, max_depth=50, bootstrap=True \n",
            "[CV]  n_estimators=555, min_samples_split=15, min_samples_leaf=2, max_features=sqrt, max_depth=50, bootstrap=True, total=   1.4s\n",
            "[CV] n_estimators=555, min_samples_split=15, min_samples_leaf=2, max_features=sqrt, max_depth=50, bootstrap=True \n",
            "[CV]  n_estimators=555, min_samples_split=15, min_samples_leaf=2, max_features=sqrt, max_depth=50, bootstrap=True, total=   1.4s\n",
            "[CV] n_estimators=822, min_samples_split=2, min_samples_leaf=4, max_features=auto, max_depth=10, bootstrap=False \n",
            "[CV]  n_estimators=822, min_samples_split=2, min_samples_leaf=4, max_features=auto, max_depth=10, bootstrap=False, total=   1.9s\n",
            "[CV] n_estimators=822, min_samples_split=2, min_samples_leaf=4, max_features=auto, max_depth=10, bootstrap=False \n",
            "[CV]  n_estimators=822, min_samples_split=2, min_samples_leaf=4, max_features=auto, max_depth=10, bootstrap=False, total=   2.0s\n",
            "[CV] n_estimators=822, min_samples_split=2, min_samples_leaf=4, max_features=auto, max_depth=10, bootstrap=False \n",
            "[CV]  n_estimators=822, min_samples_split=2, min_samples_leaf=4, max_features=auto, max_depth=10, bootstrap=False, total=   1.9s\n",
            "[CV] n_estimators=733, min_samples_split=5, min_samples_leaf=2, max_features=sqrt, max_depth=30, bootstrap=True \n",
            "[CV]  n_estimators=733, min_samples_split=5, min_samples_leaf=2, max_features=sqrt, max_depth=30, bootstrap=True, total=   2.0s\n",
            "[CV] n_estimators=733, min_samples_split=5, min_samples_leaf=2, max_features=sqrt, max_depth=30, bootstrap=True \n",
            "[CV]  n_estimators=733, min_samples_split=5, min_samples_leaf=2, max_features=sqrt, max_depth=30, bootstrap=True, total=   2.1s\n",
            "[CV] n_estimators=733, min_samples_split=5, min_samples_leaf=2, max_features=sqrt, max_depth=30, bootstrap=True \n",
            "[CV]  n_estimators=733, min_samples_split=5, min_samples_leaf=2, max_features=sqrt, max_depth=30, bootstrap=True, total=   2.0s\n",
            "[CV] n_estimators=466, min_samples_split=2, min_samples_leaf=6, max_features=auto, max_depth=30, bootstrap=True \n",
            "[CV]  n_estimators=466, min_samples_split=2, min_samples_leaf=6, max_features=auto, max_depth=30, bootstrap=True, total=   1.1s\n",
            "[CV] n_estimators=466, min_samples_split=2, min_samples_leaf=6, max_features=auto, max_depth=30, bootstrap=True \n",
            "[CV]  n_estimators=466, min_samples_split=2, min_samples_leaf=6, max_features=auto, max_depth=30, bootstrap=True, total=   1.1s\n",
            "[CV] n_estimators=466, min_samples_split=2, min_samples_leaf=6, max_features=auto, max_depth=30, bootstrap=True \n",
            "[CV]  n_estimators=466, min_samples_split=2, min_samples_leaf=6, max_features=auto, max_depth=30, bootstrap=True, total=   1.1s\n",
            "[CV] n_estimators=377, min_samples_split=5, min_samples_leaf=1, max_features=auto, max_depth=90, bootstrap=True \n",
            "[CV]  n_estimators=377, min_samples_split=5, min_samples_leaf=1, max_features=auto, max_depth=90, bootstrap=True, total=   1.1s\n",
            "[CV] n_estimators=377, min_samples_split=5, min_samples_leaf=1, max_features=auto, max_depth=90, bootstrap=True \n",
            "[CV]  n_estimators=377, min_samples_split=5, min_samples_leaf=1, max_features=auto, max_depth=90, bootstrap=True, total=   1.1s\n",
            "[CV] n_estimators=377, min_samples_split=5, min_samples_leaf=1, max_features=auto, max_depth=90, bootstrap=True \n",
            "[CV]  n_estimators=377, min_samples_split=5, min_samples_leaf=1, max_features=auto, max_depth=90, bootstrap=True, total=   1.1s\n",
            "[CV] n_estimators=377, min_samples_split=10, min_samples_leaf=1, max_features=auto, max_depth=100, bootstrap=False \n",
            "[CV]  n_estimators=377, min_samples_split=10, min_samples_leaf=1, max_features=auto, max_depth=100, bootstrap=False, total=   1.0s\n",
            "[CV] n_estimators=377, min_samples_split=10, min_samples_leaf=1, max_features=auto, max_depth=100, bootstrap=False \n",
            "[CV]  n_estimators=377, min_samples_split=10, min_samples_leaf=1, max_features=auto, max_depth=100, bootstrap=False, total=   1.0s\n",
            "[CV] n_estimators=377, min_samples_split=10, min_samples_leaf=1, max_features=auto, max_depth=100, bootstrap=False \n",
            "[CV]  n_estimators=377, min_samples_split=10, min_samples_leaf=1, max_features=auto, max_depth=100, bootstrap=False, total=   1.0s\n",
            "[CV] n_estimators=377, min_samples_split=5, min_samples_leaf=2, max_features=auto, max_depth=10, bootstrap=False \n",
            "[CV]  n_estimators=377, min_samples_split=5, min_samples_leaf=2, max_features=auto, max_depth=10, bootstrap=False, total=   0.9s\n",
            "[CV] n_estimators=377, min_samples_split=5, min_samples_leaf=2, max_features=auto, max_depth=10, bootstrap=False \n",
            "[CV]  n_estimators=377, min_samples_split=5, min_samples_leaf=2, max_features=auto, max_depth=10, bootstrap=False, total=   0.9s\n",
            "[CV] n_estimators=377, min_samples_split=5, min_samples_leaf=2, max_features=auto, max_depth=10, bootstrap=False \n",
            "[CV]  n_estimators=377, min_samples_split=5, min_samples_leaf=2, max_features=auto, max_depth=10, bootstrap=False, total=   0.9s\n",
            "[CV] n_estimators=377, min_samples_split=2, min_samples_leaf=2, max_features=auto, max_depth=100, bootstrap=False \n",
            "[CV]  n_estimators=377, min_samples_split=2, min_samples_leaf=2, max_features=auto, max_depth=100, bootstrap=False, total=   1.1s\n",
            "[CV] n_estimators=377, min_samples_split=2, min_samples_leaf=2, max_features=auto, max_depth=100, bootstrap=False \n",
            "[CV]  n_estimators=377, min_samples_split=2, min_samples_leaf=2, max_features=auto, max_depth=100, bootstrap=False, total=   1.1s\n",
            "[CV] n_estimators=377, min_samples_split=2, min_samples_leaf=2, max_features=auto, max_depth=100, bootstrap=False \n",
            "[CV]  n_estimators=377, min_samples_split=2, min_samples_leaf=2, max_features=auto, max_depth=100, bootstrap=False, total=   1.1s\n",
            "[CV] n_estimators=466, min_samples_split=5, min_samples_leaf=6, max_features=auto, max_depth=20, bootstrap=True \n",
            "[CV]  n_estimators=466, min_samples_split=5, min_samples_leaf=6, max_features=auto, max_depth=20, bootstrap=True, total=   1.1s\n",
            "[CV] n_estimators=466, min_samples_split=5, min_samples_leaf=6, max_features=auto, max_depth=20, bootstrap=True \n",
            "[CV]  n_estimators=466, min_samples_split=5, min_samples_leaf=6, max_features=auto, max_depth=20, bootstrap=True, total=   1.2s\n",
            "[CV] n_estimators=466, min_samples_split=5, min_samples_leaf=6, max_features=auto, max_depth=20, bootstrap=True \n",
            "[CV]  n_estimators=466, min_samples_split=5, min_samples_leaf=6, max_features=auto, max_depth=20, bootstrap=True, total=   1.2s\n",
            "[CV] n_estimators=466, min_samples_split=15, min_samples_leaf=6, max_features=sqrt, max_depth=80, bootstrap=False \n",
            "[CV]  n_estimators=466, min_samples_split=15, min_samples_leaf=6, max_features=sqrt, max_depth=80, bootstrap=False, total=   1.1s\n",
            "[CV] n_estimators=466, min_samples_split=15, min_samples_leaf=6, max_features=sqrt, max_depth=80, bootstrap=False \n",
            "[CV]  n_estimators=466, min_samples_split=15, min_samples_leaf=6, max_features=sqrt, max_depth=80, bootstrap=False, total=   1.1s\n",
            "[CV] n_estimators=466, min_samples_split=15, min_samples_leaf=6, max_features=sqrt, max_depth=80, bootstrap=False \n",
            "[CV]  n_estimators=466, min_samples_split=15, min_samples_leaf=6, max_features=sqrt, max_depth=80, bootstrap=False, total=   1.1s\n",
            "[CV] n_estimators=377, min_samples_split=10, min_samples_leaf=2, max_features=auto, max_depth=60, bootstrap=True \n",
            "[CV]  n_estimators=377, min_samples_split=10, min_samples_leaf=2, max_features=auto, max_depth=60, bootstrap=True, total=   1.0s\n",
            "[CV] n_estimators=377, min_samples_split=10, min_samples_leaf=2, max_features=auto, max_depth=60, bootstrap=True \n",
            "[CV]  n_estimators=377, min_samples_split=10, min_samples_leaf=2, max_features=auto, max_depth=60, bootstrap=True, total=   1.0s\n",
            "[CV] n_estimators=377, min_samples_split=10, min_samples_leaf=2, max_features=auto, max_depth=60, bootstrap=True \n",
            "[CV]  n_estimators=377, min_samples_split=10, min_samples_leaf=2, max_features=auto, max_depth=60, bootstrap=True, total=   1.0s\n",
            "[CV] n_estimators=466, min_samples_split=5, min_samples_leaf=6, max_features=auto, max_depth=30, bootstrap=True \n",
            "[CV]  n_estimators=466, min_samples_split=5, min_samples_leaf=6, max_features=auto, max_depth=30, bootstrap=True, total=   1.1s\n",
            "[CV] n_estimators=466, min_samples_split=5, min_samples_leaf=6, max_features=auto, max_depth=30, bootstrap=True \n",
            "[CV]  n_estimators=466, min_samples_split=5, min_samples_leaf=6, max_features=auto, max_depth=30, bootstrap=True, total=   1.1s\n",
            "[CV] n_estimators=466, min_samples_split=5, min_samples_leaf=6, max_features=auto, max_depth=30, bootstrap=True \n",
            "[CV]  n_estimators=466, min_samples_split=5, min_samples_leaf=6, max_features=auto, max_depth=30, bootstrap=True, total=   1.1s\n",
            "[CV] n_estimators=466, min_samples_split=10, min_samples_leaf=1, max_features=auto, max_depth=60, bootstrap=True \n",
            "[CV]  n_estimators=466, min_samples_split=10, min_samples_leaf=1, max_features=auto, max_depth=60, bootstrap=True, total=   1.2s\n",
            "[CV] n_estimators=466, min_samples_split=10, min_samples_leaf=1, max_features=auto, max_depth=60, bootstrap=True \n",
            "[CV]  n_estimators=466, min_samples_split=10, min_samples_leaf=1, max_features=auto, max_depth=60, bootstrap=True, total=   1.2s\n",
            "[CV] n_estimators=466, min_samples_split=10, min_samples_leaf=1, max_features=auto, max_depth=60, bootstrap=True \n",
            "[CV]  n_estimators=466, min_samples_split=10, min_samples_leaf=1, max_features=auto, max_depth=60, bootstrap=True, total=   1.2s\n",
            "[CV] n_estimators=733, min_samples_split=15, min_samples_leaf=2, max_features=sqrt, max_depth=10, bootstrap=False \n",
            "[CV]  n_estimators=733, min_samples_split=15, min_samples_leaf=2, max_features=sqrt, max_depth=10, bootstrap=False, total=   1.7s\n",
            "[CV] n_estimators=733, min_samples_split=15, min_samples_leaf=2, max_features=sqrt, max_depth=10, bootstrap=False \n",
            "[CV]  n_estimators=733, min_samples_split=15, min_samples_leaf=2, max_features=sqrt, max_depth=10, bootstrap=False, total=   1.7s\n",
            "[CV] n_estimators=733, min_samples_split=15, min_samples_leaf=2, max_features=sqrt, max_depth=10, bootstrap=False \n",
            "[CV]  n_estimators=733, min_samples_split=15, min_samples_leaf=2, max_features=sqrt, max_depth=10, bootstrap=False, total=   1.7s\n",
            "[CV] n_estimators=822, min_samples_split=15, min_samples_leaf=6, max_features=sqrt, max_depth=30, bootstrap=True \n",
            "[CV]  n_estimators=822, min_samples_split=15, min_samples_leaf=6, max_features=sqrt, max_depth=30, bootstrap=True, total=   2.0s\n",
            "[CV] n_estimators=822, min_samples_split=15, min_samples_leaf=6, max_features=sqrt, max_depth=30, bootstrap=True \n",
            "[CV]  n_estimators=822, min_samples_split=15, min_samples_leaf=6, max_features=sqrt, max_depth=30, bootstrap=True, total=   2.0s\n",
            "[CV] n_estimators=822, min_samples_split=15, min_samples_leaf=6, max_features=sqrt, max_depth=30, bootstrap=True \n",
            "[CV]  n_estimators=822, min_samples_split=15, min_samples_leaf=6, max_features=sqrt, max_depth=30, bootstrap=True, total=   2.0s\n",
            "[CV] n_estimators=466, min_samples_split=15, min_samples_leaf=6, max_features=sqrt, max_depth=110, bootstrap=True \n",
            "[CV]  n_estimators=466, min_samples_split=15, min_samples_leaf=6, max_features=sqrt, max_depth=110, bootstrap=True, total=   1.1s\n",
            "[CV] n_estimators=466, min_samples_split=15, min_samples_leaf=6, max_features=sqrt, max_depth=110, bootstrap=True \n",
            "[CV]  n_estimators=466, min_samples_split=15, min_samples_leaf=6, max_features=sqrt, max_depth=110, bootstrap=True, total=   1.1s\n",
            "[CV] n_estimators=466, min_samples_split=15, min_samples_leaf=6, max_features=sqrt, max_depth=110, bootstrap=True \n",
            "[CV]  n_estimators=466, min_samples_split=15, min_samples_leaf=6, max_features=sqrt, max_depth=110, bootstrap=True, total=   1.2s\n",
            "[CV] n_estimators=733, min_samples_split=15, min_samples_leaf=6, max_features=sqrt, max_depth=60, bootstrap=False \n",
            "[CV]  n_estimators=733, min_samples_split=15, min_samples_leaf=6, max_features=sqrt, max_depth=60, bootstrap=False, total=   1.7s\n",
            "[CV] n_estimators=733, min_samples_split=15, min_samples_leaf=6, max_features=sqrt, max_depth=60, bootstrap=False \n",
            "[CV]  n_estimators=733, min_samples_split=15, min_samples_leaf=6, max_features=sqrt, max_depth=60, bootstrap=False, total=   1.7s\n",
            "[CV] n_estimators=733, min_samples_split=15, min_samples_leaf=6, max_features=sqrt, max_depth=60, bootstrap=False \n",
            "[CV]  n_estimators=733, min_samples_split=15, min_samples_leaf=6, max_features=sqrt, max_depth=60, bootstrap=False, total=   1.7s\n",
            "[CV] n_estimators=644, min_samples_split=10, min_samples_leaf=2, max_features=auto, max_depth=10, bootstrap=True \n",
            "[CV]  n_estimators=644, min_samples_split=10, min_samples_leaf=2, max_features=auto, max_depth=10, bootstrap=True, total=   1.6s\n",
            "[CV] n_estimators=644, min_samples_split=10, min_samples_leaf=2, max_features=auto, max_depth=10, bootstrap=True \n",
            "[CV]  n_estimators=644, min_samples_split=10, min_samples_leaf=2, max_features=auto, max_depth=10, bootstrap=True, total=   1.7s\n",
            "[CV] n_estimators=644, min_samples_split=10, min_samples_leaf=2, max_features=auto, max_depth=10, bootstrap=True \n",
            "[CV]  n_estimators=644, min_samples_split=10, min_samples_leaf=2, max_features=auto, max_depth=10, bootstrap=True, total=   1.6s\n",
            "[CV] n_estimators=733, min_samples_split=10, min_samples_leaf=1, max_features=sqrt, max_depth=None, bootstrap=False \n",
            "[CV]  n_estimators=733, min_samples_split=10, min_samples_leaf=1, max_features=sqrt, max_depth=None, bootstrap=False, total=   1.9s\n",
            "[CV] n_estimators=733, min_samples_split=10, min_samples_leaf=1, max_features=sqrt, max_depth=None, bootstrap=False \n",
            "[CV]  n_estimators=733, min_samples_split=10, min_samples_leaf=1, max_features=sqrt, max_depth=None, bootstrap=False, total=   1.9s\n",
            "[CV] n_estimators=733, min_samples_split=10, min_samples_leaf=1, max_features=sqrt, max_depth=None, bootstrap=False \n",
            "[CV]  n_estimators=733, min_samples_split=10, min_samples_leaf=1, max_features=sqrt, max_depth=None, bootstrap=False, total=   1.9s\n"
          ],
          "name": "stdout"
        },
        {
          "output_type": "stream",
          "text": [
            "[Parallel(n_jobs=1)]: Done 300 out of 300 | elapsed:  7.5min finished\n"
          ],
          "name": "stderr"
        },
        {
          "output_type": "execute_result",
          "data": {
            "text/plain": [
              "RandomizedSearchCV(cv=3, error_score=nan,\n",
              "                   estimator=RandomForestClassifier(bootstrap=True,\n",
              "                                                    ccp_alpha=0.0,\n",
              "                                                    class_weight=None,\n",
              "                                                    criterion='gini',\n",
              "                                                    max_depth=None,\n",
              "                                                    max_features='auto',\n",
              "                                                    max_leaf_nodes=None,\n",
              "                                                    max_samples=None,\n",
              "                                                    min_impurity_decrease=0.0,\n",
              "                                                    min_impurity_split=None,\n",
              "                                                    min_samples_leaf=1,\n",
              "                                                    min_samples_split=2,\n",
              "                                                    min_weight_fraction_leaf=0.0,\n",
              "                                                    n_estimators=100,\n",
              "                                                    n_jobs...\n",
              "                   param_distributions={'bootstrap': [True, False],\n",
              "                                        'max_depth': [10, 20, 30, 40, 50, 60,\n",
              "                                                      70, 80, 90, 100, 110,\n",
              "                                                      None],\n",
              "                                        'max_features': ['auto', 'sqrt'],\n",
              "                                        'min_samples_leaf': [1, 2, 4, 6],\n",
              "                                        'min_samples_split': [2, 5, 10, 15],\n",
              "                                        'n_estimators': [200, 288, 377, 466,\n",
              "                                                         555, 644, 733, 822,\n",
              "                                                         911, 1000]},\n",
              "                   pre_dispatch='2*n_jobs', random_state=42, refit=True,\n",
              "                   return_train_score=False, scoring=None, verbose=2)"
            ]
          },
          "metadata": {
            "tags": []
          },
          "execution_count": 90
        }
      ]
    },
    {
      "cell_type": "code",
      "metadata": {
        "id": "tKb1BnaG8JOS",
        "colab_type": "code",
        "colab": {
          "base_uri": "https://localhost:8080/",
          "height": 51
        },
        "outputId": "480ac990-4134-47a7-e7ea-6f15cb10c48d"
      },
      "source": [
        "print(rf_random.best_params_)\n",
        "print(rf_random.best_score_)"
      ],
      "execution_count": 91,
      "outputs": [
        {
          "output_type": "stream",
          "text": [
            "{'n_estimators': 733, 'min_samples_split': 5, 'min_samples_leaf': 2, 'max_features': 'sqrt', 'max_depth': 30, 'bootstrap': True}\n",
            "0.6020733652312599\n"
          ],
          "name": "stdout"
        }
      ]
    },
    {
      "cell_type": "code",
      "metadata": {
        "id": "M01tPgMF8dw9",
        "colab_type": "code",
        "colab": {
          "base_uri": "https://localhost:8080/",
          "height": 51
        },
        "outputId": "1a6257cb-c1d1-4e34-e8a8-6d00e19509d1"
      },
      "source": [
        "\n",
        "#Print the score of both the decision tree\n",
        "\n",
        "print(\"New RandomForest Accuracy: \",rf_random.score(features, target))\n",
        "print(\"Original RandomForest Accuracy\",rf.score(features, target))"
      ],
      "execution_count": 92,
      "outputs": [
        {
          "output_type": "stream",
          "text": [
            "New RandomForest Accuracy:  0.830542264752791\n",
            "Original RandomForest Accuracy 0.8157894736842105\n"
          ],
          "name": "stdout"
        }
      ]
    },
    {
      "cell_type": "code",
      "metadata": {
        "id": "ohutFIGF8fd8",
        "colab_type": "code",
        "colab": {}
      },
      "source": [
        "# Predictions from RF Model\n",
        "\n",
        "y_pred_rf2 = rf_random.predict(df_test)\n",
        "\n",
        "pred_rf2 = rf_random.predict(features)\n",
        "cf_rf2 = metrics.confusion_matrix(target, pred_rf2)\n"
      ],
      "execution_count": 93,
      "outputs": []
    },
    {
      "cell_type": "code",
      "metadata": {
        "id": "dKCEDiDP-6bL",
        "colab_type": "code",
        "colab": {
          "base_uri": "https://localhost:8080/",
          "height": 419
        },
        "outputId": "16d6859c-e179-48b1-81f6-ccaa79f702c2"
      },
      "source": [
        "prob_features_rf = rf_random.predict_proba(df_test)\n",
        "\n",
        "prob_features_df2 = pd.DataFrame(prob_features_rf)\n",
        "prob_features_df2"
      ],
      "execution_count": 94,
      "outputs": [
        {
          "output_type": "execute_result",
          "data": {
            "text/html": [
              "<div>\n",
              "<style scoped>\n",
              "    .dataframe tbody tr th:only-of-type {\n",
              "        vertical-align: middle;\n",
              "    }\n",
              "\n",
              "    .dataframe tbody tr th {\n",
              "        vertical-align: top;\n",
              "    }\n",
              "\n",
              "    .dataframe thead th {\n",
              "        text-align: right;\n",
              "    }\n",
              "</style>\n",
              "<table border=\"1\" class=\"dataframe\">\n",
              "  <thead>\n",
              "    <tr style=\"text-align: right;\">\n",
              "      <th></th>\n",
              "      <th>0</th>\n",
              "      <th>1</th>\n",
              "      <th>2</th>\n",
              "      <th>3</th>\n",
              "      <th>4</th>\n",
              "      <th>5</th>\n",
              "      <th>6</th>\n",
              "      <th>7</th>\n",
              "      <th>8</th>\n",
              "      <th>9</th>\n",
              "      <th>10</th>\n",
              "      <th>11</th>\n",
              "      <th>12</th>\n",
              "      <th>13</th>\n",
              "      <th>14</th>\n",
              "      <th>15</th>\n",
              "    </tr>\n",
              "  </thead>\n",
              "  <tbody>\n",
              "    <tr>\n",
              "      <th>0</th>\n",
              "      <td>0.010928</td>\n",
              "      <td>0.027122</td>\n",
              "      <td>0.538048</td>\n",
              "      <td>0.001809</td>\n",
              "      <td>0.099399</td>\n",
              "      <td>0.091583</td>\n",
              "      <td>0.000536</td>\n",
              "      <td>0.002402</td>\n",
              "      <td>0.002920</td>\n",
              "      <td>0.131247</td>\n",
              "      <td>0.028556</td>\n",
              "      <td>0.000000</td>\n",
              "      <td>0.024801</td>\n",
              "      <td>0.016740</td>\n",
              "      <td>0.021751</td>\n",
              "      <td>0.002158</td>\n",
              "    </tr>\n",
              "    <tr>\n",
              "      <th>1</th>\n",
              "      <td>0.007801</td>\n",
              "      <td>0.505247</td>\n",
              "      <td>0.003449</td>\n",
              "      <td>0.000000</td>\n",
              "      <td>0.079188</td>\n",
              "      <td>0.006074</td>\n",
              "      <td>0.000059</td>\n",
              "      <td>0.000031</td>\n",
              "      <td>0.000341</td>\n",
              "      <td>0.003827</td>\n",
              "      <td>0.003154</td>\n",
              "      <td>0.000049</td>\n",
              "      <td>0.062267</td>\n",
              "      <td>0.011293</td>\n",
              "      <td>0.310141</td>\n",
              "      <td>0.007078</td>\n",
              "    </tr>\n",
              "    <tr>\n",
              "      <th>2</th>\n",
              "      <td>0.004813</td>\n",
              "      <td>0.002818</td>\n",
              "      <td>0.001324</td>\n",
              "      <td>0.000147</td>\n",
              "      <td>0.058060</td>\n",
              "      <td>0.025937</td>\n",
              "      <td>0.005067</td>\n",
              "      <td>0.000621</td>\n",
              "      <td>0.000833</td>\n",
              "      <td>0.115651</td>\n",
              "      <td>0.653016</td>\n",
              "      <td>0.004700</td>\n",
              "      <td>0.050127</td>\n",
              "      <td>0.051813</td>\n",
              "      <td>0.020585</td>\n",
              "      <td>0.004489</td>\n",
              "    </tr>\n",
              "    <tr>\n",
              "      <th>3</th>\n",
              "      <td>0.011340</td>\n",
              "      <td>0.009463</td>\n",
              "      <td>0.003391</td>\n",
              "      <td>0.001158</td>\n",
              "      <td>0.009629</td>\n",
              "      <td>0.031310</td>\n",
              "      <td>0.017195</td>\n",
              "      <td>0.000862</td>\n",
              "      <td>0.010229</td>\n",
              "      <td>0.459431</td>\n",
              "      <td>0.239311</td>\n",
              "      <td>0.006121</td>\n",
              "      <td>0.096897</td>\n",
              "      <td>0.038520</td>\n",
              "      <td>0.063077</td>\n",
              "      <td>0.002066</td>\n",
              "    </tr>\n",
              "    <tr>\n",
              "      <th>4</th>\n",
              "      <td>0.020257</td>\n",
              "      <td>0.016042</td>\n",
              "      <td>0.001344</td>\n",
              "      <td>0.000074</td>\n",
              "      <td>0.004536</td>\n",
              "      <td>0.448002</td>\n",
              "      <td>0.000218</td>\n",
              "      <td>0.000254</td>\n",
              "      <td>0.000100</td>\n",
              "      <td>0.018960</td>\n",
              "      <td>0.147491</td>\n",
              "      <td>0.000140</td>\n",
              "      <td>0.011614</td>\n",
              "      <td>0.083537</td>\n",
              "      <td>0.140928</td>\n",
              "      <td>0.106502</td>\n",
              "    </tr>\n",
              "    <tr>\n",
              "      <th>...</th>\n",
              "      <td>...</td>\n",
              "      <td>...</td>\n",
              "      <td>...</td>\n",
              "      <td>...</td>\n",
              "      <td>...</td>\n",
              "      <td>...</td>\n",
              "      <td>...</td>\n",
              "      <td>...</td>\n",
              "      <td>...</td>\n",
              "      <td>...</td>\n",
              "      <td>...</td>\n",
              "      <td>...</td>\n",
              "      <td>...</td>\n",
              "      <td>...</td>\n",
              "      <td>...</td>\n",
              "      <td>...</td>\n",
              "    </tr>\n",
              "    <tr>\n",
              "      <th>1070</th>\n",
              "      <td>0.000048</td>\n",
              "      <td>0.031332</td>\n",
              "      <td>0.028731</td>\n",
              "      <td>0.000000</td>\n",
              "      <td>0.016993</td>\n",
              "      <td>0.655905</td>\n",
              "      <td>0.001416</td>\n",
              "      <td>0.000217</td>\n",
              "      <td>0.000000</td>\n",
              "      <td>0.028237</td>\n",
              "      <td>0.016922</td>\n",
              "      <td>0.000682</td>\n",
              "      <td>0.005896</td>\n",
              "      <td>0.047931</td>\n",
              "      <td>0.023968</td>\n",
              "      <td>0.141721</td>\n",
              "    </tr>\n",
              "    <tr>\n",
              "      <th>1071</th>\n",
              "      <td>0.001471</td>\n",
              "      <td>0.728974</td>\n",
              "      <td>0.000137</td>\n",
              "      <td>0.000182</td>\n",
              "      <td>0.009009</td>\n",
              "      <td>0.004008</td>\n",
              "      <td>0.000000</td>\n",
              "      <td>0.000000</td>\n",
              "      <td>0.000000</td>\n",
              "      <td>0.032968</td>\n",
              "      <td>0.027233</td>\n",
              "      <td>0.000022</td>\n",
              "      <td>0.141755</td>\n",
              "      <td>0.047144</td>\n",
              "      <td>0.007095</td>\n",
              "      <td>0.000000</td>\n",
              "    </tr>\n",
              "    <tr>\n",
              "      <th>1072</th>\n",
              "      <td>0.000810</td>\n",
              "      <td>0.005314</td>\n",
              "      <td>0.012944</td>\n",
              "      <td>0.005127</td>\n",
              "      <td>0.021307</td>\n",
              "      <td>0.657725</td>\n",
              "      <td>0.003760</td>\n",
              "      <td>0.002283</td>\n",
              "      <td>0.001508</td>\n",
              "      <td>0.035446</td>\n",
              "      <td>0.125408</td>\n",
              "      <td>0.001960</td>\n",
              "      <td>0.085713</td>\n",
              "      <td>0.033073</td>\n",
              "      <td>0.002810</td>\n",
              "      <td>0.004810</td>\n",
              "    </tr>\n",
              "    <tr>\n",
              "      <th>1073</th>\n",
              "      <td>0.000287</td>\n",
              "      <td>0.002550</td>\n",
              "      <td>0.000669</td>\n",
              "      <td>0.000484</td>\n",
              "      <td>0.030440</td>\n",
              "      <td>0.070086</td>\n",
              "      <td>0.001448</td>\n",
              "      <td>0.000413</td>\n",
              "      <td>0.000372</td>\n",
              "      <td>0.040901</td>\n",
              "      <td>0.284387</td>\n",
              "      <td>0.002277</td>\n",
              "      <td>0.251388</td>\n",
              "      <td>0.276556</td>\n",
              "      <td>0.033376</td>\n",
              "      <td>0.004366</td>\n",
              "    </tr>\n",
              "    <tr>\n",
              "      <th>1074</th>\n",
              "      <td>0.000269</td>\n",
              "      <td>0.019173</td>\n",
              "      <td>0.010193</td>\n",
              "      <td>0.000335</td>\n",
              "      <td>0.153043</td>\n",
              "      <td>0.312993</td>\n",
              "      <td>0.003347</td>\n",
              "      <td>0.000278</td>\n",
              "      <td>0.005393</td>\n",
              "      <td>0.367586</td>\n",
              "      <td>0.039416</td>\n",
              "      <td>0.000444</td>\n",
              "      <td>0.027374</td>\n",
              "      <td>0.039666</td>\n",
              "      <td>0.014892</td>\n",
              "      <td>0.005600</td>\n",
              "    </tr>\n",
              "  </tbody>\n",
              "</table>\n",
              "<p>1075 rows × 16 columns</p>\n",
              "</div>"
            ],
            "text/plain": [
              "            0         1         2   ...        13        14        15\n",
              "0     0.010928  0.027122  0.538048  ...  0.016740  0.021751  0.002158\n",
              "1     0.007801  0.505247  0.003449  ...  0.011293  0.310141  0.007078\n",
              "2     0.004813  0.002818  0.001324  ...  0.051813  0.020585  0.004489\n",
              "3     0.011340  0.009463  0.003391  ...  0.038520  0.063077  0.002066\n",
              "4     0.020257  0.016042  0.001344  ...  0.083537  0.140928  0.106502\n",
              "...        ...       ...       ...  ...       ...       ...       ...\n",
              "1070  0.000048  0.031332  0.028731  ...  0.047931  0.023968  0.141721\n",
              "1071  0.001471  0.728974  0.000137  ...  0.047144  0.007095  0.000000\n",
              "1072  0.000810  0.005314  0.012944  ...  0.033073  0.002810  0.004810\n",
              "1073  0.000287  0.002550  0.000669  ...  0.276556  0.033376  0.004366\n",
              "1074  0.000269  0.019173  0.010193  ...  0.039666  0.014892  0.005600\n",
              "\n",
              "[1075 rows x 16 columns]"
            ]
          },
          "metadata": {
            "tags": []
          },
          "execution_count": 94
        }
      ]
    },
    {
      "cell_type": "code",
      "metadata": {
        "id": "JoaZHBso_VWe",
        "colab_type": "code",
        "colab": {}
      },
      "source": [
        "# saving the dataframe \n",
        "prob_features_df2.to_csv('file4.csv')"
      ],
      "execution_count": 95,
      "outputs": []
    },
    {
      "cell_type": "code",
      "metadata": {
        "id": "n9wQwBhJ_iYx",
        "colab_type": "code",
        "colab": {}
      },
      "source": [
        ""
      ],
      "execution_count": null,
      "outputs": []
    }
  ]
}