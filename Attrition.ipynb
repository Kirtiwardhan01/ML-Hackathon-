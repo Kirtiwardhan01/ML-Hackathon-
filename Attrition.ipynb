{
  "nbformat": 4,
  "nbformat_minor": 0,
  "metadata": {
    "colab": {
      "name": "Attrition",
      "provenance": [],
      "collapsed_sections": [],
      "authorship_tag": "ABX9TyNPremzihHVNwRkoFQgHE6g",
      "include_colab_link": true
    },
    "kernelspec": {
      "name": "python3",
      "display_name": "Python 3"
    },
    "accelerator": "GPU"
  },
  "cells": [
    {
      "cell_type": "markdown",
      "metadata": {
        "id": "view-in-github",
        "colab_type": "text"
      },
      "source": [
        "<a href=\"https://colab.research.google.com/github/Kirtiwardhan01/ML-Hackathon-/blob/master/Attrition.ipynb\" target=\"_parent\"><img src=\"https://colab.research.google.com/assets/colab-badge.svg\" alt=\"Open In Colab\"/></a>"
      ]
    },
    {
      "cell_type": "code",
      "metadata": {
        "id": "3-d1MinEVLA5",
        "colab_type": "code",
        "colab": {
          "base_uri": "https://localhost:8080/",
          "height": 122
        },
        "outputId": "7ae2ed4f-bdf5-4c5e-e593-f88efda6db01"
      },
      "source": [
        "from google.colab import drive\n",
        "drive.mount('/content/drive')"
      ],
      "execution_count": null,
      "outputs": [
        {
          "output_type": "stream",
          "text": [
            "Go to this URL in a browser: https://accounts.google.com/o/oauth2/auth?client_id=947318989803-6bn6qk8qdgf4n4g3pfee6491hc0brc4i.apps.googleusercontent.com&redirect_uri=urn%3aietf%3awg%3aoauth%3a2.0%3aoob&response_type=code&scope=email%20https%3a%2f%2fwww.googleapis.com%2fauth%2fdocs.test%20https%3a%2f%2fwww.googleapis.com%2fauth%2fdrive%20https%3a%2f%2fwww.googleapis.com%2fauth%2fdrive.photos.readonly%20https%3a%2f%2fwww.googleapis.com%2fauth%2fpeopleapi.readonly\n",
            "\n",
            "Enter your authorization code:\n",
            "··········\n",
            "Mounted at /content/drive\n"
          ],
          "name": "stdout"
        }
      ]
    },
    {
      "cell_type": "code",
      "metadata": {
        "id": "tGNkGD7ZViSM",
        "colab_type": "code",
        "colab": {
          "base_uri": "https://localhost:8080/",
          "height": 71
        },
        "outputId": "7ba77a9b-511a-48d1-fc8f-ffd5834bcc86"
      },
      "source": [
        "#Importing the packages and dataset\n",
        "\n",
        "import numpy as np\n",
        "import pandas as pd\n",
        "import pandas_profiling as pp\n",
        "import matplotlib.pyplot as plt\n",
        "import seaborn as sns\n",
        "\n",
        "%matplotlib inline"
      ],
      "execution_count": null,
      "outputs": [
        {
          "output_type": "stream",
          "text": [
            "/usr/local/lib/python3.6/dist-packages/statsmodels/tools/_testing.py:19: FutureWarning: pandas.util.testing is deprecated. Use the functions in the public API at pandas.testing instead.\n",
            "  import pandas.util.testing as tm\n"
          ],
          "name": "stderr"
        }
      ]
    },
    {
      "cell_type": "code",
      "metadata": {
        "id": "rGA5U1i3V89_",
        "colab_type": "code",
        "colab": {
          "base_uri": "https://localhost:8080/",
          "height": 275
        },
        "outputId": "ca6a666f-c2f1-466b-b2de-13755bfbb04b"
      },
      "source": [
        "#Exploring the dataset\n",
        "\n",
        "train_df = pd.read_csv('/content/drive/My Drive/Hackathon/Employee_attrition/Train.csv')   #(7000, 24) \n",
        "target = train_df['Attrition_rate']\n",
        "train_df.drop(['Attrition_rate'],1,inplace=True)\n",
        "\n",
        "test_df = pd.read_csv('/content/drive/My Drive/Hackathon/Employee_attrition/Test.csv')     #(3000, 23)\n",
        "\n",
        "dataset = pd.concat([train_df, test_df], axis=0, sort=False)\n",
        "\n",
        "\n",
        "print(dataset.shape)\n",
        "\n",
        "dataset.head()"
      ],
      "execution_count": null,
      "outputs": [
        {
          "output_type": "stream",
          "text": [
            "(10000, 23)\n"
          ],
          "name": "stdout"
        },
        {
          "output_type": "execute_result",
          "data": {
            "text/html": [
              "<div>\n",
              "<style scoped>\n",
              "    .dataframe tbody tr th:only-of-type {\n",
              "        vertical-align: middle;\n",
              "    }\n",
              "\n",
              "    .dataframe tbody tr th {\n",
              "        vertical-align: top;\n",
              "    }\n",
              "\n",
              "    .dataframe thead th {\n",
              "        text-align: right;\n",
              "    }\n",
              "</style>\n",
              "<table border=\"1\" class=\"dataframe\">\n",
              "  <thead>\n",
              "    <tr style=\"text-align: right;\">\n",
              "      <th></th>\n",
              "      <th>Employee_ID</th>\n",
              "      <th>Gender</th>\n",
              "      <th>Age</th>\n",
              "      <th>Education_Level</th>\n",
              "      <th>Relationship_Status</th>\n",
              "      <th>Hometown</th>\n",
              "      <th>Unit</th>\n",
              "      <th>Decision_skill_possess</th>\n",
              "      <th>Time_of_service</th>\n",
              "      <th>Time_since_promotion</th>\n",
              "      <th>growth_rate</th>\n",
              "      <th>Travel_Rate</th>\n",
              "      <th>Post_Level</th>\n",
              "      <th>Pay_Scale</th>\n",
              "      <th>Compensation_and_Benefits</th>\n",
              "      <th>Work_Life_balance</th>\n",
              "      <th>VAR1</th>\n",
              "      <th>VAR2</th>\n",
              "      <th>VAR3</th>\n",
              "      <th>VAR4</th>\n",
              "      <th>VAR5</th>\n",
              "      <th>VAR6</th>\n",
              "      <th>VAR7</th>\n",
              "    </tr>\n",
              "  </thead>\n",
              "  <tbody>\n",
              "    <tr>\n",
              "      <th>0</th>\n",
              "      <td>EID_23371</td>\n",
              "      <td>F</td>\n",
              "      <td>42.0</td>\n",
              "      <td>4</td>\n",
              "      <td>Married</td>\n",
              "      <td>Franklin</td>\n",
              "      <td>IT</td>\n",
              "      <td>Conceptual</td>\n",
              "      <td>4.0</td>\n",
              "      <td>4</td>\n",
              "      <td>33</td>\n",
              "      <td>1</td>\n",
              "      <td>1</td>\n",
              "      <td>7.0</td>\n",
              "      <td>type2</td>\n",
              "      <td>3.0</td>\n",
              "      <td>4</td>\n",
              "      <td>0.7516</td>\n",
              "      <td>1.8688</td>\n",
              "      <td>2.0</td>\n",
              "      <td>4</td>\n",
              "      <td>5</td>\n",
              "      <td>3</td>\n",
              "    </tr>\n",
              "    <tr>\n",
              "      <th>1</th>\n",
              "      <td>EID_18000</td>\n",
              "      <td>M</td>\n",
              "      <td>24.0</td>\n",
              "      <td>3</td>\n",
              "      <td>Single</td>\n",
              "      <td>Springfield</td>\n",
              "      <td>Logistics</td>\n",
              "      <td>Analytical</td>\n",
              "      <td>5.0</td>\n",
              "      <td>4</td>\n",
              "      <td>36</td>\n",
              "      <td>0</td>\n",
              "      <td>3</td>\n",
              "      <td>6.0</td>\n",
              "      <td>type2</td>\n",
              "      <td>4.0</td>\n",
              "      <td>3</td>\n",
              "      <td>-0.9612</td>\n",
              "      <td>-0.4537</td>\n",
              "      <td>2.0</td>\n",
              "      <td>3</td>\n",
              "      <td>5</td>\n",
              "      <td>3</td>\n",
              "    </tr>\n",
              "    <tr>\n",
              "      <th>2</th>\n",
              "      <td>EID_3891</td>\n",
              "      <td>F</td>\n",
              "      <td>58.0</td>\n",
              "      <td>3</td>\n",
              "      <td>Married</td>\n",
              "      <td>Clinton</td>\n",
              "      <td>Quality</td>\n",
              "      <td>Conceptual</td>\n",
              "      <td>27.0</td>\n",
              "      <td>3</td>\n",
              "      <td>51</td>\n",
              "      <td>0</td>\n",
              "      <td>2</td>\n",
              "      <td>8.0</td>\n",
              "      <td>type2</td>\n",
              "      <td>1.0</td>\n",
              "      <td>4</td>\n",
              "      <td>-0.9612</td>\n",
              "      <td>-0.4537</td>\n",
              "      <td>3.0</td>\n",
              "      <td>3</td>\n",
              "      <td>8</td>\n",
              "      <td>3</td>\n",
              "    </tr>\n",
              "    <tr>\n",
              "      <th>3</th>\n",
              "      <td>EID_17492</td>\n",
              "      <td>F</td>\n",
              "      <td>26.0</td>\n",
              "      <td>3</td>\n",
              "      <td>Single</td>\n",
              "      <td>Lebanon</td>\n",
              "      <td>Human Resource Management</td>\n",
              "      <td>Behavioral</td>\n",
              "      <td>4.0</td>\n",
              "      <td>3</td>\n",
              "      <td>56</td>\n",
              "      <td>1</td>\n",
              "      <td>3</td>\n",
              "      <td>8.0</td>\n",
              "      <td>type2</td>\n",
              "      <td>1.0</td>\n",
              "      <td>3</td>\n",
              "      <td>-1.8176</td>\n",
              "      <td>-0.4537</td>\n",
              "      <td>NaN</td>\n",
              "      <td>3</td>\n",
              "      <td>7</td>\n",
              "      <td>3</td>\n",
              "    </tr>\n",
              "    <tr>\n",
              "      <th>4</th>\n",
              "      <td>EID_22534</td>\n",
              "      <td>F</td>\n",
              "      <td>31.0</td>\n",
              "      <td>1</td>\n",
              "      <td>Married</td>\n",
              "      <td>Springfield</td>\n",
              "      <td>Logistics</td>\n",
              "      <td>Conceptual</td>\n",
              "      <td>5.0</td>\n",
              "      <td>4</td>\n",
              "      <td>62</td>\n",
              "      <td>1</td>\n",
              "      <td>3</td>\n",
              "      <td>2.0</td>\n",
              "      <td>type3</td>\n",
              "      <td>3.0</td>\n",
              "      <td>1</td>\n",
              "      <td>0.7516</td>\n",
              "      <td>-0.4537</td>\n",
              "      <td>2.0</td>\n",
              "      <td>2</td>\n",
              "      <td>8</td>\n",
              "      <td>2</td>\n",
              "    </tr>\n",
              "  </tbody>\n",
              "</table>\n",
              "</div>"
            ],
            "text/plain": [
              "  Employee_ID Gender   Age  Education_Level  ... VAR4 VAR5 VAR6 VAR7\n",
              "0   EID_23371      F  42.0                4  ...  2.0    4    5    3\n",
              "1   EID_18000      M  24.0                3  ...  2.0    3    5    3\n",
              "2    EID_3891      F  58.0                3  ...  3.0    3    8    3\n",
              "3   EID_17492      F  26.0                3  ...  NaN    3    7    3\n",
              "4   EID_22534      F  31.0                1  ...  2.0    2    8    2\n",
              "\n",
              "[5 rows x 23 columns]"
            ]
          },
          "metadata": {
            "tags": []
          },
          "execution_count": 3
        }
      ]
    },
    {
      "cell_type": "code",
      "metadata": {
        "id": "zdz0NhkJWAfO",
        "colab_type": "code",
        "colab": {
          "base_uri": "https://localhost:8080/",
          "height": 544
        },
        "outputId": "d0f9b1ea-6868-47d5-a955-836fd97f4dda"
      },
      "source": [
        "#Let's see the details of the dataset\n",
        "print(dataset.info())"
      ],
      "execution_count": null,
      "outputs": [
        {
          "output_type": "stream",
          "text": [
            "<class 'pandas.core.frame.DataFrame'>\n",
            "Int64Index: 10000 entries, 0 to 2999\n",
            "Data columns (total 23 columns):\n",
            " #   Column                     Non-Null Count  Dtype  \n",
            "---  ------                     --------------  -----  \n",
            " 0   Employee_ID                10000 non-null  object \n",
            " 1   Gender                     10000 non-null  object \n",
            " 2   Age                        9427 non-null   float64\n",
            " 3   Education_Level            10000 non-null  int64  \n",
            " 4   Relationship_Status        10000 non-null  object \n",
            " 5   Hometown                   10000 non-null  object \n",
            " 6   Unit                       10000 non-null  object \n",
            " 7   Decision_skill_possess     10000 non-null  object \n",
            " 8   Time_of_service            9804 non-null   float64\n",
            " 9   Time_since_promotion       10000 non-null  int64  \n",
            " 10  growth_rate                10000 non-null  int64  \n",
            " 11  Travel_Rate                10000 non-null  int64  \n",
            " 12  Post_Level                 10000 non-null  int64  \n",
            " 13  Pay_Scale                  9988 non-null   float64\n",
            " 14  Compensation_and_Benefits  10000 non-null  object \n",
            " 15  Work_Life_balance          9984 non-null   float64\n",
            " 16  VAR1                       10000 non-null  int64  \n",
            " 17  VAR2                       9206 non-null   float64\n",
            " 18  VAR3                       10000 non-null  float64\n",
            " 19  VAR4                       9046 non-null   float64\n",
            " 20  VAR5                       10000 non-null  int64  \n",
            " 21  VAR6                       10000 non-null  int64  \n",
            " 22  VAR7                       10000 non-null  int64  \n",
            "dtypes: float64(7), int64(9), object(7)\n",
            "memory usage: 1.8+ MB\n",
            "None\n"
          ],
          "name": "stdout"
        }
      ]
    },
    {
      "cell_type": "code",
      "metadata": {
        "id": "NSywvZr6WFje",
        "colab_type": "code",
        "colab": {
          "base_uri": "https://localhost:8080/",
          "height": 359
        },
        "outputId": "f8a04bb4-5b9c-4967-d2e2-85be5a3aa158"
      },
      "source": [
        "dataset_missing = dataset.isnull().sum().sort_values(ascending=False)\n",
        "dataset_missing = pd.DataFrame(dataset_missing).reset_index()\n",
        "dataset_missing.columns = ['Feature', 'Number of Data Records Missing']\n",
        "dataset_missing.head(10)\n"
      ],
      "execution_count": null,
      "outputs": [
        {
          "output_type": "execute_result",
          "data": {
            "text/html": [
              "<div>\n",
              "<style scoped>\n",
              "    .dataframe tbody tr th:only-of-type {\n",
              "        vertical-align: middle;\n",
              "    }\n",
              "\n",
              "    .dataframe tbody tr th {\n",
              "        vertical-align: top;\n",
              "    }\n",
              "\n",
              "    .dataframe thead th {\n",
              "        text-align: right;\n",
              "    }\n",
              "</style>\n",
              "<table border=\"1\" class=\"dataframe\">\n",
              "  <thead>\n",
              "    <tr style=\"text-align: right;\">\n",
              "      <th></th>\n",
              "      <th>Feature</th>\n",
              "      <th>Number of Data Records Missing</th>\n",
              "    </tr>\n",
              "  </thead>\n",
              "  <tbody>\n",
              "    <tr>\n",
              "      <th>0</th>\n",
              "      <td>VAR4</td>\n",
              "      <td>954</td>\n",
              "    </tr>\n",
              "    <tr>\n",
              "      <th>1</th>\n",
              "      <td>VAR2</td>\n",
              "      <td>794</td>\n",
              "    </tr>\n",
              "    <tr>\n",
              "      <th>2</th>\n",
              "      <td>Age</td>\n",
              "      <td>573</td>\n",
              "    </tr>\n",
              "    <tr>\n",
              "      <th>3</th>\n",
              "      <td>Time_of_service</td>\n",
              "      <td>196</td>\n",
              "    </tr>\n",
              "    <tr>\n",
              "      <th>4</th>\n",
              "      <td>Work_Life_balance</td>\n",
              "      <td>16</td>\n",
              "    </tr>\n",
              "    <tr>\n",
              "      <th>5</th>\n",
              "      <td>Pay_Scale</td>\n",
              "      <td>12</td>\n",
              "    </tr>\n",
              "    <tr>\n",
              "      <th>6</th>\n",
              "      <td>VAR7</td>\n",
              "      <td>0</td>\n",
              "    </tr>\n",
              "    <tr>\n",
              "      <th>7</th>\n",
              "      <td>Gender</td>\n",
              "      <td>0</td>\n",
              "    </tr>\n",
              "    <tr>\n",
              "      <th>8</th>\n",
              "      <td>Education_Level</td>\n",
              "      <td>0</td>\n",
              "    </tr>\n",
              "    <tr>\n",
              "      <th>9</th>\n",
              "      <td>Relationship_Status</td>\n",
              "      <td>0</td>\n",
              "    </tr>\n",
              "  </tbody>\n",
              "</table>\n",
              "</div>"
            ],
            "text/plain": [
              "               Feature  Number of Data Records Missing\n",
              "0                 VAR4                             954\n",
              "1                 VAR2                             794\n",
              "2                  Age                             573\n",
              "3      Time_of_service                             196\n",
              "4    Work_Life_balance                              16\n",
              "5            Pay_Scale                              12\n",
              "6                 VAR7                               0\n",
              "7               Gender                               0\n",
              "8      Education_Level                               0\n",
              "9  Relationship_Status                               0"
            ]
          },
          "metadata": {
            "tags": []
          },
          "execution_count": 5
        }
      ]
    },
    {
      "cell_type": "code",
      "metadata": {
        "id": "AG71YC9bWIpA",
        "colab_type": "code",
        "colab": {
          "base_uri": "https://localhost:8080/",
          "height": 425
        },
        "outputId": "5c99da70-3275-42f6-eabd-9691a8d27094"
      },
      "source": [
        "#Checking the percentage of missing values\n",
        "dataset_missingpercent = 100 * (dataset.isnull().sum()/dataset.isnull().count()).sort_values(ascending=False)\n",
        "print(dataset_missingpercent)"
      ],
      "execution_count": null,
      "outputs": [
        {
          "output_type": "stream",
          "text": [
            "VAR4                         9.54\n",
            "VAR2                         7.94\n",
            "Age                          5.73\n",
            "Time_of_service              1.96\n",
            "Work_Life_balance            0.16\n",
            "Pay_Scale                    0.12\n",
            "VAR7                         0.00\n",
            "Gender                       0.00\n",
            "Education_Level              0.00\n",
            "Relationship_Status          0.00\n",
            "Hometown                     0.00\n",
            "Unit                         0.00\n",
            "Decision_skill_possess       0.00\n",
            "Travel_Rate                  0.00\n",
            "Time_since_promotion         0.00\n",
            "growth_rate                  0.00\n",
            "VAR6                         0.00\n",
            "Post_Level                   0.00\n",
            "Compensation_and_Benefits    0.00\n",
            "VAR1                         0.00\n",
            "VAR3                         0.00\n",
            "VAR5                         0.00\n",
            "Employee_ID                  0.00\n",
            "dtype: float64\n"
          ],
          "name": "stdout"
        }
      ]
    },
    {
      "cell_type": "code",
      "metadata": {
        "id": "VSKa4FXRWhQq",
        "colab_type": "code",
        "colab": {
          "base_uri": "https://localhost:8080/",
          "height": 545
        },
        "outputId": "b496eee4-7df1-44c2-d277-501b15214d78"
      },
      "source": [
        "dataset.describe().T"
      ],
      "execution_count": null,
      "outputs": [
        {
          "output_type": "execute_result",
          "data": {
            "text/html": [
              "<div>\n",
              "<style scoped>\n",
              "    .dataframe tbody tr th:only-of-type {\n",
              "        vertical-align: middle;\n",
              "    }\n",
              "\n",
              "    .dataframe tbody tr th {\n",
              "        vertical-align: top;\n",
              "    }\n",
              "\n",
              "    .dataframe thead th {\n",
              "        text-align: right;\n",
              "    }\n",
              "</style>\n",
              "<table border=\"1\" class=\"dataframe\">\n",
              "  <thead>\n",
              "    <tr style=\"text-align: right;\">\n",
              "      <th></th>\n",
              "      <th>count</th>\n",
              "      <th>mean</th>\n",
              "      <th>std</th>\n",
              "      <th>min</th>\n",
              "      <th>25%</th>\n",
              "      <th>50%</th>\n",
              "      <th>75%</th>\n",
              "      <th>max</th>\n",
              "    </tr>\n",
              "  </thead>\n",
              "  <tbody>\n",
              "    <tr>\n",
              "      <th>Age</th>\n",
              "      <td>9427.0</td>\n",
              "      <td>39.675507</td>\n",
              "      <td>13.574856</td>\n",
              "      <td>19.0000</td>\n",
              "      <td>27.0000</td>\n",
              "      <td>38.0000</td>\n",
              "      <td>52.0000</td>\n",
              "      <td>65.0000</td>\n",
              "    </tr>\n",
              "    <tr>\n",
              "      <th>Education_Level</th>\n",
              "      <td>10000.0</td>\n",
              "      <td>3.199400</td>\n",
              "      <td>1.065436</td>\n",
              "      <td>1.0000</td>\n",
              "      <td>3.0000</td>\n",
              "      <td>3.0000</td>\n",
              "      <td>4.0000</td>\n",
              "      <td>5.0000</td>\n",
              "    </tr>\n",
              "    <tr>\n",
              "      <th>Time_of_service</th>\n",
              "      <td>9804.0</td>\n",
              "      <td>13.390657</td>\n",
              "      <td>10.311381</td>\n",
              "      <td>0.0000</td>\n",
              "      <td>5.0000</td>\n",
              "      <td>10.0000</td>\n",
              "      <td>21.0000</td>\n",
              "      <td>43.0000</td>\n",
              "    </tr>\n",
              "    <tr>\n",
              "      <th>Time_since_promotion</th>\n",
              "      <td>10000.0</td>\n",
              "      <td>2.378600</td>\n",
              "      <td>1.149780</td>\n",
              "      <td>0.0000</td>\n",
              "      <td>1.0000</td>\n",
              "      <td>2.0000</td>\n",
              "      <td>3.0000</td>\n",
              "      <td>4.0000</td>\n",
              "    </tr>\n",
              "    <tr>\n",
              "      <th>growth_rate</th>\n",
              "      <td>10000.0</td>\n",
              "      <td>47.008400</td>\n",
              "      <td>15.848553</td>\n",
              "      <td>20.0000</td>\n",
              "      <td>33.0000</td>\n",
              "      <td>47.0000</td>\n",
              "      <td>61.0000</td>\n",
              "      <td>74.0000</td>\n",
              "    </tr>\n",
              "    <tr>\n",
              "      <th>Travel_Rate</th>\n",
              "      <td>10000.0</td>\n",
              "      <td>0.820700</td>\n",
              "      <td>0.646524</td>\n",
              "      <td>0.0000</td>\n",
              "      <td>0.0000</td>\n",
              "      <td>1.0000</td>\n",
              "      <td>1.0000</td>\n",
              "      <td>2.0000</td>\n",
              "    </tr>\n",
              "    <tr>\n",
              "      <th>Post_Level</th>\n",
              "      <td>10000.0</td>\n",
              "      <td>2.797000</td>\n",
              "      <td>1.171037</td>\n",
              "      <td>1.0000</td>\n",
              "      <td>2.0000</td>\n",
              "      <td>3.0000</td>\n",
              "      <td>4.0000</td>\n",
              "      <td>5.0000</td>\n",
              "    </tr>\n",
              "    <tr>\n",
              "      <th>Pay_Scale</th>\n",
              "      <td>9988.0</td>\n",
              "      <td>6.022627</td>\n",
              "      <td>2.070087</td>\n",
              "      <td>1.0000</td>\n",
              "      <td>5.0000</td>\n",
              "      <td>6.0000</td>\n",
              "      <td>8.0000</td>\n",
              "      <td>10.0000</td>\n",
              "    </tr>\n",
              "    <tr>\n",
              "      <th>Work_Life_balance</th>\n",
              "      <td>9984.0</td>\n",
              "      <td>2.385817</td>\n",
              "      <td>1.128782</td>\n",
              "      <td>1.0000</td>\n",
              "      <td>1.0000</td>\n",
              "      <td>2.0000</td>\n",
              "      <td>3.0000</td>\n",
              "      <td>5.0000</td>\n",
              "    </tr>\n",
              "    <tr>\n",
              "      <th>VAR1</th>\n",
              "      <td>10000.0</td>\n",
              "      <td>3.089100</td>\n",
              "      <td>0.831884</td>\n",
              "      <td>1.0000</td>\n",
              "      <td>3.0000</td>\n",
              "      <td>3.0000</td>\n",
              "      <td>3.0000</td>\n",
              "      <td>5.0000</td>\n",
              "    </tr>\n",
              "    <tr>\n",
              "      <th>VAR2</th>\n",
              "      <td>9206.0</td>\n",
              "      <td>0.002653</td>\n",
              "      <td>0.992949</td>\n",
              "      <td>-1.8176</td>\n",
              "      <td>-0.9612</td>\n",
              "      <td>-0.1048</td>\n",
              "      <td>0.7516</td>\n",
              "      <td>1.6081</td>\n",
              "    </tr>\n",
              "    <tr>\n",
              "      <th>VAR3</th>\n",
              "      <td>10000.0</td>\n",
              "      <td>-0.005826</td>\n",
              "      <td>0.990812</td>\n",
              "      <td>-2.7762</td>\n",
              "      <td>-0.4537</td>\n",
              "      <td>-0.4537</td>\n",
              "      <td>0.7075</td>\n",
              "      <td>1.8688</td>\n",
              "    </tr>\n",
              "    <tr>\n",
              "      <th>VAR4</th>\n",
              "      <td>9046.0</td>\n",
              "      <td>1.895976</td>\n",
              "      <td>0.533987</td>\n",
              "      <td>1.0000</td>\n",
              "      <td>2.0000</td>\n",
              "      <td>2.0000</td>\n",
              "      <td>2.0000</td>\n",
              "      <td>3.0000</td>\n",
              "    </tr>\n",
              "    <tr>\n",
              "      <th>VAR5</th>\n",
              "      <td>10000.0</td>\n",
              "      <td>2.834800</td>\n",
              "      <td>0.939466</td>\n",
              "      <td>1.0000</td>\n",
              "      <td>2.0000</td>\n",
              "      <td>3.0000</td>\n",
              "      <td>3.0000</td>\n",
              "      <td>5.0000</td>\n",
              "    </tr>\n",
              "    <tr>\n",
              "      <th>VAR6</th>\n",
              "      <td>10000.0</td>\n",
              "      <td>7.110000</td>\n",
              "      <td>1.160877</td>\n",
              "      <td>5.0000</td>\n",
              "      <td>6.0000</td>\n",
              "      <td>7.0000</td>\n",
              "      <td>8.0000</td>\n",
              "      <td>9.0000</td>\n",
              "    </tr>\n",
              "    <tr>\n",
              "      <th>VAR7</th>\n",
              "      <td>10000.0</td>\n",
              "      <td>3.249600</td>\n",
              "      <td>0.918795</td>\n",
              "      <td>1.0000</td>\n",
              "      <td>3.0000</td>\n",
              "      <td>3.0000</td>\n",
              "      <td>4.0000</td>\n",
              "      <td>5.0000</td>\n",
              "    </tr>\n",
              "  </tbody>\n",
              "</table>\n",
              "</div>"
            ],
            "text/plain": [
              "                        count       mean        std  ...      50%      75%      max\n",
              "Age                    9427.0  39.675507  13.574856  ...  38.0000  52.0000  65.0000\n",
              "Education_Level       10000.0   3.199400   1.065436  ...   3.0000   4.0000   5.0000\n",
              "Time_of_service        9804.0  13.390657  10.311381  ...  10.0000  21.0000  43.0000\n",
              "Time_since_promotion  10000.0   2.378600   1.149780  ...   2.0000   3.0000   4.0000\n",
              "growth_rate           10000.0  47.008400  15.848553  ...  47.0000  61.0000  74.0000\n",
              "Travel_Rate           10000.0   0.820700   0.646524  ...   1.0000   1.0000   2.0000\n",
              "Post_Level            10000.0   2.797000   1.171037  ...   3.0000   4.0000   5.0000\n",
              "Pay_Scale              9988.0   6.022627   2.070087  ...   6.0000   8.0000  10.0000\n",
              "Work_Life_balance      9984.0   2.385817   1.128782  ...   2.0000   3.0000   5.0000\n",
              "VAR1                  10000.0   3.089100   0.831884  ...   3.0000   3.0000   5.0000\n",
              "VAR2                   9206.0   0.002653   0.992949  ...  -0.1048   0.7516   1.6081\n",
              "VAR3                  10000.0  -0.005826   0.990812  ...  -0.4537   0.7075   1.8688\n",
              "VAR4                   9046.0   1.895976   0.533987  ...   2.0000   2.0000   3.0000\n",
              "VAR5                  10000.0   2.834800   0.939466  ...   3.0000   3.0000   5.0000\n",
              "VAR6                  10000.0   7.110000   1.160877  ...   7.0000   8.0000   9.0000\n",
              "VAR7                  10000.0   3.249600   0.918795  ...   3.0000   4.0000   5.0000\n",
              "\n",
              "[16 rows x 8 columns]"
            ]
          },
          "metadata": {
            "tags": []
          },
          "execution_count": 7
        }
      ]
    },
    {
      "cell_type": "code",
      "metadata": {
        "id": "IvAvqPgIWlNK",
        "colab_type": "code",
        "colab": {
          "base_uri": "https://localhost:8080/",
          "height": 34
        },
        "outputId": "5542819b-68a3-4f61-e44e-c62b77e69d16"
      },
      "source": [
        "#Filling-in the blank values in 'Age' column by grouping genderwise and accordingly transforming the column\n",
        "dataset['Age'] = dataset.groupby('Gender')['Age'].transform(lambda x: x.fillna(x.mean()))\n",
        "dataset['Age'].mean()"
      ],
      "execution_count": null,
      "outputs": [
        {
          "output_type": "execute_result",
          "data": {
            "text/plain": [
              "39.67543190349851"
            ]
          },
          "metadata": {
            "tags": []
          },
          "execution_count": 8
        }
      ]
    },
    {
      "cell_type": "code",
      "metadata": {
        "id": "SBabvXj8Wo9R",
        "colab_type": "code",
        "colab": {
          "base_uri": "https://localhost:8080/",
          "height": 34
        },
        "outputId": "a741c118-1ab1-4924-b9bc-af3759bca003"
      },
      "source": [
        "dataset['Time_of_service'] = dataset.groupby('Unit')['Time_of_service'].transform(lambda x: x.fillna(x.mean()))\n",
        "dataset['Time_of_service'].mean()"
      ],
      "execution_count": null,
      "outputs": [
        {
          "output_type": "execute_result",
          "data": {
            "text/plain": [
              "13.391590185370655"
            ]
          },
          "metadata": {
            "tags": []
          },
          "execution_count": 9
        }
      ]
    },
    {
      "cell_type": "code",
      "metadata": {
        "id": "ul-i8aSBWraj",
        "colab_type": "code",
        "colab": {
          "base_uri": "https://localhost:8080/",
          "height": 34
        },
        "outputId": "d7f9fa95-ba4c-4b0e-a20f-0f56473b2ecf"
      },
      "source": [
        "dataset['Pay_Scale'] = dataset.groupby('Post_Level')['Pay_Scale'].transform(lambda x: x.fillna(x.mean()))\n",
        "dataset['Pay_Scale'].mean()"
      ],
      "execution_count": null,
      "outputs": [
        {
          "output_type": "execute_result",
          "data": {
            "text/plain": [
              "6.022635900792347"
            ]
          },
          "metadata": {
            "tags": []
          },
          "execution_count": 10
        }
      ]
    },
    {
      "cell_type": "code",
      "metadata": {
        "id": "LGcfuWOMWt3g",
        "colab_type": "code",
        "colab": {
          "base_uri": "https://localhost:8080/",
          "height": 68
        },
        "outputId": "30acc854-84f1-4bcb-ed24-77ba1fd19d5e"
      },
      "source": [
        "dataset['VAR2'] = dataset['VAR2'].fillna(dataset['VAR2'].mean())\n",
        "print(dataset['VAR2'].mean())\n",
        "\n",
        "dataset['VAR4'] = dataset['VAR4'].fillna(dataset['VAR4'].mean())\n",
        "print(dataset['VAR4'].mean())\n",
        "\n",
        "dataset['Work_Life_balance'] = dataset['Work_Life_balance'].fillna(dataset['Work_Life_balance'].mean())\n",
        "print(dataset['Work_Life_balance'].mean())\n"
      ],
      "execution_count": null,
      "outputs": [
        {
          "output_type": "stream",
          "text": [
            "0.0026529002824258116\n",
            "1.8959761220429063\n",
            "2.385817307692307\n"
          ],
          "name": "stdout"
        }
      ]
    },
    {
      "cell_type": "markdown",
      "metadata": {
        "id": "a-UsrPGvW4G9",
        "colab_type": "text"
      },
      "source": [
        "The describe method is used to find the summary statistics for every column\n",
        "\n",
        "Now that the data is all cleaned and free of NaN values, we can start the with plots and Exploratory Analysis"
      ]
    },
    {
      "cell_type": "code",
      "metadata": {
        "id": "Xmfh7dqnWyH4",
        "colab_type": "code",
        "colab": {
          "base_uri": "https://localhost:8080/",
          "height": 258
        },
        "outputId": "4b5ea5c3-39f5-4e59-97c3-ec2cb7b729fd"
      },
      "source": [
        "dataset.head()"
      ],
      "execution_count": null,
      "outputs": [
        {
          "output_type": "execute_result",
          "data": {
            "text/html": [
              "<div>\n",
              "<style scoped>\n",
              "    .dataframe tbody tr th:only-of-type {\n",
              "        vertical-align: middle;\n",
              "    }\n",
              "\n",
              "    .dataframe tbody tr th {\n",
              "        vertical-align: top;\n",
              "    }\n",
              "\n",
              "    .dataframe thead th {\n",
              "        text-align: right;\n",
              "    }\n",
              "</style>\n",
              "<table border=\"1\" class=\"dataframe\">\n",
              "  <thead>\n",
              "    <tr style=\"text-align: right;\">\n",
              "      <th></th>\n",
              "      <th>Employee_ID</th>\n",
              "      <th>Gender</th>\n",
              "      <th>Age</th>\n",
              "      <th>Education_Level</th>\n",
              "      <th>Relationship_Status</th>\n",
              "      <th>Hometown</th>\n",
              "      <th>Unit</th>\n",
              "      <th>Decision_skill_possess</th>\n",
              "      <th>Time_of_service</th>\n",
              "      <th>Time_since_promotion</th>\n",
              "      <th>growth_rate</th>\n",
              "      <th>Travel_Rate</th>\n",
              "      <th>Post_Level</th>\n",
              "      <th>Pay_Scale</th>\n",
              "      <th>Compensation_and_Benefits</th>\n",
              "      <th>Work_Life_balance</th>\n",
              "      <th>VAR1</th>\n",
              "      <th>VAR2</th>\n",
              "      <th>VAR3</th>\n",
              "      <th>VAR4</th>\n",
              "      <th>VAR5</th>\n",
              "      <th>VAR6</th>\n",
              "      <th>VAR7</th>\n",
              "    </tr>\n",
              "  </thead>\n",
              "  <tbody>\n",
              "    <tr>\n",
              "      <th>0</th>\n",
              "      <td>EID_23371</td>\n",
              "      <td>F</td>\n",
              "      <td>42.0</td>\n",
              "      <td>4</td>\n",
              "      <td>Married</td>\n",
              "      <td>Franklin</td>\n",
              "      <td>IT</td>\n",
              "      <td>Conceptual</td>\n",
              "      <td>4.0</td>\n",
              "      <td>4</td>\n",
              "      <td>33</td>\n",
              "      <td>1</td>\n",
              "      <td>1</td>\n",
              "      <td>7.0</td>\n",
              "      <td>type2</td>\n",
              "      <td>3.0</td>\n",
              "      <td>4</td>\n",
              "      <td>0.7516</td>\n",
              "      <td>1.8688</td>\n",
              "      <td>2.000000</td>\n",
              "      <td>4</td>\n",
              "      <td>5</td>\n",
              "      <td>3</td>\n",
              "    </tr>\n",
              "    <tr>\n",
              "      <th>1</th>\n",
              "      <td>EID_18000</td>\n",
              "      <td>M</td>\n",
              "      <td>24.0</td>\n",
              "      <td>3</td>\n",
              "      <td>Single</td>\n",
              "      <td>Springfield</td>\n",
              "      <td>Logistics</td>\n",
              "      <td>Analytical</td>\n",
              "      <td>5.0</td>\n",
              "      <td>4</td>\n",
              "      <td>36</td>\n",
              "      <td>0</td>\n",
              "      <td>3</td>\n",
              "      <td>6.0</td>\n",
              "      <td>type2</td>\n",
              "      <td>4.0</td>\n",
              "      <td>3</td>\n",
              "      <td>-0.9612</td>\n",
              "      <td>-0.4537</td>\n",
              "      <td>2.000000</td>\n",
              "      <td>3</td>\n",
              "      <td>5</td>\n",
              "      <td>3</td>\n",
              "    </tr>\n",
              "    <tr>\n",
              "      <th>2</th>\n",
              "      <td>EID_3891</td>\n",
              "      <td>F</td>\n",
              "      <td>58.0</td>\n",
              "      <td>3</td>\n",
              "      <td>Married</td>\n",
              "      <td>Clinton</td>\n",
              "      <td>Quality</td>\n",
              "      <td>Conceptual</td>\n",
              "      <td>27.0</td>\n",
              "      <td>3</td>\n",
              "      <td>51</td>\n",
              "      <td>0</td>\n",
              "      <td>2</td>\n",
              "      <td>8.0</td>\n",
              "      <td>type2</td>\n",
              "      <td>1.0</td>\n",
              "      <td>4</td>\n",
              "      <td>-0.9612</td>\n",
              "      <td>-0.4537</td>\n",
              "      <td>3.000000</td>\n",
              "      <td>3</td>\n",
              "      <td>8</td>\n",
              "      <td>3</td>\n",
              "    </tr>\n",
              "    <tr>\n",
              "      <th>3</th>\n",
              "      <td>EID_17492</td>\n",
              "      <td>F</td>\n",
              "      <td>26.0</td>\n",
              "      <td>3</td>\n",
              "      <td>Single</td>\n",
              "      <td>Lebanon</td>\n",
              "      <td>Human Resource Management</td>\n",
              "      <td>Behavioral</td>\n",
              "      <td>4.0</td>\n",
              "      <td>3</td>\n",
              "      <td>56</td>\n",
              "      <td>1</td>\n",
              "      <td>3</td>\n",
              "      <td>8.0</td>\n",
              "      <td>type2</td>\n",
              "      <td>1.0</td>\n",
              "      <td>3</td>\n",
              "      <td>-1.8176</td>\n",
              "      <td>-0.4537</td>\n",
              "      <td>1.895976</td>\n",
              "      <td>3</td>\n",
              "      <td>7</td>\n",
              "      <td>3</td>\n",
              "    </tr>\n",
              "    <tr>\n",
              "      <th>4</th>\n",
              "      <td>EID_22534</td>\n",
              "      <td>F</td>\n",
              "      <td>31.0</td>\n",
              "      <td>1</td>\n",
              "      <td>Married</td>\n",
              "      <td>Springfield</td>\n",
              "      <td>Logistics</td>\n",
              "      <td>Conceptual</td>\n",
              "      <td>5.0</td>\n",
              "      <td>4</td>\n",
              "      <td>62</td>\n",
              "      <td>1</td>\n",
              "      <td>3</td>\n",
              "      <td>2.0</td>\n",
              "      <td>type3</td>\n",
              "      <td>3.0</td>\n",
              "      <td>1</td>\n",
              "      <td>0.7516</td>\n",
              "      <td>-0.4537</td>\n",
              "      <td>2.000000</td>\n",
              "      <td>2</td>\n",
              "      <td>8</td>\n",
              "      <td>2</td>\n",
              "    </tr>\n",
              "  </tbody>\n",
              "</table>\n",
              "</div>"
            ],
            "text/plain": [
              "  Employee_ID Gender   Age  Education_Level  ...      VAR4 VAR5 VAR6 VAR7\n",
              "0   EID_23371      F  42.0                4  ...  2.000000    4    5    3\n",
              "1   EID_18000      M  24.0                3  ...  2.000000    3    5    3\n",
              "2    EID_3891      F  58.0                3  ...  3.000000    3    8    3\n",
              "3   EID_17492      F  26.0                3  ...  1.895976    3    7    3\n",
              "4   EID_22534      F  31.0                1  ...  2.000000    2    8    2\n",
              "\n",
              "[5 rows x 23 columns]"
            ]
          },
          "metadata": {
            "tags": []
          },
          "execution_count": 12
        }
      ]
    },
    {
      "cell_type": "markdown",
      "metadata": {
        "id": "OO56JfM0XAR0",
        "colab_type": "text"
      },
      "source": [
        "\n",
        "\n",
        "For model building with Sci-kit learn we need to have the variables as numerical values.\n",
        "\n",
        "However,we have few variables with the text columns. We are going to dummify these categorical columns before building network on it."
      ]
    },
    {
      "cell_type": "code",
      "metadata": {
        "id": "xwABDfY7ZDrF",
        "colab_type": "code",
        "colab": {
          "base_uri": "https://localhost:8080/",
          "height": 425
        },
        "outputId": "3d62a76c-7b2c-4f68-ef88-de970f6a8cfa"
      },
      "source": [
        "# Import label encoder \n",
        "from sklearn import preprocessing \n",
        "  \n",
        "# label_encoder object knows how to understand word labels. \n",
        "label_encoder = preprocessing.LabelEncoder() \n",
        "  \n",
        "# Encode labels in columns below. \n",
        "dataset['Compensation_and_Benefits']= label_encoder.fit_transform(dataset['Compensation_and_Benefits']) \n",
        "dataset['Decision_skill_possess']= label_encoder.fit_transform(dataset['Decision_skill_possess']) \n",
        "dataset['Unit']= label_encoder.fit_transform(dataset['Unit'])\n",
        "\n",
        "dataset[['Compensation_and_Benefits','Decision_skill_possess','Unit']] = dataset[['Compensation_and_Benefits','Decision_skill_possess','Unit']].astype(object)\n",
        "\n",
        "print(dataset['Compensation_and_Benefits'].value_counts())\n",
        "print(dataset['Decision_skill_possess'].value_counts())\n",
        "print(dataset['Unit'].value_counts())\n"
      ],
      "execution_count": null,
      "outputs": [
        {
          "output_type": "stream",
          "text": [
            "2    5686\n",
            "3    3346\n",
            "4     490\n",
            "0     280\n",
            "1     198\n",
            "Name: Compensation_and_Benefits, dtype: int64\n",
            "1    2535\n",
            "0    2501\n",
            "3    2488\n",
            "2    2476\n",
            "Name: Decision_skill_possess, dtype: int64\n",
            "2     1963\n",
            "3     1648\n",
            "10    1389\n",
            "5     1008\n",
            "9      991\n",
            "7      714\n",
            "0      679\n",
            "1      513\n",
            "4      319\n",
            "6      292\n",
            "8      290\n",
            "11     194\n",
            "Name: Unit, dtype: int64\n"
          ],
          "name": "stdout"
        }
      ]
    },
    {
      "cell_type": "code",
      "metadata": {
        "id": "CL_t1-59W86C",
        "colab_type": "code",
        "colab": {
          "base_uri": "https://localhost:8080/",
          "height": 170
        },
        "outputId": "408331d1-f5f5-4eb7-d706-f3f14d43f4aa"
      },
      "source": [
        "# All the categorical columns\n",
        "\n",
        "var_mod = ['Gender','Relationship_Status']\n",
        "\n",
        "# Dataframe of all the categorical columns\n",
        "\n",
        "categorical_cols=dataset[var_mod]\n",
        "categorical_cols.info()"
      ],
      "execution_count": null,
      "outputs": [
        {
          "output_type": "stream",
          "text": [
            "<class 'pandas.core.frame.DataFrame'>\n",
            "Int64Index: 10000 entries, 0 to 2999\n",
            "Data columns (total 2 columns):\n",
            " #   Column               Non-Null Count  Dtype \n",
            "---  ------               --------------  ----- \n",
            " 0   Gender               10000 non-null  object\n",
            " 1   Relationship_Status  10000 non-null  object\n",
            "dtypes: object(2)\n",
            "memory usage: 234.4+ KB\n"
          ],
          "name": "stdout"
        }
      ]
    },
    {
      "cell_type": "markdown",
      "metadata": {
        "id": "nhunTL5fbdxq",
        "colab_type": "text"
      },
      "source": [
        "In the next step, we will dummify the categorical columns. We will also drop the first column of all the dummied categories."
      ]
    },
    {
      "cell_type": "code",
      "metadata": {
        "id": "rHeEmQbGbQCD",
        "colab_type": "code",
        "colab": {
          "base_uri": "https://localhost:8080/",
          "height": 51
        },
        "outputId": "124d2000-7636-4cee-c55d-d7e903ec586e"
      },
      "source": [
        "dummy_encoded_dataset = pd.get_dummies(categorical_cols,drop_first=True)\n",
        "print(dummy_encoded_dataset.shape)\n",
        "print(dummy_encoded_dataset.columns)"
      ],
      "execution_count": null,
      "outputs": [
        {
          "output_type": "stream",
          "text": [
            "(10000, 2)\n",
            "Index(['Gender_M', 'Relationship_Status_Single'], dtype='object')\n"
          ],
          "name": "stdout"
        }
      ]
    },
    {
      "cell_type": "code",
      "metadata": {
        "id": "0MDaZP-Pbge1",
        "colab_type": "code",
        "colab": {
          "base_uri": "https://localhost:8080/",
          "height": 34
        },
        "outputId": "64f8b97c-63d6-47cd-da5c-2ae751dda2e2"
      },
      "source": [
        "#Let's check the shape of df_train before merging it with dummy_encoded_df_train\n",
        "dataset.shape"
      ],
      "execution_count": null,
      "outputs": [
        {
          "output_type": "execute_result",
          "data": {
            "text/plain": [
              "(10000, 23)"
            ]
          },
          "metadata": {
            "tags": []
          },
          "execution_count": 16
        }
      ]
    },
    {
      "cell_type": "code",
      "metadata": {
        "id": "NulG1BnBblrF",
        "colab_type": "code",
        "colab": {
          "base_uri": "https://localhost:8080/",
          "height": 34
        },
        "outputId": "97ad88cd-6bc9-4cfa-d592-88406d31b500"
      },
      "source": [
        "#Let's merge dummy_encoded_df_train with df_train\n",
        "\n",
        "dataset2 = pd.concat([dataset,dummy_encoded_dataset],1)\n",
        "dataset2.shape"
      ],
      "execution_count": null,
      "outputs": [
        {
          "output_type": "execute_result",
          "data": {
            "text/plain": [
              "(10000, 25)"
            ]
          },
          "metadata": {
            "tags": []
          },
          "execution_count": 17
        }
      ]
    },
    {
      "cell_type": "markdown",
      "metadata": {
        "id": "FKgeON54b0TQ",
        "colab_type": "text"
      },
      "source": [
        "\n",
        "\n",
        "You can see that the number of columns have increased from 23 to 25 after one hot encoding.\n",
        "\n",
        "Let's drop the categorical columns now, as we have their dummified columns as well."
      ]
    },
    {
      "cell_type": "code",
      "metadata": {
        "id": "kM9z4APBbtnW",
        "colab_type": "code",
        "colab": {
          "base_uri": "https://localhost:8080/",
          "height": 34
        },
        "outputId": "6c8259f4-a87d-4b35-8620-3ad78ba73339"
      },
      "source": [
        "drop_categorical_cols = dataset[var_mod]\n",
        "\n",
        "#Let's drop var_mod from onehot_encoded_dataset\n",
        "dataset2.drop(drop_categorical_cols,1,inplace=True)\n",
        "\n",
        "#dataset2 is our new dataframe\n",
        "print(dataset2.shape)"
      ],
      "execution_count": null,
      "outputs": [
        {
          "output_type": "stream",
          "text": [
            "(10000, 23)\n"
          ],
          "name": "stdout"
        }
      ]
    },
    {
      "cell_type": "code",
      "metadata": {
        "id": "k_wsyrlYjBKx",
        "colab_type": "code",
        "colab": {
          "base_uri": "https://localhost:8080/",
          "height": 1000
        },
        "outputId": "f7f463c6-8b01-47d4-ae1f-ef99ea955215"
      },
      "source": [
        "#Let's plot correlation map\n",
        "corr_dataset2 = dataset2.corr().round(2)\n",
        "\n",
        "plt.figure(figsize=(15,15))\n",
        "sns.heatmap(corr_dataset2,cmap=\"BrBG\",annot=True)"
      ],
      "execution_count": null,
      "outputs": [
        {
          "output_type": "execute_result",
          "data": {
            "text/plain": [
              "<matplotlib.axes._subplots.AxesSubplot at 0x7fe541a26c18>"
            ]
          },
          "metadata": {
            "tags": []
          },
          "execution_count": 19
        },
        {
          "output_type": "display_data",
          "data": {
            "image/png": "[encoded data removed]",
            "text/plain": [
              "<Figure size 1080x1080 with 2 Axes>"
            ]
          },
          "metadata": {
            "tags": [],
            "needs_background": "light"
          }
        }
      ]
    },
    {
      "cell_type": "code",
      "metadata": {
        "id": "xAw3_TThkO8X",
        "colab_type": "code",
        "colab": {
          "base_uri": "https://localhost:8080/",
          "height": 224
        },
        "outputId": "3ff4bcb5-c422-4039-b000-8bc84869d9ab"
      },
      "source": [
        "# Create correlation matrix\n",
        "corr_matrix = dataset2.corr().abs()\n",
        "\n",
        "# Select upper triangle of correlation matrix\n",
        "upper = corr_matrix.where(np.triu(np.ones(corr_matrix.shape), k=1).astype(np.bool))\n",
        "\n",
        "# Find features with correlation greater than 0.95\n",
        "to_drop = [column for column in upper.columns if any(upper[column] > 0.80)]\n",
        "\n",
        "# Drop features \n",
        "dataset2.drop(to_drop, axis=1, inplace=True)\n",
        "\n",
        "dataset2.head()"
      ],
      "execution_count": null,
      "outputs": [
        {
          "output_type": "execute_result",
          "data": {
            "text/html": [
              "<div>\n",
              "<style scoped>\n",
              "    .dataframe tbody tr th:only-of-type {\n",
              "        vertical-align: middle;\n",
              "    }\n",
              "\n",
              "    .dataframe tbody tr th {\n",
              "        vertical-align: top;\n",
              "    }\n",
              "\n",
              "    .dataframe thead th {\n",
              "        text-align: right;\n",
              "    }\n",
              "</style>\n",
              "<table border=\"1\" class=\"dataframe\">\n",
              "  <thead>\n",
              "    <tr style=\"text-align: right;\">\n",
              "      <th></th>\n",
              "      <th>Employee_ID</th>\n",
              "      <th>Age</th>\n",
              "      <th>Education_Level</th>\n",
              "      <th>Hometown</th>\n",
              "      <th>Unit</th>\n",
              "      <th>Decision_skill_possess</th>\n",
              "      <th>Time_since_promotion</th>\n",
              "      <th>growth_rate</th>\n",
              "      <th>Travel_Rate</th>\n",
              "      <th>Post_Level</th>\n",
              "      <th>Pay_Scale</th>\n",
              "      <th>Compensation_and_Benefits</th>\n",
              "      <th>Work_Life_balance</th>\n",
              "      <th>VAR1</th>\n",
              "      <th>VAR2</th>\n",
              "      <th>VAR3</th>\n",
              "      <th>VAR4</th>\n",
              "      <th>VAR5</th>\n",
              "      <th>VAR6</th>\n",
              "      <th>VAR7</th>\n",
              "      <th>Gender_M</th>\n",
              "      <th>Relationship_Status_Single</th>\n",
              "    </tr>\n",
              "  </thead>\n",
              "  <tbody>\n",
              "    <tr>\n",
              "      <th>0</th>\n",
              "      <td>EID_23371</td>\n",
              "      <td>42.0</td>\n",
              "      <td>4</td>\n",
              "      <td>Franklin</td>\n",
              "      <td>2</td>\n",
              "      <td>2</td>\n",
              "      <td>4</td>\n",
              "      <td>33</td>\n",
              "      <td>1</td>\n",
              "      <td>1</td>\n",
              "      <td>7.0</td>\n",
              "      <td>2</td>\n",
              "      <td>3.0</td>\n",
              "      <td>4</td>\n",
              "      <td>0.7516</td>\n",
              "      <td>1.8688</td>\n",
              "      <td>2.000000</td>\n",
              "      <td>4</td>\n",
              "      <td>5</td>\n",
              "      <td>3</td>\n",
              "      <td>0</td>\n",
              "      <td>0</td>\n",
              "    </tr>\n",
              "    <tr>\n",
              "      <th>1</th>\n",
              "      <td>EID_18000</td>\n",
              "      <td>24.0</td>\n",
              "      <td>3</td>\n",
              "      <td>Springfield</td>\n",
              "      <td>3</td>\n",
              "      <td>0</td>\n",
              "      <td>4</td>\n",
              "      <td>36</td>\n",
              "      <td>0</td>\n",
              "      <td>3</td>\n",
              "      <td>6.0</td>\n",
              "      <td>2</td>\n",
              "      <td>4.0</td>\n",
              "      <td>3</td>\n",
              "      <td>-0.9612</td>\n",
              "      <td>-0.4537</td>\n",
              "      <td>2.000000</td>\n",
              "      <td>3</td>\n",
              "      <td>5</td>\n",
              "      <td>3</td>\n",
              "      <td>1</td>\n",
              "      <td>1</td>\n",
              "    </tr>\n",
              "    <tr>\n",
              "      <th>2</th>\n",
              "      <td>EID_3891</td>\n",
              "      <td>58.0</td>\n",
              "      <td>3</td>\n",
              "      <td>Clinton</td>\n",
              "      <td>8</td>\n",
              "      <td>2</td>\n",
              "      <td>3</td>\n",
              "      <td>51</td>\n",
              "      <td>0</td>\n",
              "      <td>2</td>\n",
              "      <td>8.0</td>\n",
              "      <td>2</td>\n",
              "      <td>1.0</td>\n",
              "      <td>4</td>\n",
              "      <td>-0.9612</td>\n",
              "      <td>-0.4537</td>\n",
              "      <td>3.000000</td>\n",
              "      <td>3</td>\n",
              "      <td>8</td>\n",
              "      <td>3</td>\n",
              "      <td>0</td>\n",
              "      <td>0</td>\n",
              "    </tr>\n",
              "    <tr>\n",
              "      <th>3</th>\n",
              "      <td>EID_17492</td>\n",
              "      <td>26.0</td>\n",
              "      <td>3</td>\n",
              "      <td>Lebanon</td>\n",
              "      <td>1</td>\n",
              "      <td>1</td>\n",
              "      <td>3</td>\n",
              "      <td>56</td>\n",
              "      <td>1</td>\n",
              "      <td>3</td>\n",
              "      <td>8.0</td>\n",
              "      <td>2</td>\n",
              "      <td>1.0</td>\n",
              "      <td>3</td>\n",
              "      <td>-1.8176</td>\n",
              "      <td>-0.4537</td>\n",
              "      <td>1.895976</td>\n",
              "      <td>3</td>\n",
              "      <td>7</td>\n",
              "      <td>3</td>\n",
              "      <td>0</td>\n",
              "      <td>1</td>\n",
              "    </tr>\n",
              "    <tr>\n",
              "      <th>4</th>\n",
              "      <td>EID_22534</td>\n",
              "      <td>31.0</td>\n",
              "      <td>1</td>\n",
              "      <td>Springfield</td>\n",
              "      <td>3</td>\n",
              "      <td>2</td>\n",
              "      <td>4</td>\n",
              "      <td>62</td>\n",
              "      <td>1</td>\n",
              "      <td>3</td>\n",
              "      <td>2.0</td>\n",
              "      <td>3</td>\n",
              "      <td>3.0</td>\n",
              "      <td>1</td>\n",
              "      <td>0.7516</td>\n",
              "      <td>-0.4537</td>\n",
              "      <td>2.000000</td>\n",
              "      <td>2</td>\n",
              "      <td>8</td>\n",
              "      <td>2</td>\n",
              "      <td>0</td>\n",
              "      <td>0</td>\n",
              "    </tr>\n",
              "  </tbody>\n",
              "</table>\n",
              "</div>"
            ],
            "text/plain": [
              "  Employee_ID   Age  ...  Gender_M Relationship_Status_Single\n",
              "0   EID_23371  42.0  ...         0                          0\n",
              "1   EID_18000  24.0  ...         1                          1\n",
              "2    EID_3891  58.0  ...         0                          0\n",
              "3   EID_17492  26.0  ...         0                          1\n",
              "4   EID_22534  31.0  ...         0                          0\n",
              "\n",
              "[5 rows x 22 columns]"
            ]
          },
          "metadata": {
            "tags": []
          },
          "execution_count": 20
        }
      ]
    },
    {
      "cell_type": "code",
      "metadata": {
        "id": "uNEmetO2b37V",
        "colab_type": "code",
        "colab": {}
      },
      "source": [
        "Employee_ID = dataset2['Employee_ID']\n",
        "dataset2.drop(['Employee_ID','Hometown'],1,inplace=True)"
      ],
      "execution_count": null,
      "outputs": []
    },
    {
      "cell_type": "code",
      "metadata": {
        "id": "q2bQl_WTcyC4",
        "colab_type": "code",
        "colab": {}
      },
      "source": [
        "#Scaling and normalization \n",
        "from sklearn.preprocessing import StandardScaler\n",
        "ss=StandardScaler()\n",
        "\n",
        "feature_set=ss.fit_transform(dataset2)"
      ],
      "execution_count": null,
      "outputs": []
    },
    {
      "cell_type": "markdown",
      "metadata": {
        "id": "v1QaRO1GjUrp",
        "colab_type": "text"
      },
      "source": [
        "Creating Train and Validation Data\n",
        "\n",
        "In this step we are going to create data models that are capable of predicting the Employee attrition. Inorder to create these models first we split the given Train dataset into Train and Validation datasets.\n",
        "\n",
        "Train dataset is the one which have the features. We will train the model based on these values to validate the Validation dataset values.\n",
        "\n",
        "Let's split the data into training and validation datasets"
      ]
    },
    {
      "cell_type": "code",
      "metadata": {
        "id": "MbSc-Wltc0c9",
        "colab_type": "code",
        "colab": {
          "base_uri": "https://localhost:8080/",
          "height": 68
        },
        "outputId": "c3ee157d-e13b-4539-d58b-53a82ef458bc"
      },
      "source": [
        "#Spliting the dataset into training and testing sets \n",
        "df_train = (feature_set[:7000])   #Used for training the model\n",
        "df_test = (feature_set[7000:])    #Used as a final file for prediction\n",
        "\n",
        "features=df_train\n",
        "print(features.shape)\n",
        "print(target.shape)\n",
        "print(df_test.shape)"
      ],
      "execution_count": null,
      "outputs": [
        {
          "output_type": "stream",
          "text": [
            "(7000, 20)\n",
            "(7000,)\n",
            "(3000, 20)\n"
          ],
          "name": "stdout"
        }
      ]
    },
    {
      "cell_type": "code",
      "metadata": {
        "id": "_nmtNp4UeTC7",
        "colab_type": "code",
        "colab": {
          "base_uri": "https://localhost:8080/",
          "height": 85
        },
        "outputId": "db10ebc8-26b8-4b99-e852-1560e808999f"
      },
      "source": [
        "#Split input and output into desired splits of train and validation\n",
        "from sklearn.model_selection import train_test_split\n",
        "X_train,X_test,y_train,y_test=train_test_split(features,target,test_size=0.20,random_state=1234)\n",
        "print(X_train.shape)\n",
        "print(y_train.shape)\n",
        "print(X_test.shape)\n",
        "print(y_test.shape)"
      ],
      "execution_count": null,
      "outputs": [
        {
          "output_type": "stream",
          "text": [
            "(5600, 20)\n",
            "(5600,)\n",
            "(1400, 20)\n",
            "(1400,)\n"
          ],
          "name": "stdout"
        }
      ]
    },
    {
      "cell_type": "markdown",
      "metadata": {
        "id": "_yYrni3eegkM",
        "colab_type": "text"
      },
      "source": [
        "Entire dataset has been splitted into Train and Test datasets X_train and X_test respectively. \n",
        "\n",
        "As a first model in creating data models for predicting attrition rate values, I'm going to create a linear regression model"
      ]
    },
    {
      "cell_type": "markdown",
      "metadata": {
        "id": "E3RYpZ6DekAF",
        "colab_type": "text"
      },
      "source": [
        "Linear Regression Model\n"
      ]
    },
    {
      "cell_type": "code",
      "metadata": {
        "id": "crGLdmL2eaL7",
        "colab_type": "code",
        "colab": {
          "base_uri": "https://localhost:8080/",
          "height": 34
        },
        "outputId": "19374a67-e74c-4de2-8018-8e72a238948d"
      },
      "source": [
        "from sklearn import model_selection, metrics                                     # Importing model selection and metrics from sklearn\n",
        "from sklearn.linear_model import LinearRegression                                # Importing LinearRegression from sklearn\n",
        "\n",
        "lin_model = LinearRegression()\n",
        "lin_model.fit(X_train,y_train)                                                   # Fitting the model on X_train and y_train"
      ],
      "execution_count": null,
      "outputs": [
        {
          "output_type": "execute_result",
          "data": {
            "text/plain": [
              "LinearRegression(copy_X=True, fit_intercept=True, n_jobs=None, normalize=False)"
            ]
          },
          "metadata": {
            "tags": []
          },
          "execution_count": 25
        }
      ]
    },
    {
      "cell_type": "code",
      "metadata": {
        "id": "9Esmo7sqem4U",
        "colab_type": "code",
        "colab": {
          "base_uri": "https://localhost:8080/",
          "height": 51
        },
        "outputId": "220b6b4e-2817-47f4-e411-3b435d4e4652"
      },
      "source": [
        "#Making the predictions \n",
        "df_train_predictions = lin_model.predict(X_test)\n",
        "\n",
        "# Lets have a look at some of the predictions\n",
        "df_train_predictions[:10]"
      ],
      "execution_count": null,
      "outputs": [
        {
          "output_type": "execute_result",
          "data": {
            "text/plain": [
              "array([0.17038757, 0.16388546, 0.18332897, 0.17332663, 0.19953601,\n",
              "       0.18802592, 0.19399631, 0.18224558, 0.18766431, 0.1688869 ])"
            ]
          },
          "metadata": {
            "tags": []
          },
          "execution_count": 26
        }
      ]
    },
    {
      "cell_type": "code",
      "metadata": {
        "id": "2hJdvKftepqG",
        "colab_type": "code",
        "colab": {
          "base_uri": "https://localhost:8080/",
          "height": 68
        },
        "outputId": "833c0a78-940a-48a2-9819-f51e82774387"
      },
      "source": [
        "print(\"RMSE:\",(np.sqrt(metrics.mean_squared_error(y_test, df_train_predictions))))\n",
        "print(\"Score:\",(100*max(0,1-np.sqrt(metrics.mean_squared_error(y_test,df_train_predictions)))))\n",
        "print(metrics.r2_score(y_test,df_train_predictions))"
      ],
      "execution_count": null,
      "outputs": [
        {
          "output_type": "stream",
          "text": [
            "RMSE: 0.1805195079102008\n",
            "Score: 81.94804920897992\n",
            "0.005855007464454776\n"
          ],
          "name": "stdout"
        }
      ]
    },
    {
      "cell_type": "markdown",
      "metadata": {
        "id": "kyTczf116PD8",
        "colab_type": "text"
      },
      "source": [
        "Let's go ahead with our last step of using the above model for predictions\n",
        "\n",
        "Let's save our model using pickle so the next time we open the files, we can save time in running the model again and proceed with predictions"
      ]
    },
    {
      "cell_type": "code",
      "metadata": {
        "id": "ntO6bTVo3loE",
        "colab_type": "code",
        "colab": {
          "base_uri": "https://localhost:8080/",
          "height": 34
        },
        "outputId": "d274856a-18dc-4b3a-896e-442e83c761b0"
      },
      "source": [
        "#Saving the Model\n",
        "import pickle \n",
        "  \n",
        "# Save the trained model as a pickle string. \n",
        "saved_model = pickle.dumps(lin_model) \n",
        "  \n",
        "# Load the pickled model \n",
        "model_from_pickle = pickle.loads(saved_model) \n",
        "  \n",
        "# Use the loaded pickled model to make predictions \n",
        "result = model_from_pickle.predict(df_test)      #np.array\n",
        "print(result)\n",
        "\n",
        "#Converting the result variable to dataframe\n",
        "submission = pd.DataFrame(result)"
      ],
      "execution_count": null,
      "outputs": [
        {
          "output_type": "stream",
          "text": [
            "[0.20901585 0.1964302  0.17970818 ... 0.17630644 0.15444453 0.18509391]\n"
          ],
          "name": "stdout"
        }
      ]
    },
    {
      "cell_type": "code",
      "metadata": {
        "id": "BcqgxvRb43qd",
        "colab_type": "code",
        "colab": {
          "base_uri": "https://localhost:8080/",
          "height": 204
        },
        "outputId": "549fada9-e763-4f8c-a053-203db5cc505a"
      },
      "source": [
        "#Final submission dataframe with Incident_ID and Multiple_Offense\n",
        "submission['Employee_ID'] = (test_df['Employee_ID'])\n",
        "submission = submission.rename(columns={0: 'Attrition_rate'})\n",
        "submission['Attrition_rate'].value_counts()\n",
        "submission.head()"
      ],
      "execution_count": null,
      "outputs": [
        {
          "output_type": "execute_result",
          "data": {
            "text/html": [
              "<div>\n",
              "<style scoped>\n",
              "    .dataframe tbody tr th:only-of-type {\n",
              "        vertical-align: middle;\n",
              "    }\n",
              "\n",
              "    .dataframe tbody tr th {\n",
              "        vertical-align: top;\n",
              "    }\n",
              "\n",
              "    .dataframe thead th {\n",
              "        text-align: right;\n",
              "    }\n",
              "</style>\n",
              "<table border=\"1\" class=\"dataframe\">\n",
              "  <thead>\n",
              "    <tr style=\"text-align: right;\">\n",
              "      <th></th>\n",
              "      <th>Attrition_rate</th>\n",
              "      <th>Employee_ID</th>\n",
              "    </tr>\n",
              "  </thead>\n",
              "  <tbody>\n",
              "    <tr>\n",
              "      <th>0</th>\n",
              "      <td>0.209016</td>\n",
              "      <td>EID_22713</td>\n",
              "    </tr>\n",
              "    <tr>\n",
              "      <th>1</th>\n",
              "      <td>0.196430</td>\n",
              "      <td>EID_9658</td>\n",
              "    </tr>\n",
              "    <tr>\n",
              "      <th>2</th>\n",
              "      <td>0.179708</td>\n",
              "      <td>EID_22203</td>\n",
              "    </tr>\n",
              "    <tr>\n",
              "      <th>3</th>\n",
              "      <td>0.216563</td>\n",
              "      <td>EID_7652</td>\n",
              "    </tr>\n",
              "    <tr>\n",
              "      <th>4</th>\n",
              "      <td>0.196112</td>\n",
              "      <td>EID_6516</td>\n",
              "    </tr>\n",
              "  </tbody>\n",
              "</table>\n",
              "</div>"
            ],
            "text/plain": [
              "   Attrition_rate Employee_ID\n",
              "0        0.209016   EID_22713\n",
              "1        0.196430    EID_9658\n",
              "2        0.179708   EID_22203\n",
              "3        0.216563    EID_7652\n",
              "4        0.196112    EID_6516"
            ]
          },
          "metadata": {
            "tags": []
          },
          "execution_count": 30
        }
      ]
    },
    {
      "cell_type": "code",
      "metadata": {
        "id": "d174bzN96T3u",
        "colab_type": "code",
        "colab": {}
      },
      "source": [
        "submission.to_csv('results.csv', index=False, header=True)"
      ],
      "execution_count": null,
      "outputs": []
    },
    {
      "cell_type": "markdown",
      "metadata": {
        "id": "urizr9ijlHGE",
        "colab_type": "text"
      },
      "source": [
        "___________________________________________"
      ]
    }
  ]
}